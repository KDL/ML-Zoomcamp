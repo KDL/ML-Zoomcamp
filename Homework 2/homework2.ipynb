{
 "cells": [
  {
   "cell_type": "markdown",
   "metadata": {},
   "source": [
    "# Homework 2\r\n",
    "ML-Zoomcamp\r\n"
   ]
  },
  {
   "cell_type": "code",
   "execution_count": 20,
   "metadata": {},
   "outputs": [],
   "source": [
    "# load libraries\r\n",
    "import numpy as np\r\n",
    "import pandas as pd\r\n",
    "\r\n",
    "#load data\r\n",
    "df = pd.read_csv('AB_NYC_2019.csv')"
   ]
  },
  {
   "cell_type": "code",
   "execution_count": 21,
   "metadata": {},
   "outputs": [
    {
     "data": {
      "text/html": [
       "<div>\n",
       "<style scoped>\n",
       "    .dataframe tbody tr th:only-of-type {\n",
       "        vertical-align: middle;\n",
       "    }\n",
       "\n",
       "    .dataframe tbody tr th {\n",
       "        vertical-align: top;\n",
       "    }\n",
       "\n",
       "    .dataframe thead th {\n",
       "        text-align: right;\n",
       "    }\n",
       "</style>\n",
       "<table border=\"1\" class=\"dataframe\">\n",
       "  <thead>\n",
       "    <tr style=\"text-align: right;\">\n",
       "      <th></th>\n",
       "      <th>latitude</th>\n",
       "      <th>longitude</th>\n",
       "      <th>price</th>\n",
       "      <th>minimum_nights</th>\n",
       "      <th>number_of_reviews</th>\n",
       "      <th>reviews_per_month</th>\n",
       "      <th>calculated_host_listings_count</th>\n",
       "      <th>availability_365</th>\n",
       "    </tr>\n",
       "  </thead>\n",
       "  <tbody>\n",
       "    <tr>\n",
       "      <th>0</th>\n",
       "      <td>40.64749</td>\n",
       "      <td>-73.97237</td>\n",
       "      <td>149</td>\n",
       "      <td>1</td>\n",
       "      <td>9</td>\n",
       "      <td>0.21</td>\n",
       "      <td>6</td>\n",
       "      <td>365</td>\n",
       "    </tr>\n",
       "    <tr>\n",
       "      <th>1</th>\n",
       "      <td>40.75362</td>\n",
       "      <td>-73.98377</td>\n",
       "      <td>225</td>\n",
       "      <td>1</td>\n",
       "      <td>45</td>\n",
       "      <td>0.38</td>\n",
       "      <td>2</td>\n",
       "      <td>355</td>\n",
       "    </tr>\n",
       "    <tr>\n",
       "      <th>2</th>\n",
       "      <td>40.80902</td>\n",
       "      <td>-73.94190</td>\n",
       "      <td>150</td>\n",
       "      <td>3</td>\n",
       "      <td>0</td>\n",
       "      <td>NaN</td>\n",
       "      <td>1</td>\n",
       "      <td>365</td>\n",
       "    </tr>\n",
       "    <tr>\n",
       "      <th>3</th>\n",
       "      <td>40.68514</td>\n",
       "      <td>-73.95976</td>\n",
       "      <td>89</td>\n",
       "      <td>1</td>\n",
       "      <td>270</td>\n",
       "      <td>4.64</td>\n",
       "      <td>1</td>\n",
       "      <td>194</td>\n",
       "    </tr>\n",
       "    <tr>\n",
       "      <th>4</th>\n",
       "      <td>40.79851</td>\n",
       "      <td>-73.94399</td>\n",
       "      <td>80</td>\n",
       "      <td>10</td>\n",
       "      <td>9</td>\n",
       "      <td>0.10</td>\n",
       "      <td>1</td>\n",
       "      <td>0</td>\n",
       "    </tr>\n",
       "    <tr>\n",
       "      <th>...</th>\n",
       "      <td>...</td>\n",
       "      <td>...</td>\n",
       "      <td>...</td>\n",
       "      <td>...</td>\n",
       "      <td>...</td>\n",
       "      <td>...</td>\n",
       "      <td>...</td>\n",
       "      <td>...</td>\n",
       "    </tr>\n",
       "    <tr>\n",
       "      <th>48890</th>\n",
       "      <td>40.67853</td>\n",
       "      <td>-73.94995</td>\n",
       "      <td>70</td>\n",
       "      <td>2</td>\n",
       "      <td>0</td>\n",
       "      <td>NaN</td>\n",
       "      <td>2</td>\n",
       "      <td>9</td>\n",
       "    </tr>\n",
       "    <tr>\n",
       "      <th>48891</th>\n",
       "      <td>40.70184</td>\n",
       "      <td>-73.93317</td>\n",
       "      <td>40</td>\n",
       "      <td>4</td>\n",
       "      <td>0</td>\n",
       "      <td>NaN</td>\n",
       "      <td>2</td>\n",
       "      <td>36</td>\n",
       "    </tr>\n",
       "    <tr>\n",
       "      <th>48892</th>\n",
       "      <td>40.81475</td>\n",
       "      <td>-73.94867</td>\n",
       "      <td>115</td>\n",
       "      <td>10</td>\n",
       "      <td>0</td>\n",
       "      <td>NaN</td>\n",
       "      <td>1</td>\n",
       "      <td>27</td>\n",
       "    </tr>\n",
       "    <tr>\n",
       "      <th>48893</th>\n",
       "      <td>40.75751</td>\n",
       "      <td>-73.99112</td>\n",
       "      <td>55</td>\n",
       "      <td>1</td>\n",
       "      <td>0</td>\n",
       "      <td>NaN</td>\n",
       "      <td>6</td>\n",
       "      <td>2</td>\n",
       "    </tr>\n",
       "    <tr>\n",
       "      <th>48894</th>\n",
       "      <td>40.76404</td>\n",
       "      <td>-73.98933</td>\n",
       "      <td>90</td>\n",
       "      <td>7</td>\n",
       "      <td>0</td>\n",
       "      <td>NaN</td>\n",
       "      <td>1</td>\n",
       "      <td>23</td>\n",
       "    </tr>\n",
       "  </tbody>\n",
       "</table>\n",
       "<p>48895 rows × 8 columns</p>\n",
       "</div>"
      ],
      "text/plain": [
       "       latitude  longitude  price  minimum_nights  number_of_reviews  \\\n",
       "0      40.64749  -73.97237    149               1                  9   \n",
       "1      40.75362  -73.98377    225               1                 45   \n",
       "2      40.80902  -73.94190    150               3                  0   \n",
       "3      40.68514  -73.95976     89               1                270   \n",
       "4      40.79851  -73.94399     80              10                  9   \n",
       "...         ...        ...    ...             ...                ...   \n",
       "48890  40.67853  -73.94995     70               2                  0   \n",
       "48891  40.70184  -73.93317     40               4                  0   \n",
       "48892  40.81475  -73.94867    115              10                  0   \n",
       "48893  40.75751  -73.99112     55               1                  0   \n",
       "48894  40.76404  -73.98933     90               7                  0   \n",
       "\n",
       "       reviews_per_month  calculated_host_listings_count  availability_365  \n",
       "0                   0.21                               6               365  \n",
       "1                   0.38                               2               355  \n",
       "2                    NaN                               1               365  \n",
       "3                   4.64                               1               194  \n",
       "4                   0.10                               1                 0  \n",
       "...                  ...                             ...               ...  \n",
       "48890                NaN                               2                 9  \n",
       "48891                NaN                               2                36  \n",
       "48892                NaN                               1                27  \n",
       "48893                NaN                               6                 2  \n",
       "48894                NaN                               1                23  \n",
       "\n",
       "[48895 rows x 8 columns]"
      ]
     },
     "execution_count": 21,
     "metadata": {},
     "output_type": "execute_result"
    }
   ],
   "source": [
    "#select only several features\r\n",
    "df = df[['latitude',\r\n",
    "'longitude',\r\n",
    "'price',\r\n",
    "'minimum_nights',\r\n",
    "'number_of_reviews',\r\n",
    "'reviews_per_month',\r\n",
    "'calculated_host_listings_count',\r\n",
    "'availability_365']]\r\n",
    "df"
   ]
  },
  {
   "cell_type": "markdown",
   "metadata": {},
   "source": [
    "## Q1: Find a feature with missing values"
   ]
  },
  {
   "cell_type": "code",
   "execution_count": 22,
   "metadata": {},
   "outputs": [
    {
     "data": {
      "text/plain": [
       "latitude                              0\n",
       "longitude                             0\n",
       "price                                 0\n",
       "minimum_nights                        0\n",
       "number_of_reviews                     0\n",
       "reviews_per_month                 10052\n",
       "calculated_host_listings_count        0\n",
       "availability_365                      0\n",
       "dtype: int64"
      ]
     },
     "execution_count": 22,
     "metadata": {},
     "output_type": "execute_result"
    }
   ],
   "source": [
    "df.isnull().sum()"
   ]
  },
  {
   "cell_type": "markdown",
   "metadata": {},
   "source": [
    "reviews_per_month has 10052 null values"
   ]
  },
  {
   "cell_type": "markdown",
   "metadata": {},
   "source": [
    "## Q2: Quantile for minimum_nights"
   ]
  },
  {
   "cell_type": "code",
   "execution_count": 23,
   "metadata": {},
   "outputs": [
    {
     "data": {
      "text/plain": [
       "3.0"
      ]
     },
     "execution_count": 23,
     "metadata": {},
     "output_type": "execute_result"
    }
   ],
   "source": [
    "df[\"minimum_nights\"].quantile()\r\n",
    "#np.median(df[\"minimum_nights\"]) #or median directly since 50% is just median"
   ]
  },
  {
   "cell_type": "markdown",
   "metadata": {},
   "source": [
    "## Splitting the data"
   ]
  },
  {
   "cell_type": "code",
   "execution_count": 29,
   "metadata": {},
   "outputs": [],
   "source": [
    "# shuffle seed 42\r\n",
    "idx = np.arange(len(df))\r\n",
    "np.random.seed(42)\r\n",
    "np.random.shuffle(idx)\r\n",
    "\r\n",
    "#split into 60/20/20\r\n",
    "n_train = int(0.6 *  len(df))\r\n",
    "n_val = int(0.2 *  len(df))\r\n",
    "n_test = len(df) - n_train - n_val\r\n",
    "\r\n",
    "#get unique index\r\n",
    "idx_train = idx[:n_train]\r\n",
    "idx_val = idx[n_train:n_train+n_val]\r\n",
    "idx_test = idx[n_train+n_val:]\r\n",
    "\r\n",
    "#get df\r\n",
    "df_train = df.iloc[idx_train]\r\n",
    "df_val = df.iloc[idx_val]\r\n",
    "df_test = df.iloc[idx_test]\r\n",
    "\r\n",
    "\r\n",
    "#remove price (output label) \r\n",
    "del df_train[\"price\"]\r\n",
    "del df_val[\"price\"]\r\n",
    "del df_test[\"price\"]\r\n",
    "\r\n",
    "#get regression values\r\n",
    "y_train = np.log1p(df.iloc[idx_train][\"price\"].values)\r\n",
    "y_val = np.log1p(df.iloc[idx_val][\"price\"].values)\r\n",
    "y_test = np.log1p(df.iloc[idx_test][\"price\"].values)"
   ]
  },
  {
   "cell_type": "markdown",
   "metadata": {},
   "source": [
    "## Q3: zero vs mean"
   ]
  },
  {
   "cell_type": "code",
   "execution_count": 76,
   "metadata": {},
   "outputs": [],
   "source": [
    "# Should we use zeros or mean? \r\n",
    "\r\n",
    "#filling it with 0\r\n",
    "df0 = df.fillna(0)\r\n",
    "\r\n",
    "#filling with mean\r\n",
    "dfm = df.fillna(df.mean())"
   ]
  },
  {
   "cell_type": "code",
   "execution_count": 110,
   "metadata": {},
   "outputs": [],
   "source": [
    "#train linear regression function\r\n",
    "def train_linear_regression(X,y, r = 0):\r\n",
    "   \r\n",
    "    # get Numpy array x^0 + x^1\r\n",
    "    ones = np.ones(X.shape[0])\r\n",
    "    X = np.column_stack([ones,X])\r\n",
    "    \r\n",
    "    # X'X\r\n",
    "    XTX = X.T.dot(X) + r * np.eye(X.shape[1])\r\n",
    "    XTXinv = np.linalg.inv(XTX)\r\n",
    "    w = XTXinv.dot(X.T).dot(y)\r\n",
    "    return w\r\n",
    "\r\n",
    "\r\n",
    "def linear_regression(X,w):\r\n",
    "    ones = np.ones(X.shape[0])\r\n",
    "    X = np.column_stack([ones,X])\r\n",
    "    a= np.dot(X,w)\r\n",
    "    return a\r\n",
    "\r\n",
    "def rmse(x,y):\r\n",
    "    return np.sqrt(np.mean((x-y)**2))\r\n"
   ]
  },
  {
   "cell_type": "code",
   "execution_count": 111,
   "metadata": {},
   "outputs": [
    {
     "name": "stdout",
     "output_type": "stream",
     "text": [
      "Using Fill NA with 0, RMSE is 0.64\n"
     ]
    }
   ],
   "source": [
    "# results of training by filling NaN with zeros\r\n",
    "df0_train = df0.iloc[idx_train]\r\n",
    "del df0_train[\"price\"]\r\n",
    "\r\n",
    "X0_train = df0_train.values\r\n",
    "w0 = train_linear_regression(X0_train,y_train)\r\n",
    "\r\n",
    "y0_val = linear_regression(df_val.fillna(0).values,w0)\r\n",
    "#y0_train\r\n",
    "print(\"Using Fill NA with 0, RMSE is %2.2f\" % round(rmse(y0_val,y_val),2))\r\n"
   ]
  },
  {
   "cell_type": "code",
   "execution_count": 112,
   "metadata": {},
   "outputs": [
    {
     "name": "stdout",
     "output_type": "stream",
     "text": [
      "Using Fill NA with mean, RMSE is 0.64\n"
     ]
    }
   ],
   "source": [
    "# results of training by filling NaN with mean\r\n",
    "dfm_train = dfm.iloc[idx_train]\r\n",
    "del dfm_train[\"price\"]\r\n",
    "\r\n",
    "Xm_train = dfm_train.values\r\n",
    "wm = train_linear_regression(Xm_train,y_train)\r\n",
    "\r\n",
    "ym_val = linear_regression(df_val.fillna(df_val.mean()).values,w0)\r\n",
    "#y0_train\r\n",
    "print(\"Using Fill NA with mean, RMSE is %2.2f\" % round(rmse(ym_val,y_val),2))\r\n"
   ]
  },
  {
   "cell_type": "code",
   "execution_count": 114,
   "metadata": {},
   "outputs": [
    {
     "name": "stdout",
     "output_type": "stream",
     "text": [
      "L2 norm error for NA -> 0: 0.64303378\n",
      "L2 norm error for NA -> Mean 0.64328657\n"
     ]
    }
   ],
   "source": [
    "#--------- extra-----\r\n",
    "#hmmm, this doesn't make sense, was the error this small?\r\n",
    "\r\n",
    "print(\"L2 norm error for NA -> 0: %2.8f\" % rmse(y0_val,y_val))\r\n",
    "print(\"L2 norm error for NA -> Mean %2.8f\" % rmse(ym_val,y_val))\r\n",
    "\r\n",
    "#ah because we are changing NA in both of outputs and inputs?"
   ]
  },
  {
   "cell_type": "markdown",
   "metadata": {},
   "source": [
    "## Q4: Little bit of Regularization"
   ]
  },
  {
   "cell_type": "code",
   "execution_count": 117,
   "metadata": {},
   "outputs": [
    {
     "name": "stdout",
     "output_type": "stream",
     "text": [
      "0.00000 \t 0.64\n",
      "0.00000 \t 0.64\n",
      "0.00010 \t 0.64\n",
      "0.00100 \t 0.64\n",
      "0.01000 \t 0.66\n",
      "0.10000 \t 0.68\n",
      "1.00000 \t 0.68\n",
      "5.00000 \t 0.68\n",
      "10.00000 \t 0.68\n"
     ]
    }
   ],
   "source": [
    "for r in [0, 0.000001, 0.0001, 0.001, 0.01, 0.1, 1, 5, 10]:\r\n",
    "    X0_train = df0_train.values\r\n",
    "    w0 = train_linear_regression(X0_train,y_train,r)\r\n",
    "    y0_val = linear_regression(df_val.fillna(0).values,w0)\r\n",
    "\r\n",
    "    print(\"%2.5f \\t %2.2f\" % ( r, round(rmse(y0_val,y_val),2)))"
   ]
  },
  {
   "cell_type": "markdown",
   "metadata": {},
   "source": [
    "## Q5: std"
   ]
  },
  {
   "cell_type": "code",
   "execution_count": 130,
   "metadata": {},
   "outputs": [
    {
     "name": "stdout",
     "output_type": "stream",
     "text": [
      "seed: 0 \t rmse:0.65\n",
      "seed: 1 \t rmse:0.65\n",
      "seed: 2 \t rmse:0.65\n",
      "seed: 3 \t rmse:0.64\n",
      "seed: 4 \t rmse:0.64\n",
      "seed: 5 \t rmse:0.63\n",
      "seed: 6 \t rmse:0.63\n",
      "seed: 7 \t rmse:0.65\n",
      "seed: 8 \t rmse:0.65\n",
      "seed: 9 \t rmse:0.64\n",
      "std of RMSE: 0.008\n"
     ]
    }
   ],
   "source": [
    "allv = [];\r\n",
    "for seed in [0, 1, 2, 3, 4, 5, 6, 7, 8, 9]:\r\n",
    "    idx = np.arange(len(df))\r\n",
    "    np.random.seed(seed)\r\n",
    "    np.random.shuffle(idx)\r\n",
    "\r\n",
    "    #split into 60/20/20\r\n",
    "    n_train = int(0.6 *  len(df))\r\n",
    "    n_val = int(0.2 *  len(df))\r\n",
    "    n_test = len(df) - n_train - n_val\r\n",
    "\r\n",
    "    #get unique index\r\n",
    "    idx_train = idx[:n_train]\r\n",
    "    idx_val = idx[n_train:n_train+n_val]\r\n",
    "    idx_test = idx[n_train+n_val:]\r\n",
    "\r\n",
    "    #get df\r\n",
    "    df_train = df.iloc[idx_train].fillna(0)\r\n",
    "    df_val = df.iloc[idx_val].fillna(0)\r\n",
    "    df_test = df.iloc[idx_test].fillna(0)\r\n",
    "\r\n",
    "\r\n",
    "    #remove price (output label) \r\n",
    "    del df_train[\"price\"]\r\n",
    "    del df_val[\"price\"]\r\n",
    "    del df_test[\"price\"]\r\n",
    "\r\n",
    "    #get regression values\r\n",
    "    y_train = np.log1p(df.iloc[idx_train][\"price\"].values)\r\n",
    "    y_val = np.log1p(df.iloc[idx_val][\"price\"].values)\r\n",
    "    y_test = np.log1p(df.iloc[idx_test][\"price\"].values)\r\n",
    "\r\n",
    "\r\n",
    "    X_train = df_train.values\r\n",
    "    w = train_linear_regression(X_train,y_train,r=0)\r\n",
    "    yhat_val = linear_regression(df_val.fillna(0).values,w)\r\n",
    "    print(\"seed: %d \\t rmse:%2.2f\" % ( seed, round(rmse(yhat_val,y_val),2)))\r\n",
    "\r\n",
    "    allv.append(rmse(yhat_val,y_val))\r\n",
    "\r\n",
    "stdrmse  = np.std(allv)\r\n",
    "print(\"std of RMSE: %.3f\" % round(stdrmse,3))"
   ]
  },
  {
   "cell_type": "markdown",
   "metadata": {},
   "source": [
    "## Q6: RMSE on test datatest"
   ]
  },
  {
   "cell_type": "code",
   "execution_count": 129,
   "metadata": {},
   "outputs": [
    {
     "name": "stdout",
     "output_type": "stream",
     "text": [
      "seed: 9 \t rmse:0.65\n"
     ]
    }
   ],
   "source": [
    "seed = 9;\r\n",
    "idx = np.arange(len(df))\r\n",
    "np.random.seed(seed)\r\n",
    "np.random.shuffle(idx)\r\n",
    "\r\n",
    "#split into 80/20\r\n",
    "n_trainval = int(0.8 *  len(df))\r\n",
    "n_test = len(df) - n_trainval\r\n",
    "\r\n",
    "#get unique index\r\n",
    "idx_trainval = idx[:n_trainval]\r\n",
    "idx_test = idx[n_trainval:]\r\n",
    "\r\n",
    "#get df\r\n",
    "df_trainval = df.iloc[idx_trainval].fillna(0)\r\n",
    "df_test = df.iloc[idx_test].fillna(0)\r\n",
    "\r\n",
    "\r\n",
    "#remove price (output label) \r\n",
    "del df_trainval[\"price\"]\r\n",
    "del df_test[\"price\"]\r\n",
    "\r\n",
    "#get regression values\r\n",
    "y_trainval = np.log1p(df.iloc[idx_trainval][\"price\"].values)\r\n",
    "y_test = np.log1p(df.iloc[idx_test][\"price\"].values)\r\n",
    "\r\n",
    "\r\n",
    "X_trainval = df_trainval.values\r\n",
    "w = train_linear_regression(X_trainval,y_trainval,r=0.001)\r\n",
    "yhat_test = linear_regression(df_test.fillna(0).values,w)\r\n",
    "print(\"seed: %d \\t rmse:%2.2f\" % ( seed, round(rmse(yhat_test,y_test),2)))\r\n"
   ]
  },
  {
   "cell_type": "markdown",
   "metadata": {},
   "source": [
    "Completed! :D"
   ]
  }
 ],
 "metadata": {
  "interpreter": {
   "hash": "8adc0f1b6d3ef35c7cd11bc7b6b8b8d8478dc538640b17df34a7d3db85fc9445"
  },
  "kernelspec": {
   "display_name": "Python 3.8.8 64-bit ('base': conda)",
   "name": "python3"
  },
  "language_info": {
   "codemirror_mode": {
    "name": "ipython",
    "version": 3
   },
   "file_extension": ".py",
   "mimetype": "text/x-python",
   "name": "python",
   "nbconvert_exporter": "python",
   "pygments_lexer": "ipython3",
   "version": "3.8.8"
  },
  "orig_nbformat": 4
 },
 "nbformat": 4,
 "nbformat_minor": 2
}