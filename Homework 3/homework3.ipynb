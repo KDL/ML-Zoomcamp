{
 "cells": [
  {
   "cell_type": "markdown",
   "metadata": {},
   "source": [
    "Homework 3"
   ]
  },
  {
   "cell_type": "code",
   "execution_count": 58,
   "metadata": {},
   "outputs": [],
   "source": [
    "#usual imports\r\n",
    "import numpy as np\r\n",
    "import pandas as pd"
   ]
  },
  {
   "cell_type": "code",
   "execution_count": 59,
   "metadata": {},
   "outputs": [
    {
     "data": {
      "text/html": [
       "<div>\n",
       "<style scoped>\n",
       "    .dataframe tbody tr th:only-of-type {\n",
       "        vertical-align: middle;\n",
       "    }\n",
       "\n",
       "    .dataframe tbody tr th {\n",
       "        vertical-align: top;\n",
       "    }\n",
       "\n",
       "    .dataframe thead th {\n",
       "        text-align: right;\n",
       "    }\n",
       "</style>\n",
       "<table border=\"1\" class=\"dataframe\">\n",
       "  <thead>\n",
       "    <tr style=\"text-align: right;\">\n",
       "      <th></th>\n",
       "      <th>neighbourhood_group</th>\n",
       "      <th>room_type</th>\n",
       "      <th>latitude</th>\n",
       "      <th>longitude</th>\n",
       "      <th>price</th>\n",
       "      <th>minimum_nights</th>\n",
       "      <th>number_of_reviews</th>\n",
       "      <th>reviews_per_month</th>\n",
       "      <th>calculated_host_listings_count</th>\n",
       "      <th>availability_365</th>\n",
       "    </tr>\n",
       "  </thead>\n",
       "  <tbody>\n",
       "    <tr>\n",
       "      <th>0</th>\n",
       "      <td>Brooklyn</td>\n",
       "      <td>Private room</td>\n",
       "      <td>40.64749</td>\n",
       "      <td>-73.97237</td>\n",
       "      <td>149</td>\n",
       "      <td>1</td>\n",
       "      <td>9</td>\n",
       "      <td>0.21</td>\n",
       "      <td>6</td>\n",
       "      <td>365</td>\n",
       "    </tr>\n",
       "    <tr>\n",
       "      <th>1</th>\n",
       "      <td>Manhattan</td>\n",
       "      <td>Entire home/apt</td>\n",
       "      <td>40.75362</td>\n",
       "      <td>-73.98377</td>\n",
       "      <td>225</td>\n",
       "      <td>1</td>\n",
       "      <td>45</td>\n",
       "      <td>0.38</td>\n",
       "      <td>2</td>\n",
       "      <td>355</td>\n",
       "    </tr>\n",
       "    <tr>\n",
       "      <th>2</th>\n",
       "      <td>Manhattan</td>\n",
       "      <td>Private room</td>\n",
       "      <td>40.80902</td>\n",
       "      <td>-73.94190</td>\n",
       "      <td>150</td>\n",
       "      <td>3</td>\n",
       "      <td>0</td>\n",
       "      <td>0.00</td>\n",
       "      <td>1</td>\n",
       "      <td>365</td>\n",
       "    </tr>\n",
       "    <tr>\n",
       "      <th>3</th>\n",
       "      <td>Brooklyn</td>\n",
       "      <td>Entire home/apt</td>\n",
       "      <td>40.68514</td>\n",
       "      <td>-73.95976</td>\n",
       "      <td>89</td>\n",
       "      <td>1</td>\n",
       "      <td>270</td>\n",
       "      <td>4.64</td>\n",
       "      <td>1</td>\n",
       "      <td>194</td>\n",
       "    </tr>\n",
       "    <tr>\n",
       "      <th>4</th>\n",
       "      <td>Manhattan</td>\n",
       "      <td>Entire home/apt</td>\n",
       "      <td>40.79851</td>\n",
       "      <td>-73.94399</td>\n",
       "      <td>80</td>\n",
       "      <td>10</td>\n",
       "      <td>9</td>\n",
       "      <td>0.10</td>\n",
       "      <td>1</td>\n",
       "      <td>0</td>\n",
       "    </tr>\n",
       "    <tr>\n",
       "      <th>...</th>\n",
       "      <td>...</td>\n",
       "      <td>...</td>\n",
       "      <td>...</td>\n",
       "      <td>...</td>\n",
       "      <td>...</td>\n",
       "      <td>...</td>\n",
       "      <td>...</td>\n",
       "      <td>...</td>\n",
       "      <td>...</td>\n",
       "      <td>...</td>\n",
       "    </tr>\n",
       "    <tr>\n",
       "      <th>48890</th>\n",
       "      <td>Brooklyn</td>\n",
       "      <td>Private room</td>\n",
       "      <td>40.67853</td>\n",
       "      <td>-73.94995</td>\n",
       "      <td>70</td>\n",
       "      <td>2</td>\n",
       "      <td>0</td>\n",
       "      <td>0.00</td>\n",
       "      <td>2</td>\n",
       "      <td>9</td>\n",
       "    </tr>\n",
       "    <tr>\n",
       "      <th>48891</th>\n",
       "      <td>Brooklyn</td>\n",
       "      <td>Private room</td>\n",
       "      <td>40.70184</td>\n",
       "      <td>-73.93317</td>\n",
       "      <td>40</td>\n",
       "      <td>4</td>\n",
       "      <td>0</td>\n",
       "      <td>0.00</td>\n",
       "      <td>2</td>\n",
       "      <td>36</td>\n",
       "    </tr>\n",
       "    <tr>\n",
       "      <th>48892</th>\n",
       "      <td>Manhattan</td>\n",
       "      <td>Entire home/apt</td>\n",
       "      <td>40.81475</td>\n",
       "      <td>-73.94867</td>\n",
       "      <td>115</td>\n",
       "      <td>10</td>\n",
       "      <td>0</td>\n",
       "      <td>0.00</td>\n",
       "      <td>1</td>\n",
       "      <td>27</td>\n",
       "    </tr>\n",
       "    <tr>\n",
       "      <th>48893</th>\n",
       "      <td>Manhattan</td>\n",
       "      <td>Shared room</td>\n",
       "      <td>40.75751</td>\n",
       "      <td>-73.99112</td>\n",
       "      <td>55</td>\n",
       "      <td>1</td>\n",
       "      <td>0</td>\n",
       "      <td>0.00</td>\n",
       "      <td>6</td>\n",
       "      <td>2</td>\n",
       "    </tr>\n",
       "    <tr>\n",
       "      <th>48894</th>\n",
       "      <td>Manhattan</td>\n",
       "      <td>Private room</td>\n",
       "      <td>40.76404</td>\n",
       "      <td>-73.98933</td>\n",
       "      <td>90</td>\n",
       "      <td>7</td>\n",
       "      <td>0</td>\n",
       "      <td>0.00</td>\n",
       "      <td>1</td>\n",
       "      <td>23</td>\n",
       "    </tr>\n",
       "  </tbody>\n",
       "</table>\n",
       "<p>48895 rows × 10 columns</p>\n",
       "</div>"
      ],
      "text/plain": [
       "      neighbourhood_group        room_type  latitude  longitude  price  \\\n",
       "0                Brooklyn     Private room  40.64749  -73.97237    149   \n",
       "1               Manhattan  Entire home/apt  40.75362  -73.98377    225   \n",
       "2               Manhattan     Private room  40.80902  -73.94190    150   \n",
       "3                Brooklyn  Entire home/apt  40.68514  -73.95976     89   \n",
       "4               Manhattan  Entire home/apt  40.79851  -73.94399     80   \n",
       "...                   ...              ...       ...        ...    ...   \n",
       "48890            Brooklyn     Private room  40.67853  -73.94995     70   \n",
       "48891            Brooklyn     Private room  40.70184  -73.93317     40   \n",
       "48892           Manhattan  Entire home/apt  40.81475  -73.94867    115   \n",
       "48893           Manhattan      Shared room  40.75751  -73.99112     55   \n",
       "48894           Manhattan     Private room  40.76404  -73.98933     90   \n",
       "\n",
       "       minimum_nights  number_of_reviews  reviews_per_month  \\\n",
       "0                   1                  9               0.21   \n",
       "1                   1                 45               0.38   \n",
       "2                   3                  0               0.00   \n",
       "3                   1                270               4.64   \n",
       "4                  10                  9               0.10   \n",
       "...               ...                ...                ...   \n",
       "48890               2                  0               0.00   \n",
       "48891               4                  0               0.00   \n",
       "48892              10                  0               0.00   \n",
       "48893               1                  0               0.00   \n",
       "48894               7                  0               0.00   \n",
       "\n",
       "       calculated_host_listings_count  availability_365  \n",
       "0                                   6               365  \n",
       "1                                   2               355  \n",
       "2                                   1               365  \n",
       "3                                   1               194  \n",
       "4                                   1                 0  \n",
       "...                               ...               ...  \n",
       "48890                               2                 9  \n",
       "48891                               2                36  \n",
       "48892                               1                27  \n",
       "48893                               6                 2  \n",
       "48894                               1                23  \n",
       "\n",
       "[48895 rows x 10 columns]"
      ]
     },
     "execution_count": 59,
     "metadata": {},
     "output_type": "execute_result"
    }
   ],
   "source": [
    "# load & filter csv file\r\n",
    "df = pd.read_csv(\"AB_NYC_2019.csv\") \r\n",
    "allcols = ['neighbourhood_group',\r\n",
    "'room_type',\r\n",
    "'latitude',\r\n",
    "'longitude',\r\n",
    "'price',\r\n",
    "'minimum_nights',\r\n",
    "'number_of_reviews',\r\n",
    "'reviews_per_month',\r\n",
    "'calculated_host_listings_count',\r\n",
    "'availability_365']\r\n",
    "df = df[allcols]\r\n",
    "df= df.fillna(0)\r\n",
    "df"
   ]
  },
  {
   "cell_type": "markdown",
   "metadata": {},
   "source": [
    "## Q1: mode of neighbourhood_group "
   ]
  },
  {
   "cell_type": "code",
   "execution_count": 60,
   "metadata": {},
   "outputs": [
    {
     "name": "stdout",
     "output_type": "stream",
     "text": [
      "the mode of neighborhood group is 0    Manhattan\n",
      "dtype: object\n"
     ]
    }
   ],
   "source": [
    "print(\"the mode of neighborhood group is %s\" % df['neighbourhood_group'].mode())"
   ]
  },
  {
   "cell_type": "markdown",
   "metadata": {},
   "source": [
    "Data preparation"
   ]
  },
  {
   "cell_type": "code",
   "execution_count": 61,
   "metadata": {},
   "outputs": [],
   "source": [
    "np.random.seed(42) #seed RNG 42\r\n",
    "\r\n",
    "from sklearn.model_selection import train_test_split\r\n",
    "df_trainval, df_test = train_test_split(df, test_size=0.2, random_state=1) #split train+val [80%], test [20%]\r\n",
    "df_train, df_val = train_test_split(df_trainval, test_size=0.25, random_state=1) #split train[60%] val [20%]\r\n",
    "\r\n",
    "#reset, drop index\r\n",
    "df_train = df_train.reset_index(drop=True)\r\n",
    "df_test = df_test.reset_index(drop=True)\r\n",
    "df_val = df_val.reset_index(drop=True)\r\n",
    "\r\n",
    "y_test = df_test[\"price\"]\r\n",
    "y_train = df_train[\"price\"]\r\n",
    "y_val = df_val[\"price\"]\r\n",
    "\r\n",
    "del df_test[\"price\"]\r\n",
    "del df_train[\"price\"]\r\n",
    "del df_val[\"price\"]\r\n",
    "\r\n",
    "allcols.remove(\"price\") #remove price from all columns (for Q4+)"
   ]
  },
  {
   "cell_type": "markdown",
   "metadata": {},
   "source": [
    "## Q2: Correlation matrix"
   ]
  },
  {
   "cell_type": "code",
   "execution_count": 62,
   "metadata": {},
   "outputs": [
    {
     "data": {
      "text/html": [
       "<div>\n",
       "<style scoped>\n",
       "    .dataframe tbody tr th:only-of-type {\n",
       "        vertical-align: middle;\n",
       "    }\n",
       "\n",
       "    .dataframe tbody tr th {\n",
       "        vertical-align: top;\n",
       "    }\n",
       "\n",
       "    .dataframe thead th {\n",
       "        text-align: right;\n",
       "    }\n",
       "</style>\n",
       "<table border=\"1\" class=\"dataframe\">\n",
       "  <thead>\n",
       "    <tr style=\"text-align: right;\">\n",
       "      <th></th>\n",
       "      <th>latitude</th>\n",
       "      <th>longitude</th>\n",
       "      <th>minimum_nights</th>\n",
       "      <th>number_of_reviews</th>\n",
       "      <th>reviews_per_month</th>\n",
       "      <th>calculated_host_listings_count</th>\n",
       "      <th>availability_365</th>\n",
       "    </tr>\n",
       "  </thead>\n",
       "  <tbody>\n",
       "    <tr>\n",
       "      <th>latitude</th>\n",
       "      <td>1.000000</td>\n",
       "      <td>0.084313</td>\n",
       "      <td>0.019638</td>\n",
       "      <td>-0.020536</td>\n",
       "      <td>-0.025427</td>\n",
       "      <td>0.019039</td>\n",
       "      <td>-0.012974</td>\n",
       "    </tr>\n",
       "    <tr>\n",
       "      <th>longitude</th>\n",
       "      <td>0.084313</td>\n",
       "      <td>1.000000</td>\n",
       "      <td>-0.062937</td>\n",
       "      <td>0.058299</td>\n",
       "      <td>0.136407</td>\n",
       "      <td>-0.117029</td>\n",
       "      <td>0.082892</td>\n",
       "    </tr>\n",
       "    <tr>\n",
       "      <th>minimum_nights</th>\n",
       "      <td>0.019638</td>\n",
       "      <td>-0.062937</td>\n",
       "      <td>1.000000</td>\n",
       "      <td>-0.075564</td>\n",
       "      <td>-0.120368</td>\n",
       "      <td>0.120308</td>\n",
       "      <td>0.140542</td>\n",
       "    </tr>\n",
       "    <tr>\n",
       "      <th>number_of_reviews</th>\n",
       "      <td>-0.020536</td>\n",
       "      <td>0.058299</td>\n",
       "      <td>-0.075564</td>\n",
       "      <td>1.000000</td>\n",
       "      <td>0.599733</td>\n",
       "      <td>-0.072518</td>\n",
       "      <td>0.173308</td>\n",
       "    </tr>\n",
       "    <tr>\n",
       "      <th>reviews_per_month</th>\n",
       "      <td>-0.025427</td>\n",
       "      <td>0.136407</td>\n",
       "      <td>-0.120368</td>\n",
       "      <td>0.599733</td>\n",
       "      <td>1.000000</td>\n",
       "      <td>-0.045017</td>\n",
       "      <td>0.168808</td>\n",
       "    </tr>\n",
       "    <tr>\n",
       "      <th>calculated_host_listings_count</th>\n",
       "      <td>0.019039</td>\n",
       "      <td>-0.117029</td>\n",
       "      <td>0.120308</td>\n",
       "      <td>-0.072518</td>\n",
       "      <td>-0.045017</td>\n",
       "      <td>1.000000</td>\n",
       "      <td>0.229346</td>\n",
       "    </tr>\n",
       "    <tr>\n",
       "      <th>availability_365</th>\n",
       "      <td>-0.012974</td>\n",
       "      <td>0.082892</td>\n",
       "      <td>0.140542</td>\n",
       "      <td>0.173308</td>\n",
       "      <td>0.168808</td>\n",
       "      <td>0.229346</td>\n",
       "      <td>1.000000</td>\n",
       "    </tr>\n",
       "  </tbody>\n",
       "</table>\n",
       "</div>"
      ],
      "text/plain": [
       "                                latitude  longitude  minimum_nights  \\\n",
       "latitude                        1.000000   0.084313        0.019638   \n",
       "longitude                       0.084313   1.000000       -0.062937   \n",
       "minimum_nights                  0.019638  -0.062937        1.000000   \n",
       "number_of_reviews              -0.020536   0.058299       -0.075564   \n",
       "reviews_per_month              -0.025427   0.136407       -0.120368   \n",
       "calculated_host_listings_count  0.019039  -0.117029        0.120308   \n",
       "availability_365               -0.012974   0.082892        0.140542   \n",
       "\n",
       "                                number_of_reviews  reviews_per_month  \\\n",
       "latitude                                -0.020536          -0.025427   \n",
       "longitude                                0.058299           0.136407   \n",
       "minimum_nights                          -0.075564          -0.120368   \n",
       "number_of_reviews                        1.000000           0.599733   \n",
       "reviews_per_month                        0.599733           1.000000   \n",
       "calculated_host_listings_count          -0.072518          -0.045017   \n",
       "availability_365                         0.173308           0.168808   \n",
       "\n",
       "                                calculated_host_listings_count  \\\n",
       "latitude                                              0.019039   \n",
       "longitude                                            -0.117029   \n",
       "minimum_nights                                        0.120308   \n",
       "number_of_reviews                                    -0.072518   \n",
       "reviews_per_month                                    -0.045017   \n",
       "calculated_host_listings_count                        1.000000   \n",
       "availability_365                                      0.229346   \n",
       "\n",
       "                                availability_365  \n",
       "latitude                               -0.012974  \n",
       "longitude                               0.082892  \n",
       "minimum_nights                          0.140542  \n",
       "number_of_reviews                       0.173308  \n",
       "reviews_per_month                       0.168808  \n",
       "calculated_host_listings_count          0.229346  \n",
       "availability_365                        1.000000  "
      ]
     },
     "execution_count": 62,
     "metadata": {},
     "output_type": "execute_result"
    }
   ],
   "source": [
    "#Visualize Correlation Matrix\r\n",
    "df_train.corr()"
   ]
  },
  {
   "cell_type": "code",
   "execution_count": 63,
   "metadata": {},
   "outputs": [
    {
     "name": "stdout",
     "output_type": "stream",
     "text": [
      "Max Correlation = 0.600\n",
      "which is between \n"
     ]
    },
    {
     "data": {
      "text/plain": [
       "('number_of_reviews', 'reviews_per_month')"
      ]
     },
     "execution_count": 63,
     "metadata": {},
     "output_type": "execute_result"
    }
   ],
   "source": [
    "#trying to get max corr by programming means\r\n",
    "vall = df_train.corr().to_numpy()\r\n",
    "vall[vall==1]=0;\r\n",
    "idxmax = np.argmax(np.abs(vall));\r\n",
    "numerics = ['int16', 'int32', 'int64', 'float16', 'float32', 'float64'] #https://stackoverflow.com/questions/25039626/how-do-i-find-numeric-columns-in-pandas\r\n",
    "numeric_columns = df_train.select_dtypes(numerics).columns\r\n",
    "\r\n",
    "print(\"Max Correlation = %2.3f\" % vall.reshape(-1)[idxmax] )\r\n",
    "print(\"which is between \")\r\n",
    "(numeric_columns[int(idxmax/7)],numeric_columns[int(idxmax % 7)])\r\n"
   ]
  },
  {
   "cell_type": "markdown",
   "metadata": {},
   "source": [
    "Making price binary"
   ]
  },
  {
   "cell_type": "code",
   "execution_count": 64,
   "metadata": {},
   "outputs": [],
   "source": [
    "#binarize score\r\n",
    "price_threshold = 152\r\n",
    "y_testbin = (y_test >= price_threshold).astype(np.int_)\r\n",
    "y_trainbin = (y_train >= price_threshold).astype(np.int_)\r\n",
    "y_valbin = (y_val >= price_threshold).astype(np.int_)"
   ]
  },
  {
   "cell_type": "markdown",
   "metadata": {},
   "source": [
    "## Q3: Mutual Information (MI)"
   ]
  },
  {
   "cell_type": "code",
   "execution_count": 65,
   "metadata": {},
   "outputs": [],
   "source": [
    "from sklearn.metrics import mutual_info_score\r\n",
    "df_train_cat = df_train.select_dtypes('object')\r\n",
    "cat_columns = df_train_cat.columns"
   ]
  },
  {
   "cell_type": "code",
   "execution_count": 66,
   "metadata": {},
   "outputs": [
    {
     "name": "stdout",
     "output_type": "stream",
     "text": [
      "Variable neighbourhood_group has score 0.05\n",
      "Variable room_type has score 0.14\n",
      "\t Variable with highest score room_type\n"
     ]
    }
   ],
   "source": [
    "#get (with programming) the variable with the highest MI to the now binarized score\r\n",
    "curmax = 0\r\n",
    "curmaxname = []\r\n",
    "for col in df_train_cat:\r\n",
    "    score  = np.round(mutual_info_score(df_train[col],y_trainbin),2)\r\n",
    "    print (\"Variable %s has score %2.2f\" % (col, score))\r\n",
    "    if curmax < score:         curmax = score; curmaxname = col\r\n",
    "print(\"\\t Variable with highest score %s\" % curmaxname)"
   ]
  },
  {
   "cell_type": "markdown",
   "metadata": {},
   "source": [
    "## Q4: logistic regression & accuracy"
   ]
  },
  {
   "cell_type": "code",
   "execution_count": 67,
   "metadata": {},
   "outputs": [],
   "source": [
    "from sklearn.feature_extraction import DictVectorizer\r\n",
    "dv = DictVectorizer(sparse=False) #import encoder"
   ]
  },
  {
   "cell_type": "code",
   "execution_count": 68,
   "metadata": {},
   "outputs": [],
   "source": [
    "# Serialize non-numerical data using DictVectorizer (aka One-Hot Encoding)\r\n",
    "train_dict = df_train.to_dict(orient='records') # get categorial variables from train db, sort them by x and put them into dictionary \r\n",
    "X_train = dv.fit_transform(train_dict) #one-hot encoding \r\n",
    "\r\n",
    "val_dict = df_val.to_dict(orient='records') #apply same for val db\r\n",
    "X_val = dv.transform(val_dict)"
   ]
  },
  {
   "cell_type": "code",
   "execution_count": 69,
   "metadata": {},
   "outputs": [],
   "source": [
    "#Create model\r\n",
    "from sklearn.linear_model import LogisticRegression\r\n",
    "model = LogisticRegression(solver='lbfgs', C=1.0, random_state=42)"
   ]
  },
  {
   "cell_type": "code",
   "execution_count": 70,
   "metadata": {},
   "outputs": [
    {
     "name": "stderr",
     "output_type": "stream",
     "text": [
      "D:\\Users\\Kallel\\Anaconda3\\lib\\site-packages\\sklearn\\linear_model\\_logistic.py:763: ConvergenceWarning: lbfgs failed to converge (status=1):\n",
      "STOP: TOTAL NO. of ITERATIONS REACHED LIMIT.\n",
      "\n",
      "Increase the number of iterations (max_iter) or scale the data as shown in:\n",
      "    https://scikit-learn.org/stable/modules/preprocessing.html\n",
      "Please also refer to the documentation for alternative solver options:\n",
      "    https://scikit-learn.org/stable/modules/linear_model.html#logistic-regression\n",
      "  n_iter_i = _check_optimize_result(\n"
     ]
    },
    {
     "data": {
      "text/plain": [
       "LogisticRegression(random_state=42)"
      ]
     },
     "execution_count": 70,
     "metadata": {},
     "output_type": "execute_result"
    }
   ],
   "source": [
    "#train model\r\n",
    "model.fit(X_train,y_trainbin)"
   ]
  },
  {
   "cell_type": "code",
   "execution_count": 71,
   "metadata": {},
   "outputs": [],
   "source": [
    "# check model validation\r\n",
    "\r\n",
    "#step1: get y_pred & bin to 0.5\r\n",
    "y_pred = model.predict_proba(X_val)[:, 1]\r\n",
    "churn_decision = (y_pred > 0.5).astype(np.int_) # binarize to thv = 0.5 \r\n",
    "\r\n",
    "# erm I think this should give same results?\r\n",
    "# churn_decision = model.predict(X_val)"
   ]
  },
  {
   "cell_type": "code",
   "execution_count": 72,
   "metadata": {},
   "outputs": [
    {
     "name": "stdout",
     "output_type": "stream",
     "text": [
      "Model Validation Score: 0.79\n"
     ]
    }
   ],
   "source": [
    "# step2: get accuracy \r\n",
    "original_accuracy_non_rounded = np.mean(churn_decision == y_valbin)\r\n",
    "original_accuracy = np.round(original_accuracy_non_rounded,2);\r\n",
    "print(\"Model Validation Score: %2.2f\" % original_accuracy)"
   ]
  },
  {
   "cell_type": "markdown",
   "metadata": {},
   "source": [
    "79%... well I guess I report is as it is then"
   ]
  },
  {
   "cell_type": "markdown",
   "metadata": {},
   "source": [
    "## Q5: Feature selection: smallest difference in accuracy"
   ]
  },
  {
   "cell_type": "markdown",
   "metadata": {},
   "source": [
    "Here, we'll be also making feature elimination, we will be using num+cat for this.\r\n",
    "The model will be trained same as in Q4"
   ]
  },
  {
   "cell_type": "code",
   "execution_count": 73,
   "metadata": {},
   "outputs": [
    {
     "name": "stdout",
     "output_type": "stream",
     "text": [
      "Removing neighbourhood_group, Test Accuracy is 0.7485\n"
     ]
    },
    {
     "name": "stderr",
     "output_type": "stream",
     "text": [
      "D:\\Users\\Kallel\\Anaconda3\\lib\\site-packages\\sklearn\\linear_model\\_logistic.py:763: ConvergenceWarning: lbfgs failed to converge (status=1):\n",
      "STOP: TOTAL NO. of ITERATIONS REACHED LIMIT.\n",
      "\n",
      "Increase the number of iterations (max_iter) or scale the data as shown in:\n",
      "    https://scikit-learn.org/stable/modules/preprocessing.html\n",
      "Please also refer to the documentation for alternative solver options:\n",
      "    https://scikit-learn.org/stable/modules/linear_model.html#logistic-regression\n",
      "  n_iter_i = _check_optimize_result(\n"
     ]
    },
    {
     "name": "stdout",
     "output_type": "stream",
     "text": [
      "Removing room_type, Test Accuracy is 0.7260\n"
     ]
    },
    {
     "name": "stderr",
     "output_type": "stream",
     "text": [
      "D:\\Users\\Kallel\\Anaconda3\\lib\\site-packages\\sklearn\\linear_model\\_logistic.py:763: ConvergenceWarning: lbfgs failed to converge (status=1):\n",
      "STOP: TOTAL NO. of ITERATIONS REACHED LIMIT.\n",
      "\n",
      "Increase the number of iterations (max_iter) or scale the data as shown in:\n",
      "    https://scikit-learn.org/stable/modules/preprocessing.html\n",
      "Please also refer to the documentation for alternative solver options:\n",
      "    https://scikit-learn.org/stable/modules/linear_model.html#logistic-regression\n",
      "  n_iter_i = _check_optimize_result(\n"
     ]
    },
    {
     "name": "stdout",
     "output_type": "stream",
     "text": [
      "Removing latitude, Test Accuracy is 0.7901\n"
     ]
    },
    {
     "name": "stderr",
     "output_type": "stream",
     "text": [
      "D:\\Users\\Kallel\\Anaconda3\\lib\\site-packages\\sklearn\\linear_model\\_logistic.py:763: ConvergenceWarning: lbfgs failed to converge (status=1):\n",
      "STOP: TOTAL NO. of ITERATIONS REACHED LIMIT.\n",
      "\n",
      "Increase the number of iterations (max_iter) or scale the data as shown in:\n",
      "    https://scikit-learn.org/stable/modules/preprocessing.html\n",
      "Please also refer to the documentation for alternative solver options:\n",
      "    https://scikit-learn.org/stable/modules/linear_model.html#logistic-regression\n",
      "  n_iter_i = _check_optimize_result(\n"
     ]
    },
    {
     "name": "stdout",
     "output_type": "stream",
     "text": [
      "Removing longitude, Test Accuracy is 0.7903\n"
     ]
    },
    {
     "name": "stderr",
     "output_type": "stream",
     "text": [
      "D:\\Users\\Kallel\\Anaconda3\\lib\\site-packages\\sklearn\\linear_model\\_logistic.py:763: ConvergenceWarning: lbfgs failed to converge (status=1):\n",
      "STOP: TOTAL NO. of ITERATIONS REACHED LIMIT.\n",
      "\n",
      "Increase the number of iterations (max_iter) or scale the data as shown in:\n",
      "    https://scikit-learn.org/stable/modules/preprocessing.html\n",
      "Please also refer to the documentation for alternative solver options:\n",
      "    https://scikit-learn.org/stable/modules/linear_model.html#logistic-regression\n",
      "  n_iter_i = _check_optimize_result(\n"
     ]
    },
    {
     "name": "stdout",
     "output_type": "stream",
     "text": [
      "Removing minimum_nights, Test Accuracy is 0.7903\n"
     ]
    },
    {
     "name": "stderr",
     "output_type": "stream",
     "text": [
      "D:\\Users\\Kallel\\Anaconda3\\lib\\site-packages\\sklearn\\linear_model\\_logistic.py:763: ConvergenceWarning: lbfgs failed to converge (status=1):\n",
      "STOP: TOTAL NO. of ITERATIONS REACHED LIMIT.\n",
      "\n",
      "Increase the number of iterations (max_iter) or scale the data as shown in:\n",
      "    https://scikit-learn.org/stable/modules/preprocessing.html\n",
      "Please also refer to the documentation for alternative solver options:\n",
      "    https://scikit-learn.org/stable/modules/linear_model.html#logistic-regression\n",
      "  n_iter_i = _check_optimize_result(\n"
     ]
    },
    {
     "name": "stdout",
     "output_type": "stream",
     "text": [
      "Removing number_of_reviews, Test Accuracy is 0.7912\n"
     ]
    },
    {
     "name": "stderr",
     "output_type": "stream",
     "text": [
      "D:\\Users\\Kallel\\Anaconda3\\lib\\site-packages\\sklearn\\linear_model\\_logistic.py:763: ConvergenceWarning: lbfgs failed to converge (status=1):\n",
      "STOP: TOTAL NO. of ITERATIONS REACHED LIMIT.\n",
      "\n",
      "Increase the number of iterations (max_iter) or scale the data as shown in:\n",
      "    https://scikit-learn.org/stable/modules/preprocessing.html\n",
      "Please also refer to the documentation for alternative solver options:\n",
      "    https://scikit-learn.org/stable/modules/linear_model.html#logistic-regression\n",
      "  n_iter_i = _check_optimize_result(\n"
     ]
    },
    {
     "name": "stdout",
     "output_type": "stream",
     "text": [
      "Removing reviews_per_month, Test Accuracy is 0.7902\n"
     ]
    },
    {
     "name": "stderr",
     "output_type": "stream",
     "text": [
      "D:\\Users\\Kallel\\Anaconda3\\lib\\site-packages\\sklearn\\linear_model\\_logistic.py:763: ConvergenceWarning: lbfgs failed to converge (status=1):\n",
      "STOP: TOTAL NO. of ITERATIONS REACHED LIMIT.\n",
      "\n",
      "Increase the number of iterations (max_iter) or scale the data as shown in:\n",
      "    https://scikit-learn.org/stable/modules/preprocessing.html\n",
      "Please also refer to the documentation for alternative solver options:\n",
      "    https://scikit-learn.org/stable/modules/linear_model.html#logistic-regression\n",
      "  n_iter_i = _check_optimize_result(\n"
     ]
    },
    {
     "name": "stdout",
     "output_type": "stream",
     "text": [
      "Removing calculated_host_listings_count, Test Accuracy is 0.7900\n",
      "Removing availability_365, Test Accuracy is 0.7881\n"
     ]
    },
    {
     "name": "stderr",
     "output_type": "stream",
     "text": [
      "D:\\Users\\Kallel\\Anaconda3\\lib\\site-packages\\sklearn\\linear_model\\_logistic.py:763: ConvergenceWarning: lbfgs failed to converge (status=1):\n",
      "STOP: TOTAL NO. of ITERATIONS REACHED LIMIT.\n",
      "\n",
      "Increase the number of iterations (max_iter) or scale the data as shown in:\n",
      "    https://scikit-learn.org/stable/modules/preprocessing.html\n",
      "Please also refer to the documentation for alternative solver options:\n",
      "    https://scikit-learn.org/stable/modules/linear_model.html#logistic-regression\n",
      "  n_iter_i = _check_optimize_result(\n"
     ]
    }
   ],
   "source": [
    "\r\n",
    "model_outputs = np.zeros((1,len(allcols))).reshape(-1)\r\n",
    "\r\n",
    "\r\n",
    "#remove one feature, test the accuracy and store it in model_outputs\r\n",
    "for l in range(len(allcols)):\r\n",
    "    sel_cols = np.delete(allcols, l);\r\n",
    "    train_dict = df_train[sel_cols].to_dict(orient='records') # get categorial variables from train db, sort them by x and put them into dictionary \r\n",
    "    X_train = dv.fit_transform(train_dict) #one-hot encoding \r\n",
    "    val_dict = df_val[sel_cols].to_dict(orient='records') #apply same for val db\r\n",
    "    X_val = dv.transform(val_dict)\r\n",
    "    model = LogisticRegression(solver='lbfgs', C=1.0, random_state=42)\r\n",
    "    model.fit(X_train,y_trainbin)\r\n",
    "    y_pred = model.predict_proba(X_val)[:, 1]\r\n",
    "    churn_decision = (y_pred > 0.5).astype(np.int_) # binarize to thv = 0.5 \r\n",
    "    new_accuracy = np.mean(churn_decision == y_valbin);\r\n",
    "    model_outputs[l] = new_accuracy\r\n",
    "    print(\"Removing %s, Test Accuracy is %2.4f\" %(allcols[l],new_accuracy))"
   ]
  },
  {
   "cell_type": "code",
   "execution_count": 83,
   "metadata": {},
   "outputs": [
    {
     "name": "stdout",
     "output_type": "stream",
     "text": [
      "The feature with the least difference is : longitude\n",
      "The feature with the least difference, among the listed ones is : number_of_reviews\n"
     ]
    }
   ],
   "source": [
    "# find the feature with least impact\r\n",
    "diff = np.abs(model_outputs - original_accuracy_non_rounded)\r\n",
    "idxmin = np.argmin(diff)\r\n",
    "print(\"The feature with the least difference is : %s\" % allcols[idxmin])\r\n",
    "\r\n",
    "#hmmm, I don't see this feature in Q4, let's see: which of the mentioned features has the least amount\r\n",
    "feature_of_interest_index = [0, 1, 3, 5] #2n+1...\r\n",
    "#np.array(allcols)[feature_of_interest_index] #for checking they're the correct ones\r\n",
    "diff = diff[feature_of_interest_index]\r\n",
    "idxmin = np.argmin(diff)\r\n",
    "print(\"The feature with the least difference, among the listed ones is : %s\" % allcols[2*idxmin+1])\r\n"
   ]
  },
  {
   "cell_type": "code",
   "execution_count": 85,
   "metadata": {},
   "outputs": [],
   "source": [
    "#alright, probably I made a mistake since there is this \"warning\" AND now that feature with the least impact isn't present...."
   ]
  },
  {
   "cell_type": "markdown",
   "metadata": {},
   "source": [
    "## Q6: Linear Regression model"
   ]
  },
  {
   "cell_type": "code",
   "execution_count": 88,
   "metadata": {},
   "outputs": [],
   "source": [
    "#Create model\r\n",
    "from sklearn.linear_model import LinearRegression, Ridge\r\n",
    "modelnonReg = LinearRegression()\r\n",
    "model = Ridge()"
   ]
  },
  {
   "cell_type": "code",
   "execution_count": 89,
   "metadata": {},
   "outputs": [],
   "source": [
    "# log transform on the output (instead of df)\r\n",
    "y_trainlog = np.log1p(y_train)\r\n",
    "y_vallog = np.log1p(y_val)\r\n",
    "y_testlog = np.log1p(y_test)"
   ]
  },
  {
   "cell_type": "code",
   "execution_count": 94,
   "metadata": {},
   "outputs": [],
   "source": [
    "def rmse(x,y):\r\n",
    "    return np.sqrt(np.mean((x-y)**2))"
   ]
  },
  {
   "cell_type": "code",
   "execution_count": 95,
   "metadata": {},
   "outputs": [],
   "source": [
    "#prepare database\r\n",
    "train_dict = df_train.to_dict(orient='records') # get categorial variables from train db, sort them by x and put them into dictionary \r\n",
    "X_train = dv.fit_transform(train_dict) #one-hot encoding \r\n",
    "val_dict = df_val.to_dict(orient='records') #apply same for val db\r\n",
    "X_val = dv.transform(val_dict)\r\n",
    "   "
   ]
  },
  {
   "cell_type": "code",
   "execution_count": 112,
   "metadata": {},
   "outputs": [
    {
     "name": "stdout",
     "output_type": "stream",
     "text": [
      "For alpha= 0.000, RMSE is 0.494\n",
      "For alpha= 0.010, RMSE is 0.494\n",
      "For alpha= 0.100, RMSE is 0.494\n",
      "For alpha= 1.000, RMSE is 0.494\n",
      "For alpha= 10.000, RMSE is 0.495\n"
     ]
    }
   ],
   "source": [
    "#best alpha values\r\n",
    "for alpha in [0, 0.01, 0.1, 1, 10]:\r\n",
    "    model=Ridge(alpha=alpha)\r\n",
    "    model.fit(X_train,y_trainlog)\r\n",
    "    y_pred = model.predict(X_val)\r\n",
    "    \r\n",
    "    new_accuracy = rmse(y_pred , y_vallog);\r\n",
    "    model_outputs[l] = new_accuracy\r\n",
    "    print(\"For alpha= %2.3f, RMSE is %2.3f\" %(alpha,np.round(new_accuracy,3)))\r\n",
    "    # for this question... erm if rounded by 5 digits, it's answer #2, but since it's rounded to only 3, then it's answer #1"
   ]
  },
  {
   "cell_type": "code",
   "execution_count": 103,
   "metadata": {},
   "outputs": [
    {
     "data": {
      "text/plain": [
       "array([[4.54056781, 4.94017468, 5.23123476, ..., 5.25777598, 5.13248752,\n",
       "        5.17154765],\n",
       "       [5.01063529, 3.93182563, 5.01727984, ..., 5.170484  , 4.60517019,\n",
       "        4.75359019]])"
      ]
     },
     "execution_count": 103,
     "metadata": {},
     "output_type": "execute_result"
    }
   ],
   "source": [
    "np.vstack((y_pred, y_vallog))\r\n"
   ]
  },
  {
   "cell_type": "code",
   "execution_count": null,
   "metadata": {},
   "outputs": [],
   "source": []
  }
 ],
 "metadata": {
  "interpreter": {
   "hash": "8adc0f1b6d3ef35c7cd11bc7b6b8b8d8478dc538640b17df34a7d3db85fc9445"
  },
  "kernelspec": {
   "display_name": "Python 3.8.8 64-bit ('base': conda)",
   "name": "python3"
  },
  "language_info": {
   "codemirror_mode": {
    "name": "ipython",
    "version": 3
   },
   "file_extension": ".py",
   "mimetype": "text/x-python",
   "name": "python",
   "nbconvert_exporter": "python",
   "pygments_lexer": "ipython3",
   "version": "3.8.8"
  },
  "orig_nbformat": 4
 },
 "nbformat": 4,
 "nbformat_minor": 2
}