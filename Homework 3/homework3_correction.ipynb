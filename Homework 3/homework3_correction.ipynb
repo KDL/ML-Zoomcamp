{
 "cells": [
  {
   "cell_type": "markdown",
   "metadata": {},
   "source": [
    "Homework 3"
   ]
  },
  {
   "cell_type": "code",
   "execution_count": 4,
   "metadata": {},
   "outputs": [],
   "source": [
    "#usual imports\r\n",
    "import numpy as np\r\n",
    "import pandas as pd\r\n",
    "import matplotlib.pyplot as plt\r\n",
    "import seaborn as sns\r\n",
    "\r\n",
    "# aaah, to suppress the warnings. I see...\r\n",
    "#import warning\r\n",
    "#swarnings.filterwarning(\"ignore\")"
   ]
  },
  {
   "cell_type": "code",
   "execution_count": 5,
   "metadata": {},
   "outputs": [
    {
     "data": {
      "text/html": [
       "<div>\n",
       "<style scoped>\n",
       "    .dataframe tbody tr th:only-of-type {\n",
       "        vertical-align: middle;\n",
       "    }\n",
       "\n",
       "    .dataframe tbody tr th {\n",
       "        vertical-align: top;\n",
       "    }\n",
       "\n",
       "    .dataframe thead th {\n",
       "        text-align: right;\n",
       "    }\n",
       "</style>\n",
       "<table border=\"1\" class=\"dataframe\">\n",
       "  <thead>\n",
       "    <tr style=\"text-align: right;\">\n",
       "      <th></th>\n",
       "      <th>neighbourhood_group</th>\n",
       "      <th>room_type</th>\n",
       "      <th>latitude</th>\n",
       "      <th>longitude</th>\n",
       "      <th>price</th>\n",
       "      <th>minimum_nights</th>\n",
       "      <th>number_of_reviews</th>\n",
       "      <th>reviews_per_month</th>\n",
       "      <th>calculated_host_listings_count</th>\n",
       "      <th>availability_365</th>\n",
       "    </tr>\n",
       "  </thead>\n",
       "  <tbody>\n",
       "    <tr>\n",
       "      <th>0</th>\n",
       "      <td>Brooklyn</td>\n",
       "      <td>Private room</td>\n",
       "      <td>40.64749</td>\n",
       "      <td>-73.97237</td>\n",
       "      <td>149</td>\n",
       "      <td>1</td>\n",
       "      <td>9</td>\n",
       "      <td>0.21</td>\n",
       "      <td>6</td>\n",
       "      <td>365</td>\n",
       "    </tr>\n",
       "    <tr>\n",
       "      <th>1</th>\n",
       "      <td>Manhattan</td>\n",
       "      <td>Entire home/apt</td>\n",
       "      <td>40.75362</td>\n",
       "      <td>-73.98377</td>\n",
       "      <td>225</td>\n",
       "      <td>1</td>\n",
       "      <td>45</td>\n",
       "      <td>0.38</td>\n",
       "      <td>2</td>\n",
       "      <td>355</td>\n",
       "    </tr>\n",
       "    <tr>\n",
       "      <th>2</th>\n",
       "      <td>Manhattan</td>\n",
       "      <td>Private room</td>\n",
       "      <td>40.80902</td>\n",
       "      <td>-73.94190</td>\n",
       "      <td>150</td>\n",
       "      <td>3</td>\n",
       "      <td>0</td>\n",
       "      <td>0.00</td>\n",
       "      <td>1</td>\n",
       "      <td>365</td>\n",
       "    </tr>\n",
       "    <tr>\n",
       "      <th>3</th>\n",
       "      <td>Brooklyn</td>\n",
       "      <td>Entire home/apt</td>\n",
       "      <td>40.68514</td>\n",
       "      <td>-73.95976</td>\n",
       "      <td>89</td>\n",
       "      <td>1</td>\n",
       "      <td>270</td>\n",
       "      <td>4.64</td>\n",
       "      <td>1</td>\n",
       "      <td>194</td>\n",
       "    </tr>\n",
       "    <tr>\n",
       "      <th>4</th>\n",
       "      <td>Manhattan</td>\n",
       "      <td>Entire home/apt</td>\n",
       "      <td>40.79851</td>\n",
       "      <td>-73.94399</td>\n",
       "      <td>80</td>\n",
       "      <td>10</td>\n",
       "      <td>9</td>\n",
       "      <td>0.10</td>\n",
       "      <td>1</td>\n",
       "      <td>0</td>\n",
       "    </tr>\n",
       "    <tr>\n",
       "      <th>...</th>\n",
       "      <td>...</td>\n",
       "      <td>...</td>\n",
       "      <td>...</td>\n",
       "      <td>...</td>\n",
       "      <td>...</td>\n",
       "      <td>...</td>\n",
       "      <td>...</td>\n",
       "      <td>...</td>\n",
       "      <td>...</td>\n",
       "      <td>...</td>\n",
       "    </tr>\n",
       "    <tr>\n",
       "      <th>48890</th>\n",
       "      <td>Brooklyn</td>\n",
       "      <td>Private room</td>\n",
       "      <td>40.67853</td>\n",
       "      <td>-73.94995</td>\n",
       "      <td>70</td>\n",
       "      <td>2</td>\n",
       "      <td>0</td>\n",
       "      <td>0.00</td>\n",
       "      <td>2</td>\n",
       "      <td>9</td>\n",
       "    </tr>\n",
       "    <tr>\n",
       "      <th>48891</th>\n",
       "      <td>Brooklyn</td>\n",
       "      <td>Private room</td>\n",
       "      <td>40.70184</td>\n",
       "      <td>-73.93317</td>\n",
       "      <td>40</td>\n",
       "      <td>4</td>\n",
       "      <td>0</td>\n",
       "      <td>0.00</td>\n",
       "      <td>2</td>\n",
       "      <td>36</td>\n",
       "    </tr>\n",
       "    <tr>\n",
       "      <th>48892</th>\n",
       "      <td>Manhattan</td>\n",
       "      <td>Entire home/apt</td>\n",
       "      <td>40.81475</td>\n",
       "      <td>-73.94867</td>\n",
       "      <td>115</td>\n",
       "      <td>10</td>\n",
       "      <td>0</td>\n",
       "      <td>0.00</td>\n",
       "      <td>1</td>\n",
       "      <td>27</td>\n",
       "    </tr>\n",
       "    <tr>\n",
       "      <th>48893</th>\n",
       "      <td>Manhattan</td>\n",
       "      <td>Shared room</td>\n",
       "      <td>40.75751</td>\n",
       "      <td>-73.99112</td>\n",
       "      <td>55</td>\n",
       "      <td>1</td>\n",
       "      <td>0</td>\n",
       "      <td>0.00</td>\n",
       "      <td>6</td>\n",
       "      <td>2</td>\n",
       "    </tr>\n",
       "    <tr>\n",
       "      <th>48894</th>\n",
       "      <td>Manhattan</td>\n",
       "      <td>Private room</td>\n",
       "      <td>40.76404</td>\n",
       "      <td>-73.98933</td>\n",
       "      <td>90</td>\n",
       "      <td>7</td>\n",
       "      <td>0</td>\n",
       "      <td>0.00</td>\n",
       "      <td>1</td>\n",
       "      <td>23</td>\n",
       "    </tr>\n",
       "  </tbody>\n",
       "</table>\n",
       "<p>48895 rows × 10 columns</p>\n",
       "</div>"
      ],
      "text/plain": [
       "      neighbourhood_group        room_type  latitude  longitude  price  \\\n",
       "0                Brooklyn     Private room  40.64749  -73.97237    149   \n",
       "1               Manhattan  Entire home/apt  40.75362  -73.98377    225   \n",
       "2               Manhattan     Private room  40.80902  -73.94190    150   \n",
       "3                Brooklyn  Entire home/apt  40.68514  -73.95976     89   \n",
       "4               Manhattan  Entire home/apt  40.79851  -73.94399     80   \n",
       "...                   ...              ...       ...        ...    ...   \n",
       "48890            Brooklyn     Private room  40.67853  -73.94995     70   \n",
       "48891            Brooklyn     Private room  40.70184  -73.93317     40   \n",
       "48892           Manhattan  Entire home/apt  40.81475  -73.94867    115   \n",
       "48893           Manhattan      Shared room  40.75751  -73.99112     55   \n",
       "48894           Manhattan     Private room  40.76404  -73.98933     90   \n",
       "\n",
       "       minimum_nights  number_of_reviews  reviews_per_month  \\\n",
       "0                   1                  9               0.21   \n",
       "1                   1                 45               0.38   \n",
       "2                   3                  0               0.00   \n",
       "3                   1                270               4.64   \n",
       "4                  10                  9               0.10   \n",
       "...               ...                ...                ...   \n",
       "48890               2                  0               0.00   \n",
       "48891               4                  0               0.00   \n",
       "48892              10                  0               0.00   \n",
       "48893               1                  0               0.00   \n",
       "48894               7                  0               0.00   \n",
       "\n",
       "       calculated_host_listings_count  availability_365  \n",
       "0                                   6               365  \n",
       "1                                   2               355  \n",
       "2                                   1               365  \n",
       "3                                   1               194  \n",
       "4                                   1                 0  \n",
       "...                               ...               ...  \n",
       "48890                               2                 9  \n",
       "48891                               2                36  \n",
       "48892                               1                27  \n",
       "48893                               6                 2  \n",
       "48894                               1                23  \n",
       "\n",
       "[48895 rows x 10 columns]"
      ]
     },
     "execution_count": 5,
     "metadata": {},
     "output_type": "execute_result"
    }
   ],
   "source": [
    "# load & filter csv file\r\n",
    "df = pd.read_csv(\"AB_NYC_2019.csv\") \r\n",
    "allcols = ['neighbourhood_group',\r\n",
    "'room_type',\r\n",
    "'latitude',\r\n",
    "'longitude',\r\n",
    "'price',\r\n",
    "'minimum_nights',\r\n",
    "'number_of_reviews',\r\n",
    "'reviews_per_month',\r\n",
    "'calculated_host_listings_count',\r\n",
    "'availability_365']\r\n",
    "df = df[allcols]\r\n",
    "df= df.fillna(0)\r\n",
    "df"
   ]
  },
  {
   "cell_type": "markdown",
   "metadata": {},
   "source": [
    "## Q1: mode of neighbourhood_group "
   ]
  },
  {
   "cell_type": "code",
   "execution_count": 6,
   "metadata": {},
   "outputs": [
    {
     "name": "stdout",
     "output_type": "stream",
     "text": [
      "the mode of neighborhood group is 0    Manhattan\n",
      "dtype: object\n",
      "Mode:        neighbourhood_group        room_type\n",
      "count                48895            48895\n",
      "unique                   5                3\n",
      "top              Manhattan  Entire home/apt\n",
      "freq                 21661            25409\n"
     ]
    }
   ],
   "source": [
    "print(\"the mode of neighborhood group is %s\" % df['neighbourhood_group'].mode())\r\n",
    "# alternatively\r\n",
    "print(\"Mode: %s\" % (df.describe(include=[\"O\"])))"
   ]
  },
  {
   "cell_type": "markdown",
   "metadata": {},
   "source": [
    "Data preparation"
   ]
  },
  {
   "cell_type": "code",
   "execution_count": 8,
   "metadata": {},
   "outputs": [],
   "source": [
    "np.random.seed(42) #seed RNG 42\r\n",
    "\r\n",
    "from sklearn.model_selection import train_test_split\r\n",
    "df_trainval, df_test = train_test_split(df, test_size=0.2, random_state=42) #split train+val [80%], test [20%]\r\n",
    "df_train, df_val = train_test_split(df_trainval, test_size=0.25, random_state=42) #split train[60%] val [20%]\r\n",
    "\r\n",
    "#reset, drop index\r\n",
    "df_train = df_train.reset_index(drop=True)\r\n",
    "df_test = df_test.reset_index(drop=True)\r\n",
    "df_val = df_val.reset_index(drop=True)\r\n",
    "\r\n",
    "y_test = df_test[\"price\"]\r\n",
    "y_train = df_train[\"price\"]\r\n",
    "y_val = df_val[\"price\"]\r\n",
    "\r\n",
    "del df_test[\"price\"]\r\n",
    "del df_train[\"price\"]\r\n",
    "del df_val[\"price\"]\r\n",
    "\r\n",
    "allcols.remove(\"price\") #remove price from all columns (for Q4+)"
   ]
  },
  {
   "cell_type": "markdown",
   "metadata": {},
   "source": [
    "## Q2: Correlation matrix"
   ]
  },
  {
   "cell_type": "code",
   "execution_count": 9,
   "metadata": {},
   "outputs": [
    {
     "data": {
      "image/png": "[encoded data removed]",
      "text/plain": [
       "<Figure size 1080x720 with 2 Axes>"
      ]
     },
     "metadata": {
      "needs_background": "light"
     },
     "output_type": "display_data"
    }
   ],
   "source": [
    "#Visualize Correlation Matrix\r\n",
    "df_train.corr() #it's possible to split as well\r\n",
    "\r\n",
    "plt.figure(figsize=(15,10))\r\n",
    "sns.heatmap(df_train.corr(),annot=True,linewidths = .5, cmap = \"Blues\")\r\n",
    "plt.title(\"Heatmap showing correlations between numerical data\")\r\n",
    "plt.show()"
   ]
  },
  {
   "cell_type": "code",
   "execution_count": 10,
   "metadata": {},
   "outputs": [
    {
     "name": "stdout",
     "output_type": "stream",
     "text": [
      "Max Correlation = 0.590\n",
      "which is between \n"
     ]
    },
    {
     "data": {
      "text/plain": [
       "latitude                        latitude                          1.000000\n",
       "longitude                       longitude                         1.000000\n",
       "calculated_host_listings_count  calculated_host_listings_count    1.000000\n",
       "reviews_per_month               reviews_per_month                 1.000000\n",
       "minimum_nights                  minimum_nights                    1.000000\n",
       "number_of_reviews               number_of_reviews                 1.000000\n",
       "availability_365                availability_365                  1.000000\n",
       "number_of_reviews               reviews_per_month                 0.590374\n",
       "reviews_per_month               number_of_reviews                 0.590374\n",
       "availability_365                calculated_host_listings_count    0.225913\n",
       "calculated_host_listings_count  availability_365                  0.225913\n",
       "availability_365                number_of_reviews                 0.174477\n",
       "number_of_reviews               availability_365                  0.174477\n",
       "availability_365                reviews_per_month                 0.165376\n",
       "reviews_per_month               availability_365                  0.165376\n",
       "availability_365                minimum_nights                    0.138901\n",
       "minimum_nights                  availability_365                  0.138901\n",
       "longitude                       reviews_per_month                 0.134642\n",
       "reviews_per_month               longitude                         0.134642\n",
       "calculated_host_listings_count  minimum_nights                    0.118647\n",
       "minimum_nights                  calculated_host_listings_count    0.118647\n",
       "availability_365                longitude                         0.083666\n",
       "longitude                       availability_365                  0.083666\n",
       "                                latitude                          0.080301\n",
       "latitude                        longitude                         0.080301\n",
       "longitude                       number_of_reviews                 0.055084\n",
       "number_of_reviews               longitude                         0.055084\n",
       "latitude                        minimum_nights                    0.027441\n",
       "minimum_nights                  latitude                          0.027441\n",
       "calculated_host_listings_count  latitude                          0.019375\n",
       "latitude                        calculated_host_listings_count    0.019375\n",
       "                                availability_365                 -0.005891\n",
       "availability_365                latitude                         -0.005891\n",
       "number_of_reviews               latitude                         -0.006246\n",
       "latitude                        number_of_reviews                -0.006246\n",
       "                                reviews_per_month                -0.007159\n",
       "reviews_per_month               latitude                         -0.007159\n",
       "calculated_host_listings_count  reviews_per_month                -0.048767\n",
       "reviews_per_month               calculated_host_listings_count   -0.048767\n",
       "minimum_nights                  longitude                        -0.060660\n",
       "longitude                       minimum_nights                   -0.060660\n",
       "calculated_host_listings_count  number_of_reviews                -0.073167\n",
       "number_of_reviews               calculated_host_listings_count   -0.073167\n",
       "                                minimum_nights                   -0.076020\n",
       "minimum_nights                  number_of_reviews                -0.076020\n",
       "longitude                       calculated_host_listings_count   -0.117041\n",
       "calculated_host_listings_count  longitude                        -0.117041\n",
       "minimum_nights                  reviews_per_month                -0.120703\n",
       "reviews_per_month               minimum_nights                   -0.120703\n",
       "dtype: float64"
      ]
     },
     "execution_count": 10,
     "metadata": {},
     "output_type": "execute_result"
    }
   ],
   "source": [
    "#trying to get max corr by programming means\r\n",
    "vall = df_train.corr().to_numpy()\r\n",
    "vall[vall==1]=0;\r\n",
    "idxmax = np.argmax(np.abs(vall));\r\n",
    "numerics = ['int16', 'int32', 'int64', 'float16', 'float32', 'float64'] #https://stackoverflow.com/questions/25039626/how-do-i-find-numeric-columns-in-pandas\r\n",
    "numeric_columns = df_train.select_dtypes(numerics).columns\r\n",
    "\r\n",
    "print(\"Max Correlation = %2.3f\" % vall.reshape(-1)[idxmax] )\r\n",
    "print(\"which is between \")\r\n",
    "(numeric_columns[int(idxmax/7)],numeric_columns[int(idxmax % 7)])\r\n",
    "\r\n",
    "# better way to do this:\r\n",
    "df_train.corr().unstack().sort_values(ascending=False)\r\n"
   ]
  },
  {
   "cell_type": "markdown",
   "metadata": {},
   "source": [
    "Making price binary"
   ]
  },
  {
   "cell_type": "code",
   "execution_count": 119,
   "metadata": {},
   "outputs": [],
   "source": [
    "#binarize score\r\n",
    "price_threshold = 152\r\n",
    "y_testbin = (y_test >= price_threshold).astype(np.int_)\r\n",
    "y_trainbin = (y_train >= price_threshold).astype(np.int_)\r\n",
    "y_valbin = (y_val >= price_threshold).astype(np.int_)"
   ]
  },
  {
   "cell_type": "markdown",
   "metadata": {},
   "source": [
    "## Q3: Mutual Information (MI)"
   ]
  },
  {
   "cell_type": "code",
   "execution_count": 120,
   "metadata": {},
   "outputs": [],
   "source": [
    "from sklearn.metrics import mutual_info_score\r\n",
    "df_train_cat = df_train.select_dtypes('object')\r\n",
    "cat_columns = df_train_cat.columns"
   ]
  },
  {
   "cell_type": "code",
   "execution_count": 121,
   "metadata": {},
   "outputs": [
    {
     "name": "stdout",
     "output_type": "stream",
     "text": [
      "Variable neighbourhood_group has score 0.05\n",
      "Variable room_type has score 0.14\n",
      "\t Variable with highest score room_type\n"
     ]
    }
   ],
   "source": [
    "#get (with programming) the variable with the highest MI to the now binarized score\r\n",
    "curmax = 0\r\n",
    "curmaxname = []\r\n",
    "for col in df_train_cat:\r\n",
    "    score  = np.round(mutual_info_score(df_train[col],y_trainbin),2)\r\n",
    "    print (\"Variable %s has score %2.2f\" % (col, score))\r\n",
    "    if curmax < score:         curmax = score; curmaxname = col\r\n",
    "print(\"\\t Variable with highest score %s\" % curmaxname)"
   ]
  },
  {
   "cell_type": "markdown",
   "metadata": {},
   "source": [
    "## Q4: logistic regression & accuracy"
   ]
  },
  {
   "cell_type": "code",
   "execution_count": 122,
   "metadata": {},
   "outputs": [],
   "source": [
    "from sklearn.feature_extraction import DictVectorizer\r\n",
    "dv = DictVectorizer(sparse=False) #import encoder"
   ]
  },
  {
   "cell_type": "code",
   "execution_count": 123,
   "metadata": {},
   "outputs": [],
   "source": [
    "# Serialize non-numerical data using DictVectorizer (aka One-Hot Encoding)\r\n",
    "train_dict = df_train.to_dict(orient='records') # get categorial variables from train db, sort them by x and put them into dictionary \r\n",
    "X_train = dv.fit_transform(train_dict) #one-hot encoding \r\n",
    "\r\n",
    "val_dict = df_val.to_dict(orient='records') #apply same for val db\r\n",
    "X_val = dv.transform(val_dict)"
   ]
  },
  {
   "cell_type": "code",
   "execution_count": 124,
   "metadata": {},
   "outputs": [],
   "source": [
    "#Create model\r\n",
    "from sklearn.linear_model import LogisticRegression\r\n",
    "model = LogisticRegression(solver='lbfgs', C=1.0, random_state=42)"
   ]
  },
  {
   "cell_type": "code",
   "execution_count": 125,
   "metadata": {},
   "outputs": [
    {
     "name": "stderr",
     "output_type": "stream",
     "text": [
      "D:\\Users\\Kallel\\Anaconda3\\lib\\site-packages\\sklearn\\linear_model\\_logistic.py:763: ConvergenceWarning: lbfgs failed to converge (status=1):\n",
      "STOP: TOTAL NO. of ITERATIONS REACHED LIMIT.\n",
      "\n",
      "Increase the number of iterations (max_iter) or scale the data as shown in:\n",
      "    https://scikit-learn.org/stable/modules/preprocessing.html\n",
      "Please also refer to the documentation for alternative solver options:\n",
      "    https://scikit-learn.org/stable/modules/linear_model.html#logistic-regression\n",
      "  n_iter_i = _check_optimize_result(\n"
     ]
    },
    {
     "data": {
      "text/plain": [
       "LogisticRegression(random_state=42)"
      ]
     },
     "execution_count": 125,
     "metadata": {},
     "output_type": "execute_result"
    }
   ],
   "source": [
    "#train model\r\n",
    "model.fit(X_train,y_trainbin)"
   ]
  },
  {
   "cell_type": "code",
   "execution_count": 126,
   "metadata": {},
   "outputs": [],
   "source": [
    "# check model validation\r\n",
    "\r\n",
    "#step1: get y_pred & bin to 0.5\r\n",
    "y_pred = model.predict_proba(X_val)[:, 1]\r\n",
    "churn_decision = (y_pred > 0.5).astype(np.int_) # binarize to thv = 0.5 \r\n",
    "\r\n",
    "# erm I think this should give same results?\r\n",
    "# churn_decision = model.predict(X_val)"
   ]
  },
  {
   "cell_type": "code",
   "execution_count": 127,
   "metadata": {},
   "outputs": [
    {
     "name": "stdout",
     "output_type": "stream",
     "text": [
      "Model Validation Score: 0.79\n"
     ]
    }
   ],
   "source": [
    "# step2: get accuracy \r\n",
    "original_accuracy_non_rounded = np.mean(churn_decision == y_valbin)\r\n",
    "original_accuracy = np.round(original_accuracy_non_rounded,2);\r\n",
    "print(\"Model Validation Score: %2.2f\" % original_accuracy)"
   ]
  },
  {
   "cell_type": "markdown",
   "metadata": {},
   "source": [
    "79%... well I guess I report is as it is then"
   ]
  },
  {
   "cell_type": "markdown",
   "metadata": {},
   "source": [
    "## Q5: Feature selection: smallest difference in accuracy"
   ]
  },
  {
   "cell_type": "markdown",
   "metadata": {},
   "source": [
    "Here, we'll be also making feature elimination, we will be using num+cat for this.\r\n",
    "The model will be trained same as in Q4"
   ]
  },
  {
   "cell_type": "code",
   "execution_count": 128,
   "metadata": {},
   "outputs": [
    {
     "name": "stdout",
     "output_type": "stream",
     "text": [
      "Removing neighbourhood_group, Test Accuracy is 0.7485\n"
     ]
    },
    {
     "name": "stderr",
     "output_type": "stream",
     "text": [
      "D:\\Users\\Kallel\\Anaconda3\\lib\\site-packages\\sklearn\\linear_model\\_logistic.py:763: ConvergenceWarning: lbfgs failed to converge (status=1):\n",
      "STOP: TOTAL NO. of ITERATIONS REACHED LIMIT.\n",
      "\n",
      "Increase the number of iterations (max_iter) or scale the data as shown in:\n",
      "    https://scikit-learn.org/stable/modules/preprocessing.html\n",
      "Please also refer to the documentation for alternative solver options:\n",
      "    https://scikit-learn.org/stable/modules/linear_model.html#logistic-regression\n",
      "  n_iter_i = _check_optimize_result(\n"
     ]
    },
    {
     "name": "stdout",
     "output_type": "stream",
     "text": [
      "Removing room_type, Test Accuracy is 0.7260\n"
     ]
    },
    {
     "name": "stderr",
     "output_type": "stream",
     "text": [
      "D:\\Users\\Kallel\\Anaconda3\\lib\\site-packages\\sklearn\\linear_model\\_logistic.py:763: ConvergenceWarning: lbfgs failed to converge (status=1):\n",
      "STOP: TOTAL NO. of ITERATIONS REACHED LIMIT.\n",
      "\n",
      "Increase the number of iterations (max_iter) or scale the data as shown in:\n",
      "    https://scikit-learn.org/stable/modules/preprocessing.html\n",
      "Please also refer to the documentation for alternative solver options:\n",
      "    https://scikit-learn.org/stable/modules/linear_model.html#logistic-regression\n",
      "  n_iter_i = _check_optimize_result(\n"
     ]
    },
    {
     "name": "stdout",
     "output_type": "stream",
     "text": [
      "Removing latitude, Test Accuracy is 0.7901\n"
     ]
    },
    {
     "name": "stderr",
     "output_type": "stream",
     "text": [
      "D:\\Users\\Kallel\\Anaconda3\\lib\\site-packages\\sklearn\\linear_model\\_logistic.py:763: ConvergenceWarning: lbfgs failed to converge (status=1):\n",
      "STOP: TOTAL NO. of ITERATIONS REACHED LIMIT.\n",
      "\n",
      "Increase the number of iterations (max_iter) or scale the data as shown in:\n",
      "    https://scikit-learn.org/stable/modules/preprocessing.html\n",
      "Please also refer to the documentation for alternative solver options:\n",
      "    https://scikit-learn.org/stable/modules/linear_model.html#logistic-regression\n",
      "  n_iter_i = _check_optimize_result(\n"
     ]
    },
    {
     "name": "stdout",
     "output_type": "stream",
     "text": [
      "Removing longitude, Test Accuracy is 0.7903\n"
     ]
    },
    {
     "name": "stderr",
     "output_type": "stream",
     "text": [
      "D:\\Users\\Kallel\\Anaconda3\\lib\\site-packages\\sklearn\\linear_model\\_logistic.py:763: ConvergenceWarning: lbfgs failed to converge (status=1):\n",
      "STOP: TOTAL NO. of ITERATIONS REACHED LIMIT.\n",
      "\n",
      "Increase the number of iterations (max_iter) or scale the data as shown in:\n",
      "    https://scikit-learn.org/stable/modules/preprocessing.html\n",
      "Please also refer to the documentation for alternative solver options:\n",
      "    https://scikit-learn.org/stable/modules/linear_model.html#logistic-regression\n",
      "  n_iter_i = _check_optimize_result(\n"
     ]
    },
    {
     "name": "stdout",
     "output_type": "stream",
     "text": [
      "Removing minimum_nights, Test Accuracy is 0.7903\n"
     ]
    },
    {
     "name": "stderr",
     "output_type": "stream",
     "text": [
      "D:\\Users\\Kallel\\Anaconda3\\lib\\site-packages\\sklearn\\linear_model\\_logistic.py:763: ConvergenceWarning: lbfgs failed to converge (status=1):\n",
      "STOP: TOTAL NO. of ITERATIONS REACHED LIMIT.\n",
      "\n",
      "Increase the number of iterations (max_iter) or scale the data as shown in:\n",
      "    https://scikit-learn.org/stable/modules/preprocessing.html\n",
      "Please also refer to the documentation for alternative solver options:\n",
      "    https://scikit-learn.org/stable/modules/linear_model.html#logistic-regression\n",
      "  n_iter_i = _check_optimize_result(\n"
     ]
    },
    {
     "name": "stdout",
     "output_type": "stream",
     "text": [
      "Removing number_of_reviews, Test Accuracy is 0.7912\n"
     ]
    },
    {
     "name": "stderr",
     "output_type": "stream",
     "text": [
      "D:\\Users\\Kallel\\Anaconda3\\lib\\site-packages\\sklearn\\linear_model\\_logistic.py:763: ConvergenceWarning: lbfgs failed to converge (status=1):\n",
      "STOP: TOTAL NO. of ITERATIONS REACHED LIMIT.\n",
      "\n",
      "Increase the number of iterations (max_iter) or scale the data as shown in:\n",
      "    https://scikit-learn.org/stable/modules/preprocessing.html\n",
      "Please also refer to the documentation for alternative solver options:\n",
      "    https://scikit-learn.org/stable/modules/linear_model.html#logistic-regression\n",
      "  n_iter_i = _check_optimize_result(\n"
     ]
    },
    {
     "name": "stdout",
     "output_type": "stream",
     "text": [
      "Removing reviews_per_month, Test Accuracy is 0.7902\n"
     ]
    },
    {
     "name": "stderr",
     "output_type": "stream",
     "text": [
      "D:\\Users\\Kallel\\Anaconda3\\lib\\site-packages\\sklearn\\linear_model\\_logistic.py:763: ConvergenceWarning: lbfgs failed to converge (status=1):\n",
      "STOP: TOTAL NO. of ITERATIONS REACHED LIMIT.\n",
      "\n",
      "Increase the number of iterations (max_iter) or scale the data as shown in:\n",
      "    https://scikit-learn.org/stable/modules/preprocessing.html\n",
      "Please also refer to the documentation for alternative solver options:\n",
      "    https://scikit-learn.org/stable/modules/linear_model.html#logistic-regression\n",
      "  n_iter_i = _check_optimize_result(\n"
     ]
    },
    {
     "name": "stdout",
     "output_type": "stream",
     "text": [
      "Removing calculated_host_listings_count, Test Accuracy is 0.7900\n",
      "Removing availability_365, Test Accuracy is 0.7881\n"
     ]
    },
    {
     "name": "stderr",
     "output_type": "stream",
     "text": [
      "D:\\Users\\Kallel\\Anaconda3\\lib\\site-packages\\sklearn\\linear_model\\_logistic.py:763: ConvergenceWarning: lbfgs failed to converge (status=1):\n",
      "STOP: TOTAL NO. of ITERATIONS REACHED LIMIT.\n",
      "\n",
      "Increase the number of iterations (max_iter) or scale the data as shown in:\n",
      "    https://scikit-learn.org/stable/modules/preprocessing.html\n",
      "Please also refer to the documentation for alternative solver options:\n",
      "    https://scikit-learn.org/stable/modules/linear_model.html#logistic-regression\n",
      "  n_iter_i = _check_optimize_result(\n"
     ]
    }
   ],
   "source": [
    "\r\n",
    "model_outputs = np.zeros((1,len(allcols))).reshape(-1)\r\n",
    "\r\n",
    "\r\n",
    "#remove one feature, test the accuracy and store it in model_outputs\r\n",
    "for l in range(len(allcols)):\r\n",
    "    sel_cols = np.delete(allcols, l);\r\n",
    "    train_dict = df_train[sel_cols].to_dict(orient='records') # get categorial variables from train db, sort them by x and put them into dictionary \r\n",
    "    X_train = dv.fit_transform(train_dict) #one-hot encoding \r\n",
    "    val_dict = df_val[sel_cols].to_dict(orient='records') #apply same for val db\r\n",
    "    X_val = dv.transform(val_dict)\r\n",
    "    model = LogisticRegression(solver='lbfgs', C=1.0, random_state=42)\r\n",
    "    model.fit(X_train,y_trainbin)\r\n",
    "    y_pred = model.predict_proba(X_val)[:, 1]\r\n",
    "    churn_decision = (y_pred > 0.5).astype(np.int_) # binarize to thv = 0.5 \r\n",
    "    new_accuracy = np.mean(churn_decision == y_valbin);\r\n",
    "    model_outputs[l] = new_accuracy\r\n",
    "    print(\"Removing %s, Test Accuracy is %2.4f\" %(allcols[l],new_accuracy))"
   ]
  },
  {
   "cell_type": "code",
   "execution_count": 129,
   "metadata": {},
   "outputs": [
    {
     "name": "stdout",
     "output_type": "stream",
     "text": [
      "The feature with the least difference is : longitude\n",
      "The feature with the least difference, among the listed ones is : number_of_reviews\n"
     ]
    }
   ],
   "source": [
    "# find the feature with least impact\r\n",
    "diff = np.abs(model_outputs - original_accuracy_non_rounded)\r\n",
    "idxmin = np.argmin(diff)\r\n",
    "print(\"The feature with the least difference is : %s\" % allcols[idxmin])\r\n",
    "\r\n",
    "#hmmm, I don't see this feature in Q4, let's see: which of the mentioned features has the least amount\r\n",
    "feature_of_interest_index = [0, 1, 3, 5] #2n+1...\r\n",
    "#np.array(allcols)[feature_of_interest_index] #for checking they're the correct ones\r\n",
    "diff = diff[feature_of_interest_index]\r\n",
    "idxmin = np.argmin(diff)\r\n",
    "print(\"The feature with the least difference, among the listed ones is : %s\" % allcols[2*idxmin+1])\r\n"
   ]
  },
  {
   "cell_type": "code",
   "execution_count": 130,
   "metadata": {},
   "outputs": [],
   "source": [
    "#alright, probably I made a mistake since there is this \"warning\" AND now that feature with the least impact isn't present...."
   ]
  },
  {
   "cell_type": "markdown",
   "metadata": {},
   "source": [
    "## Q6: Linear Regression model"
   ]
  },
  {
   "cell_type": "code",
   "execution_count": 131,
   "metadata": {},
   "outputs": [],
   "source": [
    "#Create model\r\n",
    "from sklearn.linear_model import LinearRegression, Ridge\r\n",
    "modelnonReg = LinearRegression()\r\n",
    "model = Ridge()"
   ]
  },
  {
   "cell_type": "code",
   "execution_count": 132,
   "metadata": {},
   "outputs": [],
   "source": [
    "# log transform on the output (instead of df)\r\n",
    "y_trainlog = np.log1p(y_train)\r\n",
    "y_vallog = np.log1p(y_val)\r\n",
    "y_testlog = np.log1p(y_test)"
   ]
  },
  {
   "cell_type": "code",
   "execution_count": 133,
   "metadata": {},
   "outputs": [],
   "source": [
    "def rmse(x,y):\r\n",
    "    return np.sqrt(np.mean((x-y)**2))"
   ]
  },
  {
   "cell_type": "code",
   "execution_count": 134,
   "metadata": {},
   "outputs": [],
   "source": [
    "#prepare database\r\n",
    "train_dict = df_train.to_dict(orient='records') # get categorial variables from train db, sort them by x and put them into dictionary \r\n",
    "X_train = dv.fit_transform(train_dict) #one-hot encoding \r\n",
    "val_dict = df_val.to_dict(orient='records') #apply same for val db\r\n",
    "X_val = dv.transform(val_dict)\r\n",
    "   "
   ]
  },
  {
   "cell_type": "code",
   "execution_count": 135,
   "metadata": {},
   "outputs": [
    {
     "name": "stdout",
     "output_type": "stream",
     "text": [
      "For alpha= 0.000, RMSE is 0.494\n",
      "For alpha= 0.010, RMSE is 0.494\n",
      "For alpha= 0.100, RMSE is 0.494\n",
      "For alpha= 1.000, RMSE is 0.494\n",
      "For alpha= 10.000, RMSE is 0.495\n"
     ]
    }
   ],
   "source": [
    "#best alpha values\r\n",
    "for alpha in [0, 0.01, 0.1, 1, 10]:\r\n",
    "    model=Ridge(alpha=alpha)\r\n",
    "    model.fit(X_train,y_trainlog)\r\n",
    "    y_pred = model.predict(X_val)\r\n",
    "    \r\n",
    "    new_accuracy = rmse(y_pred , y_vallog);\r\n",
    "    model_outputs[l] = new_accuracy\r\n",
    "    print(\"For alpha= %2.3f, RMSE is %2.3f\" %(alpha,np.round(new_accuracy,3)))\r\n",
    "    # for this question... erm if rounded by 5 digits, it's answer #2, but since it's rounded to only 3, then it's answer #1"
   ]
  },
  {
   "cell_type": "code",
   "execution_count": 137,
   "metadata": {},
   "outputs": [
    {
     "data": {
      "text/plain": [
       "array([[4.54056781, 4.94017468, 5.23123476, ..., 5.25777598, 5.13248752,\n",
       "        5.17154765],\n",
       "       [5.01063529, 3.93182563, 5.01727984, ..., 5.170484  , 4.60517019,\n",
       "        4.75359019]])"
      ]
     },
     "execution_count": 137,
     "metadata": {},
     "output_type": "execute_result"
    }
   ],
   "source": [
    "#is the difference not that high?????\r\n",
    "np.vstack((y_pred, y_vallog))\r\n"
   ]
  },
  {
   "cell_type": "markdown",
   "metadata": {},
   "source": [
    "So basically...if rounded by 5 digits, it's answer #2, but since it's rounded to only 3, then it's answer #1\r\n",
    "and with that the (tricky) homework is finished. This time I don't feel as confident as the last 2 homeworks, but oh well. "
   ]
  },
  {
   "cell_type": "code",
   "execution_count": null,
   "metadata": {},
   "outputs": [],
   "source": []
  }
 ],
 "metadata": {
  "interpreter": {
   "hash": "8adc0f1b6d3ef35c7cd11bc7b6b8b8d8478dc538640b17df34a7d3db85fc9445"
  },
  "kernelspec": {
   "display_name": "Python 3.8.8 64-bit ('base': conda)",
   "name": "python3"
  },
  "language_info": {
   "codemirror_mode": {
    "name": "ipython",
    "version": 3
   },
   "file_extension": ".py",
   "mimetype": "text/x-python",
   "name": "python",
   "nbconvert_exporter": "python",
   "pygments_lexer": "ipython3",
   "version": "3.8.8"
  },
  "orig_nbformat": 4
 },
 "nbformat": 4,
 "nbformat_minor": 2
}