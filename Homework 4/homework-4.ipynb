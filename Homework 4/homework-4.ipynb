{
 "cells": [
  {
   "cell_type": "markdown",
   "metadata": {},
   "source": [
    "## Homework 4\n",
    "\n",
    "Use this notebook as a starter"
   ]
  },
  {
   "cell_type": "markdown",
   "metadata": {},
   "source": [
    "Started code from: https://github.com/alexeygrigorev/mlbookcamp-code/blob/master/course-zoomcamp/04-evaluation/homework-4-starter.ipynb "
   ]
  },
  {
   "cell_type": "code",
   "execution_count": 2,
   "metadata": {},
   "outputs": [],
   "source": [
    "import pandas as pd\r\n",
    "import numpy as np\r\n",
    "\r\n",
    "import matplotlib.pyplot as plt\r\n",
    "import seaborn as sns\r\n",
    "\r\n",
    "#%matplotlib inline"
   ]
  },
  {
   "cell_type": "markdown",
   "metadata": {},
   "source": [
    "Data:\n",
    "\n",
    "- https://github.com/gastonstat/CreditScoring\n",
    "- Also available [here](https://raw.githubusercontent.com/alexeygrigorev/mlbookcamp-code/master/chapter-06-trees/CreditScoring.csv)"
   ]
  },
  {
   "cell_type": "code",
   "execution_count": 3,
   "metadata": {
    "scrolled": true
   },
   "outputs": [
    {
     "name": "stderr",
     "output_type": "stream",
     "text": [
      "--2021-10-03 19:26:08--  https://raw.githubusercontent.com/alexeygrigorev/mlbookcamp-code/master/chapter-06-trees/CreditScoring.csv\n",
      "Resolving raw.githubusercontent.com (raw.githubusercontent.com)... 185.199.111.133, 185.199.110.133, 185.199.108.133, ...\n",
      "Connecting to raw.githubusercontent.com (raw.githubusercontent.com)|185.199.111.133|:443... connected.\n",
      "HTTP request sent, awaiting response... 200 OK\n",
      "Length: 182489 (178K) [text/plain]\n",
      "Saving to: 'CreditScoring.csv.6'\n",
      "\n",
      "     0K .......... .......... .......... .......... .......... 28% 1.54M 0s\n",
      "    50K .......... .......... .......... .......... .......... 56% 5.78M 0s\n",
      "   100K .......... .......... .......... .......... .......... 84% 6.57M 0s\n",
      "   150K .......... .......... ........                        100% 5.86M=0.05s\n",
      "\n",
      "2021-10-03 19:26:08 (3.33 MB/s) - 'CreditScoring.csv.6' saved [182489/182489]\n",
      "\n"
     ]
    }
   ],
   "source": [
    "#!wget https://raw.githubusercontent.com/alexeygrigorev/mlbookcamp-code/master/chapter-06-trees/CreditScoring.csv\r\n",
    "!\"C:\\Program Files (x86)\\TeXmacs\\bin\\wget.exe\" https://raw.githubusercontent.com/alexeygrigorev/mlbookcamp-code/master/chapter-06-trees/CreditScoring.csv"
   ]
  },
  {
   "cell_type": "markdown",
   "metadata": {},
   "source": [
    "## Preparation \n",
    "\n",
    "We'll talk about this dataset in more details in week 6. But for now, use the following code to get started"
   ]
  },
  {
   "cell_type": "code",
   "execution_count": 4,
   "metadata": {},
   "outputs": [],
   "source": [
    "df = pd.read_csv('CreditScoring.csv')\n",
    "df.columns = df.columns.str.lower()"
   ]
  },
  {
   "cell_type": "markdown",
   "metadata": {},
   "source": [
    "Some of the features are encoded as numbers. Use the following code to de-code them:"
   ]
  },
  {
   "cell_type": "code",
   "execution_count": 5,
   "metadata": {},
   "outputs": [],
   "source": [
    "status_values = {\n",
    "    1: 'ok',\n",
    "    2: 'default',\n",
    "    0: 'unk'\n",
    "}\n",
    "\n",
    "df.status = df.status.map(status_values)\n",
    "\n",
    "\n",
    "home_values = {\n",
    "    1: 'rent',\n",
    "    2: 'owner',\n",
    "    3: 'private',\n",
    "    4: 'ignore',\n",
    "    5: 'parents',\n",
    "    6: 'other',\n",
    "    0: 'unk'\n",
    "}\n",
    "\n",
    "df.home = df.home.map(home_values)\n",
    "\n",
    "marital_values = {\n",
    "    1: 'single',\n",
    "    2: 'married',\n",
    "    3: 'widow',\n",
    "    4: 'separated',\n",
    "    5: 'divorced',\n",
    "    0: 'unk'\n",
    "}\n",
    "\n",
    "df.marital = df.marital.map(marital_values)\n",
    "\n",
    "records_values = {\n",
    "    1: 'no',\n",
    "    2: 'yes',\n",
    "    0: 'unk'\n",
    "}\n",
    "\n",
    "df.records = df.records.map(records_values)\n",
    "\n",
    "job_values = {\n",
    "    1: 'fixed',\n",
    "    2: 'partime',\n",
    "    3: 'freelance',\n",
    "    4: 'others',\n",
    "    0: 'unk'\n",
    "}\n",
    "\n",
    "df.job = df.job.map(job_values)"
   ]
  },
  {
   "cell_type": "markdown",
   "metadata": {},
   "source": [
    "Prepare the numerical variables:"
   ]
  },
  {
   "cell_type": "code",
   "execution_count": 6,
   "metadata": {},
   "outputs": [],
   "source": [
    "for c in ['income', 'assets', 'debt']:\n",
    "    df[c] = df[c].replace(to_replace=99999999, value=0)"
   ]
  },
  {
   "cell_type": "markdown",
   "metadata": {},
   "source": [
    "Remove clients with unknown default status"
   ]
  },
  {
   "cell_type": "code",
   "execution_count": 7,
   "metadata": {},
   "outputs": [],
   "source": [
    "df = df[df.status != 'unk'].reset_index(drop=True)"
   ]
  },
  {
   "cell_type": "markdown",
   "metadata": {},
   "source": [
    "Create the target variable"
   ]
  },
  {
   "cell_type": "code",
   "execution_count": 8,
   "metadata": {},
   "outputs": [],
   "source": [
    "df['default'] = (df.status == 'default').astype(int)\n",
    "del df['status']"
   ]
  },
  {
   "cell_type": "markdown",
   "metadata": {},
   "source": [
    "## Your code"
   ]
  },
  {
   "cell_type": "markdown",
   "metadata": {},
   "source": [
    "What are the categorical variables? What are the numerical?"
   ]
  },
  {
   "cell_type": "code",
   "execution_count": 9,
   "metadata": {},
   "outputs": [
    {
     "data": {
      "text/html": [
       "<div>\n",
       "<style scoped>\n",
       "    .dataframe tbody tr th:only-of-type {\n",
       "        vertical-align: middle;\n",
       "    }\n",
       "\n",
       "    .dataframe tbody tr th {\n",
       "        vertical-align: top;\n",
       "    }\n",
       "\n",
       "    .dataframe thead th {\n",
       "        text-align: right;\n",
       "    }\n",
       "</style>\n",
       "<table border=\"1\" class=\"dataframe\">\n",
       "  <thead>\n",
       "    <tr style=\"text-align: right;\">\n",
       "      <th></th>\n",
       "      <th>seniority</th>\n",
       "      <th>home</th>\n",
       "      <th>time</th>\n",
       "      <th>age</th>\n",
       "      <th>marital</th>\n",
       "      <th>records</th>\n",
       "      <th>job</th>\n",
       "      <th>expenses</th>\n",
       "      <th>income</th>\n",
       "      <th>assets</th>\n",
       "      <th>debt</th>\n",
       "      <th>amount</th>\n",
       "      <th>price</th>\n",
       "      <th>default</th>\n",
       "    </tr>\n",
       "  </thead>\n",
       "  <tbody>\n",
       "    <tr>\n",
       "      <th>0</th>\n",
       "      <td>9</td>\n",
       "      <td>rent</td>\n",
       "      <td>60</td>\n",
       "      <td>30</td>\n",
       "      <td>married</td>\n",
       "      <td>no</td>\n",
       "      <td>freelance</td>\n",
       "      <td>73</td>\n",
       "      <td>129</td>\n",
       "      <td>0</td>\n",
       "      <td>0</td>\n",
       "      <td>800</td>\n",
       "      <td>846</td>\n",
       "      <td>0</td>\n",
       "    </tr>\n",
       "    <tr>\n",
       "      <th>1</th>\n",
       "      <td>17</td>\n",
       "      <td>rent</td>\n",
       "      <td>60</td>\n",
       "      <td>58</td>\n",
       "      <td>widow</td>\n",
       "      <td>no</td>\n",
       "      <td>fixed</td>\n",
       "      <td>48</td>\n",
       "      <td>131</td>\n",
       "      <td>0</td>\n",
       "      <td>0</td>\n",
       "      <td>1000</td>\n",
       "      <td>1658</td>\n",
       "      <td>0</td>\n",
       "    </tr>\n",
       "    <tr>\n",
       "      <th>2</th>\n",
       "      <td>10</td>\n",
       "      <td>owner</td>\n",
       "      <td>36</td>\n",
       "      <td>46</td>\n",
       "      <td>married</td>\n",
       "      <td>yes</td>\n",
       "      <td>freelance</td>\n",
       "      <td>90</td>\n",
       "      <td>200</td>\n",
       "      <td>3000</td>\n",
       "      <td>0</td>\n",
       "      <td>2000</td>\n",
       "      <td>2985</td>\n",
       "      <td>1</td>\n",
       "    </tr>\n",
       "    <tr>\n",
       "      <th>3</th>\n",
       "      <td>0</td>\n",
       "      <td>rent</td>\n",
       "      <td>60</td>\n",
       "      <td>24</td>\n",
       "      <td>single</td>\n",
       "      <td>no</td>\n",
       "      <td>fixed</td>\n",
       "      <td>63</td>\n",
       "      <td>182</td>\n",
       "      <td>2500</td>\n",
       "      <td>0</td>\n",
       "      <td>900</td>\n",
       "      <td>1325</td>\n",
       "      <td>0</td>\n",
       "    </tr>\n",
       "    <tr>\n",
       "      <th>4</th>\n",
       "      <td>0</td>\n",
       "      <td>rent</td>\n",
       "      <td>36</td>\n",
       "      <td>26</td>\n",
       "      <td>single</td>\n",
       "      <td>no</td>\n",
       "      <td>fixed</td>\n",
       "      <td>46</td>\n",
       "      <td>107</td>\n",
       "      <td>0</td>\n",
       "      <td>0</td>\n",
       "      <td>310</td>\n",
       "      <td>910</td>\n",
       "      <td>0</td>\n",
       "    </tr>\n",
       "    <tr>\n",
       "      <th>...</th>\n",
       "      <td>...</td>\n",
       "      <td>...</td>\n",
       "      <td>...</td>\n",
       "      <td>...</td>\n",
       "      <td>...</td>\n",
       "      <td>...</td>\n",
       "      <td>...</td>\n",
       "      <td>...</td>\n",
       "      <td>...</td>\n",
       "      <td>...</td>\n",
       "      <td>...</td>\n",
       "      <td>...</td>\n",
       "      <td>...</td>\n",
       "      <td>...</td>\n",
       "    </tr>\n",
       "    <tr>\n",
       "      <th>4449</th>\n",
       "      <td>1</td>\n",
       "      <td>rent</td>\n",
       "      <td>60</td>\n",
       "      <td>39</td>\n",
       "      <td>married</td>\n",
       "      <td>no</td>\n",
       "      <td>fixed</td>\n",
       "      <td>69</td>\n",
       "      <td>92</td>\n",
       "      <td>0</td>\n",
       "      <td>0</td>\n",
       "      <td>900</td>\n",
       "      <td>1020</td>\n",
       "      <td>1</td>\n",
       "    </tr>\n",
       "    <tr>\n",
       "      <th>4450</th>\n",
       "      <td>22</td>\n",
       "      <td>owner</td>\n",
       "      <td>60</td>\n",
       "      <td>46</td>\n",
       "      <td>married</td>\n",
       "      <td>no</td>\n",
       "      <td>fixed</td>\n",
       "      <td>60</td>\n",
       "      <td>75</td>\n",
       "      <td>3000</td>\n",
       "      <td>600</td>\n",
       "      <td>950</td>\n",
       "      <td>1263</td>\n",
       "      <td>0</td>\n",
       "    </tr>\n",
       "    <tr>\n",
       "      <th>4451</th>\n",
       "      <td>0</td>\n",
       "      <td>owner</td>\n",
       "      <td>24</td>\n",
       "      <td>37</td>\n",
       "      <td>married</td>\n",
       "      <td>no</td>\n",
       "      <td>partime</td>\n",
       "      <td>60</td>\n",
       "      <td>90</td>\n",
       "      <td>3500</td>\n",
       "      <td>0</td>\n",
       "      <td>500</td>\n",
       "      <td>963</td>\n",
       "      <td>1</td>\n",
       "    </tr>\n",
       "    <tr>\n",
       "      <th>4452</th>\n",
       "      <td>0</td>\n",
       "      <td>rent</td>\n",
       "      <td>48</td>\n",
       "      <td>23</td>\n",
       "      <td>single</td>\n",
       "      <td>no</td>\n",
       "      <td>freelance</td>\n",
       "      <td>49</td>\n",
       "      <td>140</td>\n",
       "      <td>0</td>\n",
       "      <td>0</td>\n",
       "      <td>550</td>\n",
       "      <td>550</td>\n",
       "      <td>0</td>\n",
       "    </tr>\n",
       "    <tr>\n",
       "      <th>4453</th>\n",
       "      <td>5</td>\n",
       "      <td>owner</td>\n",
       "      <td>60</td>\n",
       "      <td>32</td>\n",
       "      <td>married</td>\n",
       "      <td>no</td>\n",
       "      <td>freelance</td>\n",
       "      <td>60</td>\n",
       "      <td>140</td>\n",
       "      <td>4000</td>\n",
       "      <td>1000</td>\n",
       "      <td>1350</td>\n",
       "      <td>1650</td>\n",
       "      <td>0</td>\n",
       "    </tr>\n",
       "  </tbody>\n",
       "</table>\n",
       "<p>4454 rows × 14 columns</p>\n",
       "</div>"
      ],
      "text/plain": [
       "      seniority   home  time  age  marital records        job  expenses  \\\n",
       "0             9   rent    60   30  married      no  freelance        73   \n",
       "1            17   rent    60   58    widow      no      fixed        48   \n",
       "2            10  owner    36   46  married     yes  freelance        90   \n",
       "3             0   rent    60   24   single      no      fixed        63   \n",
       "4             0   rent    36   26   single      no      fixed        46   \n",
       "...         ...    ...   ...  ...      ...     ...        ...       ...   \n",
       "4449          1   rent    60   39  married      no      fixed        69   \n",
       "4450         22  owner    60   46  married      no      fixed        60   \n",
       "4451          0  owner    24   37  married      no    partime        60   \n",
       "4452          0   rent    48   23   single      no  freelance        49   \n",
       "4453          5  owner    60   32  married      no  freelance        60   \n",
       "\n",
       "      income  assets  debt  amount  price  default  \n",
       "0        129       0     0     800    846        0  \n",
       "1        131       0     0    1000   1658        0  \n",
       "2        200    3000     0    2000   2985        1  \n",
       "3        182    2500     0     900   1325        0  \n",
       "4        107       0     0     310    910        0  \n",
       "...      ...     ...   ...     ...    ...      ...  \n",
       "4449      92       0     0     900   1020        1  \n",
       "4450      75    3000   600     950   1263        0  \n",
       "4451      90    3500     0     500    963        1  \n",
       "4452     140       0     0     550    550        0  \n",
       "4453     140    4000  1000    1350   1650        0  \n",
       "\n",
       "[4454 rows x 14 columns]"
      ]
     },
     "execution_count": 9,
     "metadata": {},
     "output_type": "execute_result"
    }
   ],
   "source": [
    "numerics = ['int16', 'int32', 'int64', 'float16', 'float32', 'float64'] #https://stackoverflow.com/questions/25039626/how-do-i-find-numeric-columns-in-pandas\r\n",
    "num_columns = df.select_dtypes(numerics).columns #10\r\n",
    "cat_columns = df.select_dtypes(['object']).columns #4\r\n",
    "df #14 all: ok"
   ]
  },
  {
   "cell_type": "markdown",
   "metadata": {},
   "source": [
    "Split the data into 3 parts: train/validation/test with 60%/20%/20% distribution. Use `train_test_split` funciton for that with `random_state=1`"
   ]
  },
  {
   "cell_type": "code",
   "execution_count": 10,
   "metadata": {},
   "outputs": [],
   "source": [
    "np.random.seed(1) #seed RNG 1\r\n",
    "\r\n",
    "#this time random_state = 1 not 42 (!)\r\n",
    "from sklearn.model_selection import train_test_split\r\n",
    "df_trainval, df_test = train_test_split(df, test_size=0.2, random_state=1) #split train+val [80%], test [20%]\r\n",
    "df_train, df_val = train_test_split(df_trainval, test_size=0.25, random_state=1) #split train[60%] val [20%]"
   ]
  },
  {
   "cell_type": "markdown",
   "metadata": {},
   "source": [
    "## Question 1\n",
    "\n",
    "ROC AUC could also be used to evaluate feature importance of numerical variables. \n",
    "\n",
    "Let's do that\n",
    "\n",
    "* For each numerical variable, use it as score and compute AUC with the \"default\" variable\n",
    "* Use the training dataset for that\n",
    "\n",
    "\n",
    "If your AUC is < 0.5, invert this variable by putting \"-\" in front\n",
    "\n",
    "(e.g. `-df_train['expenses']`)\n",
    "\n",
    "AUC can go below 0.5 if the variable is negatively correlated with the target varialble. You can change the direction of the correlation by negating this variable - then negative correlation becomes positive."
   ]
  },
  {
   "cell_type": "code",
   "execution_count": 11,
   "metadata": {},
   "outputs": [],
   "source": [
    "from sklearn.metrics import auc, roc_curve"
   ]
  },
  {
   "cell_type": "code",
   "execution_count": 12,
   "metadata": {},
   "outputs": [
    {
     "name": "stdout",
     "output_type": "stream",
     "text": [
      "seniority 0.709\n",
      "time      0.560\n",
      "income    0.682\n",
      "debt      0.504\n"
     ]
    },
    {
     "data": {
      "text/plain": [
       "<matplotlib.legend.Legend at 0x156d97acb20>"
      ]
     },
     "execution_count": 12,
     "metadata": {},
     "output_type": "execute_result"
    },
    {
     "data": {
      "image/png": "[encoded data removed]",
      "text/plain": [
       "<Figure size 432x288 with 1 Axes>"
      ]
     },
     "metadata": {
      "needs_background": "light"
     },
     "output_type": "display_data"
    }
   ],
   "source": [
    "#num_columns\r\n",
    "for col in ['seniority','time','income','debt']:\r\n",
    "    fpr, tpr, thresholds = roc_curve(df_train['default'], df_train[col] )\r\n",
    "    score = auc(fpr,tpr)\r\n",
    "    \r\n",
    "    if score < 0.5: \r\n",
    "        fpr, tpr, thresholds = roc_curve(df_train['default'], -df_train[col] )\r\n",
    "        score = auc(fpr,tpr)\r\n",
    "\r\n",
    "    plt.plot(fpr,tpr , label=col )\r\n",
    "    print(col + (\" \"*(10-len(col))) + str(score)[:5]) #a little bit old-school python printing... \r\n",
    "    \r\n",
    "plt.xlabel('Def var')\r\n",
    "plt.ylabel('col')\r\n",
    "plt.grid(True)\r\n",
    "plt.legend()"
   ]
  },
  {
   "cell_type": "markdown",
   "metadata": {},
   "source": [
    "Which numerical variable (among the following 4) has the highest AUC?\n",
    "\n",
    "- seniority\n",
    "- time\n",
    "- income\n",
    "- debt"
   ]
  },
  {
   "cell_type": "markdown",
   "metadata": {},
   "source": [
    " **Q1: Seniority has the highest AUC**"
   ]
  },
  {
   "cell_type": "markdown",
   "metadata": {},
   "source": [
    "## Training the model\n",
    "\n",
    "From now on, use these columns only:\n",
    "\n",
    "```\n",
    "['seniority', 'income', 'assets', 'records', 'job', 'home']\n",
    "```\n",
    "\n",
    "Apply one-hot-encoding using `DictVectorizer` and train the logistic regression with these parameters:\n",
    "\n",
    "```\n",
    "LogisticRegression(solver='liblinear', C=1.0, max_iter=1000)\n",
    "```"
   ]
  },
  {
   "cell_type": "code",
   "execution_count": 13,
   "metadata": {},
   "outputs": [
    {
     "name": "stdout",
     "output_type": "stream",
     "text": [
      "ROC AUC: 0.812\n"
     ]
    }
   ],
   "source": [
    "#import DictVectorizer and prepare one and one-hot encode serializer\r\n",
    "from sklearn.feature_extraction import DictVectorizer\r\n",
    "dv = DictVectorizer(sparse=False) #import encoder\r\n",
    "\r\n",
    "#import roc auc \r\n",
    "from sklearn.metrics import roc_auc_score\r\n",
    "\r\n",
    "#select the of interest train vars\r\n",
    "sel_col = ['seniority', 'income', 'assets', 'records', 'job', 'home']\r\n",
    "#tar_col =['default'] # took me 7 hours to figure that for some reason if I put this, it doesn't work. \r\n",
    "y_train = df_train['default'].values\r\n",
    "y_val = df_val['default'].values\r\n",
    "df_train = df_train[sel_col]\r\n",
    "df_val = df_val[sel_col]\r\n",
    "\r\n",
    "# Serialize non-numerical data using DictVectorizer (aka One-Hot Encoding)\r\n",
    "train_dict = df_train.to_dict(orient='records') # get categorial variables from train db, sort them by x and put them into dictionary \r\n",
    "val_dict = df_val.to_dict(orient='records')\r\n",
    "X_train = dv.fit_transform(train_dict) #one-hot encoding \r\n",
    "X_val = dv.fit_transform(val_dict)\r\n",
    "\r\n",
    "#Create model\r\n",
    "from sklearn.linear_model import LogisticRegression\r\n",
    "model = LogisticRegression(solver='liblinear', C=1.0, max_iter=1000)\r\n",
    "\r\n",
    "#train model\r\n",
    "model.fit(X_train,y_train)\r\n",
    "\r\n",
    "#validate model\r\n",
    "y_predict = model.predict_proba(X_val)[:, 1]\r\n",
    "\r\n",
    "#get ROC AUC\r\n",
    "print(\"ROC AUC: %2.3f\" % round(roc_auc_score(y_val,y_predict),3))"
   ]
  },
  {
   "cell_type": "markdown",
   "metadata": {},
   "source": [
    "* **Q2 -> 0.812**"
   ]
  },
  {
   "cell_type": "markdown",
   "metadata": {},
   "source": [
    "## Question 2\n",
    "\n",
    "What's the AUC of this model on the validation dataset? (round to 3 digits)\n",
    "\n",
    "- 0.512\n",
    "- 0.612\n",
    "- 0.712\n",
    "- 0.812"
   ]
  },
  {
   "cell_type": "markdown",
   "metadata": {},
   "source": [
    "## Question 3\n",
    "\n",
    "Now let's compute precision and recall for our model.\n",
    "\n",
    "* Evaluate the model on all thresholds from 0.0 to 1.0 with step 0.01\n",
    "* For each threshold, compute precision and recall\n",
    "* Plot them"
   ]
  },
  {
   "cell_type": "code",
   "execution_count": 14,
   "metadata": {},
   "outputs": [
    {
     "name": "stdout",
     "output_type": "stream",
     "text": [
      "Threshold 0.40\n"
     ]
    },
    {
     "name": "stderr",
     "output_type": "stream",
     "text": [
      "<ipython-input-14-473aca574711>:32: RuntimeWarning: invalid value encountered in long_scalars\n",
      "  precision = tp / (tp+fp)*1.0\n"
     ]
    },
    {
     "data": {
      "image/png": "[encoded data removed]",
      "text/plain": [
       "<Figure size 432x288 with 1 Axes>"
      ]
     },
     "metadata": {
      "needs_background": "light"
     },
     "output_type": "display_data"
    }
   ],
   "source": [
    "from sklearn.metrics import accuracy_score\r\n",
    "\r\n",
    "# first analytics, best threshold \r\n",
    "thresholds = np.arange(0.0, 1.0, 0.01)\r\n",
    "scores = [];\r\n",
    "precisions = [];\r\n",
    "recalls = [];\r\n",
    "\r\n",
    "#reminders\r\n",
    "#Precision: tp/(tp+fp) \r\n",
    "#Recall: tp/(tp+fn) (failed to identify)\r\n",
    "\r\n",
    "\r\n",
    "\r\n",
    "\r\n",
    "eps = 1e-34\r\n",
    "\r\n",
    "max_score = 0.0;\r\n",
    "max_scoreth = -1;\r\n",
    "for th in thresholds:\r\n",
    "    #score = accuracy_score(y_val, y_predict >= th)\r\n",
    "    #if max_score < score: max_score = score; max_scoreth = th\r\n",
    "\r\n",
    "    y_pred_bin =  (y_predict >= th)\r\n",
    "    tp = ((y_pred_bin == True) & (y_val == True)).sum()\r\n",
    "    fp = ((y_pred_bin == True) & (y_val == False)).sum()\r\n",
    "    fn = ((y_pred_bin == False) & (y_val == True)).sum()\r\n",
    "\r\n",
    "    #print(\"%f\\t%d\\t%d\\t%d\" %(th,tp,fp,fn)) \r\n",
    "    \r\n",
    "    \r\n",
    "    precision = tp / (tp+fp)*1.0\r\n",
    "    recall = tp / (tp+fn)*1.0\r\n",
    "    precisions.append(precision)\r\n",
    "    recalls.append(recall)\r\n",
    "    scores.append(score)\r\n",
    "    #print(\"%f\\t%f\\t%f\" %(th,precision,recall))  #why is precision constant??? #solved: tar_col was giving, no\r\n",
    "\r\n",
    "#plt.plot(thresholds,scores)\r\n",
    "#plt.plot(max_scoreth,max_score,'kx')\r\n",
    "#plt.text(max_scoreth,max_score*0.95,\"(%2.3f, %2.3f)\" % (max_scoreth,max_score),ha='center')\r\n",
    "#plt.xlabel('Threshold')\r\n",
    "#plt.ylabel('Score Accuracy')\r\n",
    "#plt.grid(True)\r\n",
    "\r\n",
    "\r\n",
    "plt.figure()\r\n",
    "#precision and recall\r\n",
    "plt.plot(thresholds,precisions,label='Precisions')\r\n",
    "plt.plot(thresholds,recalls,label='Recalls')\r\n",
    "plt.legend()\r\n",
    "plt.xlabel('Thresholds')\r\n",
    "plt.ylabel('Precision, Recall')\r\n",
    "plt.grid()\r\n",
    "\r\n",
    "#bi-section method\r\n",
    "a = 0\r\n",
    "b = len(thresholds)-1\r\n",
    "\r\n",
    "while True:\r\n",
    "    m = int(np.round((a+b)/2))\r\n",
    "    \r\n",
    "    fg_left =  precisions[a] - recalls[a]\r\n",
    "    fg_right =  precisions[b] - recalls[b]\r\n",
    "    fg_med =  precisions[m] - recalls[m]\r\n",
    "    if np.sign(fg_left) == np.sign(fg_med):\r\n",
    "        if a==m: break;\r\n",
    "        a = m\r\n",
    "    else:\r\n",
    "        if b==m: break;\r\n",
    "        b = m\r\n",
    "\r\n",
    "print(\"Threshold %2.2f\" % ((thresholds[a] + thresholds[b])/2))"
   ]
  },
  {
   "cell_type": "markdown",
   "metadata": {},
   "source": [
    "* **Q3 --> 0.4**"
   ]
  },
  {
   "cell_type": "markdown",
   "metadata": {},
   "source": [
    "At which threshold precision and recall curves intersect?\n",
    "\n",
    "* 0.2\n",
    "* 0.4\n",
    "* 0.6\n",
    "* 0.8"
   ]
  },
  {
   "cell_type": "markdown",
   "metadata": {},
   "source": [
    "## Question 4\n",
    "\n",
    "Precision and recall are conflicting - when one grows, the other goes down. That's why they are often combined into the F1 score - a metrics that takes into account both\n",
    "\n",
    "This is the formula for computing F1:\n",
    "\n",
    "$$F_1 = 2 \\cdot \\cfrac{P \\cdot R}{P + R}$$\n",
    "\n",
    "Where $P$ is precision and $R$ is recall.\n",
    "\n",
    "Let's compute F1 for all thresholds from 0.0 to 1.0 with increment 0.01"
   ]
  },
  {
   "cell_type": "code",
   "execution_count": 15,
   "metadata": {},
   "outputs": [
    {
     "name": "stdout",
     "output_type": "stream",
     "text": [
      "Maximum is 0.629 located at threshold 0.30\n"
     ]
    },
    {
     "data": {
      "image/png": "[encoded data removed]",
      "text/plain": [
       "<Figure size 432x288 with 1 Axes>"
      ]
     },
     "metadata": {
      "needs_background": "light"
     },
     "output_type": "display_data"
    }
   ],
   "source": [
    "P = np.array(precisions)\r\n",
    "R = np.array(recalls)\r\n",
    "\r\n",
    "F1 = 2 * P*R/(P+R)\r\n",
    "F1[np.isnan(F1)] = 0; #problem with isNaN\r\n",
    "\r\n",
    "plt.plot(thresholds,F1)\r\n",
    "my = F1.max()\r\n",
    "mx = thresholds[F1.argmax()]\r\n",
    "\r\n",
    "plt.plot(mx,my,'kx')\r\n",
    "plt.xlabel('Threshold')\r\n",
    "plt.ylabel('F1')\r\n",
    "plt.grid(True)\r\n",
    "print(\"Maximum is %2.3f located at threshold %2.2f\" %(my,mx))\r\n"
   ]
  },
  {
   "cell_type": "markdown",
   "metadata": {},
   "source": [
    "* **Q4->0.3**"
   ]
  },
  {
   "cell_type": "markdown",
   "metadata": {},
   "source": [
    "At which threshold F1 is maximal?\n",
    "\n",
    "- 0.1\n",
    "- 0.3\n",
    "- 0.5\n",
    "- 0.7"
   ]
  },
  {
   "cell_type": "markdown",
   "metadata": {},
   "source": [
    "## Question 5\n",
    "\n",
    "\n",
    "Use the `KFold` class from Scikit-Learn to evaluate our model on 5 different folds:\n",
    "\n",
    "```\n",
    "KFold(n_splits=5, shuffle=True, random_state=1)\n",
    "```\n",
    "\n",
    "* Iterate over different folds of `df_full_train`\n",
    "* Split the data into train and validation\n",
    "* Train the model on train with these parameters: `LogisticRegression(solver='liblinear', C=1.0, max_iter=1000)`\n",
    "* Use AUC to evaluate the model on validation\n"
   ]
  },
  {
   "cell_type": "code",
   "execution_count": 48,
   "metadata": {},
   "outputs": [
    {
     "name": "stdout",
     "output_type": "stream",
     "text": [
      "[0.8256212256212256, 0.8254176350237372, 0.7893383818254285, 0.8250108084738436, 0.8054696294614563]\n",
      "std dev: 0.01461\n"
     ]
    }
   ],
   "source": [
    "from sklearn.model_selection import KFold\r\n",
    "kfold = KFold(n_splits=5, shuffle=True, random_state=1)\r\n",
    "\r\n",
    "scores = []\r\n",
    "\r\n",
    "for train_idx, val_idx in kfold.split(df_trainval):\r\n",
    "        y_train = df_trainval['default'].iloc[train_idx].values\r\n",
    "        y_val = df_trainval['default'].iloc[val_idx].values\r\n",
    "        df_train = df_trainval[sel_col].iloc[train_idx]\r\n",
    "        df_val = df_trainval[sel_col].iloc[val_idx]\r\n",
    "\r\n",
    "\r\n",
    "\r\n",
    "        dv = DictVectorizer(sparse=False) #import encoder\r\n",
    "        train_dict = df_train.to_dict(orient='records')\r\n",
    "        val_dict = df_val.to_dict(orient='records')\r\n",
    "        X_train = dv.fit_transform(train_dict)\r\n",
    "        X_val = dv.transform(val_dict)\r\n",
    "\r\n",
    "        model = LogisticRegression(solver='liblinear', C=1.0, max_iter=1000)\r\n",
    "        model.fit(X_train,y_train)\r\n",
    "\r\n",
    "        y_predict = model.predict_proba(X_val)[:, 1]\r\n",
    "        scores.append(roc_auc_score(y_val,y_predict))\r\n",
    "      \r\n",
    "\r\n",
    "\r\n",
    "#print(scores)\r\n",
    "print(\"std dev: %1.5f\" % (np.std(scores)))\r\n",
    "    "
   ]
  },
  {
   "cell_type": "markdown",
   "metadata": {},
   "source": [
    "* **Q5->0.014**"
   ]
  },
  {
   "cell_type": "markdown",
   "metadata": {},
   "source": [
    "How large is standard devidation of the scores across different folds?\n",
    "\n",
    "- 0.001\n",
    "- 0.014\n",
    "- 0.09\n",
    "- 0.14"
   ]
  },
  {
   "cell_type": "markdown",
   "metadata": {},
   "source": [
    "## Question 6\n",
    "\n",
    "Now let's use 5-Fold cross-validation to find the best parameter C\n",
    "\n",
    "* Iterate over the following C values: `[0.01, 0.1, 1, 10]`\n",
    "* Initialize `KFold` with the same parameters as previously\n",
    "* Use these parametes for the model: `LogisticRegression(solver='liblinear', C=C, max_iter=1000)`\n",
    "* Compute the mean score as well as the std (round the mean and std to 3 decimal digits)"
   ]
  },
  {
   "cell_type": "code",
   "execution_count": 60,
   "metadata": {},
   "outputs": [
    {
     "name": "stdout",
     "output_type": "stream",
     "text": [
      "C=0.01\tµ=0.808\ts=0.012\n",
      "C=0.10\tµ=0.813\ts=0.014\n",
      "C=1.00\tµ=0.814\ts=0.015\n",
      "C=10.00\tµ=0.814\ts=0.015\n"
     ]
    }
   ],
   "source": [
    "from sklearn.model_selection import KFold\r\n",
    "kfold = KFold(n_splits=5, shuffle=True, random_state=1)\r\n",
    "Call = [0.01, 0.1, 1, 10]\r\n",
    "\r\n",
    "all_stds=[]\r\n",
    "all_scores=[]\r\n",
    "\r\n",
    "for C in Call:\r\n",
    "    scores = []\r\n",
    "    for train_idx, val_idx in kfold.split(df_trainval):\r\n",
    "        y_train = df_trainval['default'].iloc[train_idx].values\r\n",
    "        y_val = df_trainval['default'].iloc[val_idx].values\r\n",
    "        df_train = df_trainval[sel_col].iloc[train_idx]\r\n",
    "        df_val = df_trainval[sel_col].iloc[val_idx]\r\n",
    "\r\n",
    "\r\n",
    "\r\n",
    "        dv = DictVectorizer(sparse=False) #import encoder\r\n",
    "        train_dict = df_train.to_dict(orient='records')\r\n",
    "        val_dict = df_val.to_dict(orient='records')\r\n",
    "        X_train = dv.fit_transform(train_dict)\r\n",
    "        X_val = dv.transform(val_dict)\r\n",
    "\r\n",
    "        model = LogisticRegression(solver='liblinear', C=C, max_iter=1000)\r\n",
    "        model.fit(X_train,y_train)\r\n",
    "\r\n",
    "        y_predict = model.predict_proba(X_val)[:, 1]\r\n",
    "        scores.append(roc_auc_score(y_val,y_predict))\r\n",
    "    all_stds.append(np.std(scores))\r\n",
    "    all_scores.append(np.mean(scores))\r\n",
    "      \r\n",
    "\r\n",
    "#print([\"%.3f\"  % m for m in all_scores])\r\n",
    "#print([\"%.3f\" % s for s in all_stds])\r\n",
    "for k in range(4):\r\n",
    "    print(\"C=%.2f\\tµ=%1.3f\\ts=%1.3f\"% (Call[k], round(all_scores[k],3),round(all_stds[k],3)))\r\n",
    "\r\n",
    "#print(\"std dev: %2.4f\" % (np.std(scores)))\r\n",
    "    "
   ]
  },
  {
   "cell_type": "markdown",
   "metadata": {},
   "source": [
    "* ** Q6: C=1 **"
   ]
  },
  {
   "cell_type": "markdown",
   "metadata": {},
   "source": [
    "Which C leads to the best mean score?\n",
    "\n",
    "- 0.01\n",
    "- 0.1\n",
    "- 1\n",
    "- 10\n",
    "\n",
    "If you have ties, select the score with the lowest std. If you still have ties, select the smallest C"
   ]
  },
  {
   "cell_type": "code",
   "execution_count": null,
   "metadata": {},
   "outputs": [],
   "source": []
  },
  {
   "cell_type": "markdown",
   "metadata": {},
   "source": [
    "## Submit the results\n",
    "\n",
    "Submit your results here: https://forms.gle/e497sR5iB36mM9Cs5\n",
    "\n",
    "It's possible that your answers won't match exactly. If it's the case, select the closest one.\n",
    "\n",
    "## Deadline\n",
    "\n",
    "The deadline for submitting is 04 October 2021, 17:00 CET. After that, the form will be closed."
   ]
  },
  {
   "cell_type": "code",
   "execution_count": null,
   "metadata": {},
   "outputs": [],
   "source": []
  }
 ],
 "metadata": {
  "interpreter": {
   "hash": "8adc0f1b6d3ef35c7cd11bc7b6b8b8d8478dc538640b17df34a7d3db85fc9445"
  },
  "kernelspec": {
   "display_name": "Python 3.8.8 64-bit ('base': conda)",
   "name": "python3"
  },
  "language_info": {
   "codemirror_mode": {
    "name": "ipython",
    "version": 3
   },
   "file_extension": ".py",
   "mimetype": "text/x-python",
   "name": "python",
   "nbconvert_exporter": "python",
   "pygments_lexer": "ipython3",
   "version": "3.8.8"
  }
 },
 "nbformat": 4,
 "nbformat_minor": 2
}