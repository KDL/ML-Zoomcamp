{
 "cells": [
  {
   "cell_type": "markdown",
   "metadata": {},
   "source": [
    "## Homework 8: NN & DL"
   ]
  },
  {
   "cell_type": "markdown",
   "metadata": {},
   "source": [
    "lib imports"
   ]
  },
  {
   "cell_type": "code",
   "execution_count": 16,
   "metadata": {},
   "outputs": [],
   "source": [
    "#libs\n",
    "import numpy as np\n",
    "import matplotlib.pyplot as plt\n",
    "import tensorflow as tf\n",
    "from tensorflow import keras\n",
    "from tensorflow.keras import datasets, layers, models\n",
    "\n",
    "from tensorflow.keras.preprocessing.image import ImageDataGenerator"
   ]
  },
  {
   "cell_type": "markdown",
   "metadata": {},
   "source": [
    "Add model"
   ]
  },
  {
   "cell_type": "code",
   "execution_count": 17,
   "metadata": {},
   "outputs": [],
   "source": [
    "model = models.Sequential()\n",
    "model.add(layers.Conv2D(32, (3, 3), activation='relu', input_shape=(150, 150, 3)))\n",
    "model.add(layers.MaxPooling2D((2, 2)))\n",
    "model.add(layers.Flatten())\n",
    "model.add(layers.Dense(64,activation='relu'))\n",
    "model.add(layers.Dense(1))\n"
   ]
  },
  {
   "cell_type": "markdown",
   "metadata": {},
   "source": [
    "Use SGD as optimizer & compile model (with bin acc meas)"
   ]
  },
  {
   "cell_type": "code",
   "execution_count": 18,
   "metadata": {},
   "outputs": [],
   "source": [
    "opt = tf.keras.optimizers.SGD(learning_rate=0.002, momentum=0.8)"
   ]
  },
  {
   "cell_type": "code",
   "execution_count": 19,
   "metadata": {},
   "outputs": [],
   "source": [
    "#Categorical = multi, \n",
    "# Bin for binary \n",
    "# MeanSquare for regression\n",
    "model.compile(loss=tf.keras.losses.BinaryCrossentropy(from_logits=True), optimizer=opt, metrics=[tf.keras.metrics.BinaryAccuracy()])"
   ]
  },
  {
   "cell_type": "markdown",
   "metadata": {},
   "source": [
    "Q1 -> Binary CrossEntropy"
   ]
  },
  {
   "cell_type": "code",
   "execution_count": 20,
   "metadata": {},
   "outputs": [
    {
     "name": "stdout",
     "output_type": "stream",
     "text": [
      "Model: \"sequential_1\"\n",
      "_________________________________________________________________\n",
      " Layer (type)                Output Shape              Param #   \n",
      "=================================================================\n",
      " conv2d_1 (Conv2D)           (None, 148, 148, 32)      896       \n",
      "                                                                 \n",
      " max_pooling2d_1 (MaxPooling  (None, 74, 74, 32)       0         \n",
      " 2D)                                                             \n",
      "                                                                 \n",
      " flatten_1 (Flatten)         (None, 175232)            0         \n",
      "                                                                 \n",
      " dense_2 (Dense)             (None, 64)                11214912  \n",
      "                                                                 \n",
      " dense_3 (Dense)             (None, 1)                 65        \n",
      "                                                                 \n",
      "=================================================================\n",
      "Total params: 11,215,873\n",
      "Trainable params: 11,215,873\n",
      "Non-trainable params: 0\n",
      "_________________________________________________________________\n"
     ]
    }
   ],
   "source": [
    "model.summary()"
   ]
  },
  {
   "cell_type": "markdown",
   "metadata": {},
   "source": [
    "* Q2 ->  11,215,873"
   ]
  },
  {
   "cell_type": "code",
   "execution_count": 21,
   "metadata": {},
   "outputs": [
    {
     "name": "stdout",
     "output_type": "stream",
     "text": [
      "Found 20000 images belonging to 2 classes.\n",
      "Found 5000 images belonging to 2 classes.\n"
     ]
    }
   ],
   "source": [
    "idg = ImageDataGenerator(rescale=1./255)\n",
    "\n",
    "train_ds = idg.flow_from_directory(\n",
    "    './train/',\n",
    "    target_size=(150, 150),\n",
    "    class_mode=\"binary\",\n",
    "    batch_size=20\n",
    ")\n",
    "\n",
    "val_ds = idg.flow_from_directory(\n",
    "    './validation/',\n",
    "    target_size=(150, 150),\n",
    "    class_mode=\"binary\",\n",
    "    batch_size=20\n",
    ")"
   ]
  },
  {
   "cell_type": "code",
   "execution_count": 22,
   "metadata": {},
   "outputs": [
    {
     "name": "stdout",
     "output_type": "stream",
     "text": [
      "Epoch 1/10\n",
      "100/100 [==============================] - 16s 153ms/step - loss: 0.7123 - binary_accuracy: 0.4950 - val_loss: 0.6807 - val_binary_accuracy: 0.5440\n",
      "Epoch 2/10\n",
      "100/100 [==============================] - 14s 143ms/step - loss: 0.6787 - binary_accuracy: 0.5320 - val_loss: 0.6643 - val_binary_accuracy: 0.4980\n",
      "Epoch 3/10\n",
      "100/100 [==============================] - 12s 119ms/step - loss: 0.6650 - binary_accuracy: 0.5540 - val_loss: 0.6656 - val_binary_accuracy: 0.5450\n",
      "Epoch 4/10\n",
      "100/100 [==============================] - 12s 122ms/step - loss: 0.6625 - binary_accuracy: 0.5615 - val_loss: 0.6603 - val_binary_accuracy: 0.5190\n",
      "Epoch 5/10\n",
      "100/100 [==============================] - 12s 119ms/step - loss: 0.6553 - binary_accuracy: 0.5755 - val_loss: 0.6540 - val_binary_accuracy: 0.6250\n",
      "Epoch 6/10\n",
      "100/100 [==============================] - 13s 128ms/step - loss: 0.6443 - binary_accuracy: 0.6000 - val_loss: 0.6509 - val_binary_accuracy: 0.6190\n",
      "Epoch 7/10\n",
      "100/100 [==============================] - 13s 132ms/step - loss: 0.6456 - binary_accuracy: 0.5890 - val_loss: 0.6387 - val_binary_accuracy: 0.5900\n",
      "Epoch 8/10\n",
      "100/100 [==============================] - 13s 131ms/step - loss: 0.6337 - binary_accuracy: 0.6065 - val_loss: 0.6264 - val_binary_accuracy: 0.6160\n",
      "Epoch 9/10\n",
      "100/100 [==============================] - 13s 134ms/step - loss: 0.6460 - binary_accuracy: 0.5885 - val_loss: 0.6185 - val_binary_accuracy: 0.6030\n",
      "Epoch 10/10\n",
      "100/100 [==============================] - 13s 134ms/step - loss: 0.6257 - binary_accuracy: 0.6100 - val_loss: 0.6224 - val_binary_accuracy: 0.5970\n"
     ]
    }
   ],
   "source": [
    "history = model.fit(\n",
    "    train_ds,\n",
    "    steps_per_epoch=100,\n",
    "    epochs=10,\n",
    "    validation_data=val_ds,\n",
    "    validation_steps=50\n",
    ")"
   ]
  },
  {
   "cell_type": "code",
   "execution_count": 23,
   "metadata": {},
   "outputs": [
    {
     "data": {
      "text/plain": [
       "<matplotlib.legend.Legend at 0x1f5c2415190>"
      ]
     },
     "execution_count": 23,
     "metadata": {},
     "output_type": "execute_result"
    },
    {
     "data": {
      "image/png": "[encoded data removed]",
      "text/plain": [
       "<Figure size 432x288 with 1 Axes>"
      ]
     },
     "metadata": {
      "needs_background": "light"
     },
     "output_type": "display_data"
    }
   ],
   "source": [
    "plt.plot(history.history['loss'], label='val')\n",
    "plt.xticks(np.arange(10))\n",
    "plt.xlabel('Epoch')\n",
    "plt.ylabel('Training Loss')\n",
    "plt.grid()\n",
    "plt.legend()\n"
   ]
  },
  {
   "cell_type": "code",
   "execution_count": 24,
   "metadata": {},
   "outputs": [
    {
     "data": {
      "text/plain": [
       "dict_keys(['loss', 'binary_accuracy', 'val_loss', 'val_binary_accuracy'])"
      ]
     },
     "execution_count": 24,
     "metadata": {},
     "output_type": "execute_result"
    }
   ],
   "source": [
    "history.history.keys()"
   ]
  },
  {
   "cell_type": "code",
   "execution_count": 25,
   "metadata": {},
   "outputs": [
    {
     "name": "stdout",
     "output_type": "stream",
     "text": [
      "median_train_accuracy 0.582\n"
     ]
    }
   ],
   "source": [
    "# median von training accuracy\n",
    "median_train_accuracy = np.median(history.history[\"binary_accuracy\"])\n",
    "print(\"median_train_accuracy %2.3f\" % median_train_accuracy)"
   ]
  },
  {
   "cell_type": "code",
   "execution_count": 26,
   "metadata": {},
   "outputs": [
    {
     "name": "stdout",
     "output_type": "stream",
     "text": [
      "std_train_loss 0.024\n"
     ]
    }
   ],
   "source": [
    "# standard deviation of training loss \n",
    "std_train_loss = np.std(history.history[\"loss\"])\n",
    "print(\"std_train_loss %2.3f\" % std_train_loss)"
   ]
  },
  {
   "cell_type": "markdown",
   "metadata": {},
   "source": [
    "Problem discussed in Slack chat, there is a problem in repetition. \n",
    "* Q3 -> 0.5x (0.52-0.64)\n",
    "* Q4 -> 0.01 (0.012 - 0.024)"
   ]
  },
  {
   "cell_type": "markdown",
   "metadata": {},
   "source": [
    "## Data Augmentation"
   ]
  },
  {
   "cell_type": "code",
   "execution_count": 27,
   "metadata": {},
   "outputs": [
    {
     "name": "stdout",
     "output_type": "stream",
     "text": [
      "Found 20000 images belonging to 2 classes.\n"
     ]
    }
   ],
   "source": [
    "idg2 = ImageDataGenerator(rescale=1./255,\n",
    "rotation_range=40,\n",
    "width_shift_range=0.2,\n",
    "height_shift_range=0.2,\n",
    "shear_range=0.2,\n",
    "zoom_range=0.2,\n",
    "horizontal_flip=True,\n",
    "fill_mode='nearest')\n",
    "train_ds2 = idg2.flow_from_directory(\n",
    "    './train/',\n",
    "    target_size=(150, 150),\n",
    "    class_mode=\"binary\",\n",
    "    batch_size=20\n",
    ")"
   ]
  },
  {
   "cell_type": "code",
   "execution_count": 28,
   "metadata": {},
   "outputs": [
    {
     "name": "stdout",
     "output_type": "stream",
     "text": [
      "Epoch 1/10\n",
      "100/100 [==============================] - 16s 156ms/step - loss: 0.6558 - binary_accuracy: 0.5660 - val_loss: 0.6243 - val_binary_accuracy: 0.6370\n",
      "Epoch 2/10\n",
      "100/100 [==============================] - 15s 153ms/step - loss: 0.6646 - binary_accuracy: 0.5595 - val_loss: 0.6232 - val_binary_accuracy: 0.5830\n",
      "Epoch 3/10\n",
      "100/100 [==============================] - 16s 158ms/step - loss: 0.6504 - binary_accuracy: 0.5865 - val_loss: 0.6140 - val_binary_accuracy: 0.6420\n",
      "Epoch 4/10\n",
      "100/100 [==============================] - 18s 176ms/step - loss: 0.6458 - binary_accuracy: 0.5855 - val_loss: 0.6255 - val_binary_accuracy: 0.5990\n",
      "Epoch 5/10\n",
      "100/100 [==============================] - 18s 182ms/step - loss: 0.6493 - binary_accuracy: 0.5860 - val_loss: 0.6286 - val_binary_accuracy: 0.6590\n",
      "Epoch 6/10\n",
      "100/100 [==============================] - 17s 167ms/step - loss: 0.6469 - binary_accuracy: 0.5855 - val_loss: 0.6204 - val_binary_accuracy: 0.6350\n",
      "Epoch 7/10\n",
      "100/100 [==============================] - 17s 165ms/step - loss: 0.6333 - binary_accuracy: 0.6150 - val_loss: 0.5997 - val_binary_accuracy: 0.6630\n",
      "Epoch 8/10\n",
      "100/100 [==============================] - 17s 171ms/step - loss: 0.6391 - binary_accuracy: 0.5950 - val_loss: 0.6293 - val_binary_accuracy: 0.6510\n",
      "Epoch 9/10\n",
      "100/100 [==============================] - 17s 171ms/step - loss: 0.6482 - binary_accuracy: 0.5845 - val_loss: 0.6239 - val_binary_accuracy: 0.6710\n",
      "Epoch 10/10\n",
      "100/100 [==============================] - 17s 168ms/step - loss: 0.6350 - binary_accuracy: 0.5960 - val_loss: 0.5817 - val_binary_accuracy: 0.6550\n"
     ]
    }
   ],
   "source": [
    "# history \n",
    "history = model.fit(\n",
    "    train_ds2,\n",
    "    steps_per_epoch=100,\n",
    "    epochs=10,\n",
    "    validation_data=val_ds,\n",
    "    validation_steps=50\n",
    ")"
   ]
  },
  {
   "cell_type": "code",
   "execution_count": 29,
   "metadata": {},
   "outputs": [
    {
     "name": "stdout",
     "output_type": "stream",
     "text": [
      "mean_val_loss 0.617\n"
     ]
    }
   ],
   "source": [
    "# mean of validation loss\n",
    "mean_val_loss = np.mean(history.history[\"val_loss\"])\n",
    "print(\"mean_val_loss %2.3f\" % mean_val_loss)"
   ]
  },
  {
   "cell_type": "code",
   "execution_count": 30,
   "metadata": {},
   "outputs": [
    {
     "name": "stdout",
     "output_type": "stream",
     "text": [
      "mean_val_acc_last_five 0.655\n"
     ]
    }
   ],
   "source": [
    "# mean of validation loss\n",
    "mean_val_acc_last_five = np.mean(history.history[\"val_binary_accuracy\"][5:])\n",
    "print(\"mean_val_acc_last_five %2.3f\" % mean_val_acc_last_five)"
   ]
  },
  {
   "cell_type": "markdown",
   "metadata": {},
   "source": [
    "* Q5 -> 0.67 (0.607 - 0.65)\n",
    "* Q6 -> 0.65 (0.6? - 0.662)"
   ]
  },
  {
   "cell_type": "code",
   "execution_count": null,
   "metadata": {},
   "outputs": [],
   "source": []
  }
 ],
 "metadata": {
  "interpreter": {
   "hash": "da90f46fa8a14be9631a6692cf25b531474837a478d46ca898e64c54b1530bf9"
  },
  "kernelspec": {
   "display_name": "Python 3.9.7 64-bit (windows store)",
   "language": "python",
   "name": "python3"
  },
  "language_info": {
   "codemirror_mode": {
    "name": "ipython",
    "version": 3
   },
   "file_extension": ".py",
   "mimetype": "text/x-python",
   "name": "python",
   "nbconvert_exporter": "python",
   "pygments_lexer": "ipython3",
   "version": "3.9.7"
  },
  "orig_nbformat": 4
 },
 "nbformat": 4,
 "nbformat_minor": 2
}
