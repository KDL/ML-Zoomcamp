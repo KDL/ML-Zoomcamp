{
 "cells": [
  {
   "cell_type": "markdown",
   "metadata": {},
   "source": [
    "# Midterm project\n",
    "for Zoomcamp, Ahmed Yahia Kallel"
   ]
  },
  {
   "cell_type": "markdown",
   "metadata": {},
   "source": [
    "# Prepare environment "
   ]
  },
  {
   "cell_type": "markdown",
   "metadata": {},
   "source": [
    "Install the different requirements"
   ]
  },
  {
   "cell_type": "code",
   "execution_count": null,
   "metadata": {},
   "outputs": [],
   "source": [
    "# run pip to get requirement.txt\n",
    "!pip install -r requirements.txt"
   ]
  },
  {
   "cell_type": "markdown",
   "metadata": {},
   "source": [
    "Import libraries"
   ]
  },
  {
   "cell_type": "code",
   "execution_count": 736,
   "metadata": {},
   "outputs": [],
   "source": [
    "#import main libraries\n",
    "\n",
    "#processing & viz\n",
    "import numpy as np\n",
    "import pandas as pd\n",
    "import matplotlib.pyplot as plt\n",
    "import seaborn as sns\n",
    "\n",
    "#data splitting\n",
    "from sklearn.model_selection import train_test_split\n",
    "from sklearn.metrics import mutual_info_score\n",
    "from sklearn.metrics import auc, roc_curve"
   ]
  },
  {
   "cell_type": "markdown",
   "metadata": {},
   "source": [
    "# Data preparation, cleaning & visualization\n"
   ]
  },
  {
   "cell_type": "markdown",
   "metadata": {},
   "source": [
    "Here we check the data, and prepare them for classification. A bonus point is to visualize them"
   ]
  },
  {
   "cell_type": "markdown",
   "metadata": {},
   "source": [
    "## Data preparation\n",
    "Import file and print head & tail"
   ]
  },
  {
   "cell_type": "code",
   "execution_count": 737,
   "metadata": {},
   "outputs": [],
   "source": [
    "import os\n",
    "#check if file exists, otherwise download it\n",
    "if not os.path.isfile(\"data/healthcare-dataset-stroke-data.csv\"):\n",
    "    #TODO: implement the downloaders\n",
    "    print(\"File data/healthcare-dataset-stroke-data.csv doesn't exist, aborting file\")\n",
    "    exit()\n",
    "\n",
    "#load file into dataframe\n",
    "df = pd.read_csv(\"data/healthcare-dataset-stroke-data.csv\")"
   ]
  },
  {
   "cell_type": "markdown",
   "metadata": {},
   "source": [
    "Mapping & showing"
   ]
  },
  {
   "cell_type": "code",
   "execution_count": 738,
   "metadata": {},
   "outputs": [
    {
     "data": {
      "text/html": [
       "<div>\n",
       "<style scoped>\n",
       "    .dataframe tbody tr th:only-of-type {\n",
       "        vertical-align: middle;\n",
       "    }\n",
       "\n",
       "    .dataframe tbody tr th {\n",
       "        vertical-align: top;\n",
       "    }\n",
       "\n",
       "    .dataframe thead th {\n",
       "        text-align: right;\n",
       "    }\n",
       "</style>\n",
       "<table border=\"1\" class=\"dataframe\">\n",
       "  <thead>\n",
       "    <tr style=\"text-align: right;\">\n",
       "      <th></th>\n",
       "      <th>id</th>\n",
       "      <th>gender</th>\n",
       "      <th>age</th>\n",
       "      <th>hypertension</th>\n",
       "      <th>heart_disease</th>\n",
       "      <th>ever_married</th>\n",
       "      <th>work_type</th>\n",
       "      <th>residence_type</th>\n",
       "      <th>avg_glucose_level</th>\n",
       "      <th>bmi</th>\n",
       "      <th>smoking_status</th>\n",
       "      <th>stroke</th>\n",
       "    </tr>\n",
       "  </thead>\n",
       "  <tbody>\n",
       "    <tr>\n",
       "      <th>0</th>\n",
       "      <td>9046</td>\n",
       "      <td>Male</td>\n",
       "      <td>67.0</td>\n",
       "      <td>No</td>\n",
       "      <td>Yes</td>\n",
       "      <td>Yes</td>\n",
       "      <td>Private</td>\n",
       "      <td>Urban</td>\n",
       "      <td>228.69</td>\n",
       "      <td>36.6</td>\n",
       "      <td>formerly smoked</td>\n",
       "      <td>1</td>\n",
       "    </tr>\n",
       "    <tr>\n",
       "      <th>1</th>\n",
       "      <td>51676</td>\n",
       "      <td>Female</td>\n",
       "      <td>61.0</td>\n",
       "      <td>No</td>\n",
       "      <td>No</td>\n",
       "      <td>Yes</td>\n",
       "      <td>Self-employed</td>\n",
       "      <td>Rural</td>\n",
       "      <td>202.21</td>\n",
       "      <td>NaN</td>\n",
       "      <td>never smoked</td>\n",
       "      <td>1</td>\n",
       "    </tr>\n",
       "    <tr>\n",
       "      <th>2</th>\n",
       "      <td>31112</td>\n",
       "      <td>Male</td>\n",
       "      <td>80.0</td>\n",
       "      <td>No</td>\n",
       "      <td>Yes</td>\n",
       "      <td>Yes</td>\n",
       "      <td>Private</td>\n",
       "      <td>Rural</td>\n",
       "      <td>105.92</td>\n",
       "      <td>32.5</td>\n",
       "      <td>never smoked</td>\n",
       "      <td>1</td>\n",
       "    </tr>\n",
       "    <tr>\n",
       "      <th>3</th>\n",
       "      <td>60182</td>\n",
       "      <td>Female</td>\n",
       "      <td>49.0</td>\n",
       "      <td>No</td>\n",
       "      <td>No</td>\n",
       "      <td>Yes</td>\n",
       "      <td>Private</td>\n",
       "      <td>Urban</td>\n",
       "      <td>171.23</td>\n",
       "      <td>34.4</td>\n",
       "      <td>smokes</td>\n",
       "      <td>1</td>\n",
       "    </tr>\n",
       "    <tr>\n",
       "      <th>4</th>\n",
       "      <td>1665</td>\n",
       "      <td>Female</td>\n",
       "      <td>79.0</td>\n",
       "      <td>Yes</td>\n",
       "      <td>No</td>\n",
       "      <td>Yes</td>\n",
       "      <td>Self-employed</td>\n",
       "      <td>Rural</td>\n",
       "      <td>174.12</td>\n",
       "      <td>24.0</td>\n",
       "      <td>never smoked</td>\n",
       "      <td>1</td>\n",
       "    </tr>\n",
       "    <tr>\n",
       "      <th>...</th>\n",
       "      <td>...</td>\n",
       "      <td>...</td>\n",
       "      <td>...</td>\n",
       "      <td>...</td>\n",
       "      <td>...</td>\n",
       "      <td>...</td>\n",
       "      <td>...</td>\n",
       "      <td>...</td>\n",
       "      <td>...</td>\n",
       "      <td>...</td>\n",
       "      <td>...</td>\n",
       "      <td>...</td>\n",
       "    </tr>\n",
       "    <tr>\n",
       "      <th>5105</th>\n",
       "      <td>18234</td>\n",
       "      <td>Female</td>\n",
       "      <td>80.0</td>\n",
       "      <td>Yes</td>\n",
       "      <td>No</td>\n",
       "      <td>Yes</td>\n",
       "      <td>Private</td>\n",
       "      <td>Urban</td>\n",
       "      <td>83.75</td>\n",
       "      <td>NaN</td>\n",
       "      <td>never smoked</td>\n",
       "      <td>0</td>\n",
       "    </tr>\n",
       "    <tr>\n",
       "      <th>5106</th>\n",
       "      <td>44873</td>\n",
       "      <td>Female</td>\n",
       "      <td>81.0</td>\n",
       "      <td>No</td>\n",
       "      <td>No</td>\n",
       "      <td>Yes</td>\n",
       "      <td>Self-employed</td>\n",
       "      <td>Urban</td>\n",
       "      <td>125.20</td>\n",
       "      <td>40.0</td>\n",
       "      <td>never smoked</td>\n",
       "      <td>0</td>\n",
       "    </tr>\n",
       "    <tr>\n",
       "      <th>5107</th>\n",
       "      <td>19723</td>\n",
       "      <td>Female</td>\n",
       "      <td>35.0</td>\n",
       "      <td>No</td>\n",
       "      <td>No</td>\n",
       "      <td>Yes</td>\n",
       "      <td>Self-employed</td>\n",
       "      <td>Rural</td>\n",
       "      <td>82.99</td>\n",
       "      <td>30.6</td>\n",
       "      <td>never smoked</td>\n",
       "      <td>0</td>\n",
       "    </tr>\n",
       "    <tr>\n",
       "      <th>5108</th>\n",
       "      <td>37544</td>\n",
       "      <td>Male</td>\n",
       "      <td>51.0</td>\n",
       "      <td>No</td>\n",
       "      <td>No</td>\n",
       "      <td>Yes</td>\n",
       "      <td>Private</td>\n",
       "      <td>Rural</td>\n",
       "      <td>166.29</td>\n",
       "      <td>25.6</td>\n",
       "      <td>formerly smoked</td>\n",
       "      <td>0</td>\n",
       "    </tr>\n",
       "    <tr>\n",
       "      <th>5109</th>\n",
       "      <td>44679</td>\n",
       "      <td>Female</td>\n",
       "      <td>44.0</td>\n",
       "      <td>No</td>\n",
       "      <td>No</td>\n",
       "      <td>Yes</td>\n",
       "      <td>Govt_job</td>\n",
       "      <td>Urban</td>\n",
       "      <td>85.28</td>\n",
       "      <td>26.2</td>\n",
       "      <td>Unknown</td>\n",
       "      <td>0</td>\n",
       "    </tr>\n",
       "  </tbody>\n",
       "</table>\n",
       "<p>5110 rows × 12 columns</p>\n",
       "</div>"
      ],
      "text/plain": [
       "         id  gender   age hypertension heart_disease ever_married  \\\n",
       "0      9046    Male  67.0           No           Yes          Yes   \n",
       "1     51676  Female  61.0           No            No          Yes   \n",
       "2     31112    Male  80.0           No           Yes          Yes   \n",
       "3     60182  Female  49.0           No            No          Yes   \n",
       "4      1665  Female  79.0          Yes            No          Yes   \n",
       "...     ...     ...   ...          ...           ...          ...   \n",
       "5105  18234  Female  80.0          Yes            No          Yes   \n",
       "5106  44873  Female  81.0           No            No          Yes   \n",
       "5107  19723  Female  35.0           No            No          Yes   \n",
       "5108  37544    Male  51.0           No            No          Yes   \n",
       "5109  44679  Female  44.0           No            No          Yes   \n",
       "\n",
       "          work_type residence_type  avg_glucose_level   bmi   smoking_status  \\\n",
       "0           Private          Urban             228.69  36.6  formerly smoked   \n",
       "1     Self-employed          Rural             202.21   NaN     never smoked   \n",
       "2           Private          Rural             105.92  32.5     never smoked   \n",
       "3           Private          Urban             171.23  34.4           smokes   \n",
       "4     Self-employed          Rural             174.12  24.0     never smoked   \n",
       "...             ...            ...                ...   ...              ...   \n",
       "5105        Private          Urban              83.75   NaN     never smoked   \n",
       "5106  Self-employed          Urban             125.20  40.0     never smoked   \n",
       "5107  Self-employed          Rural              82.99  30.6     never smoked   \n",
       "5108        Private          Rural             166.29  25.6  formerly smoked   \n",
       "5109       Govt_job          Urban              85.28  26.2          Unknown   \n",
       "\n",
       "      stroke  \n",
       "0          1  \n",
       "1          1  \n",
       "2          1  \n",
       "3          1  \n",
       "4          1  \n",
       "...      ...  \n",
       "5105       0  \n",
       "5106       0  \n",
       "5107       0  \n",
       "5108       0  \n",
       "5109       0  \n",
       "\n",
       "[5110 rows x 12 columns]"
      ]
     },
     "execution_count": 738,
     "metadata": {},
     "output_type": "execute_result"
    }
   ],
   "source": [
    "# map hypertension & heartdisease\n",
    "df.hypertension = df.hypertension.map({0:'No',1:'Yes'})\n",
    "df.heart_disease = df.heart_disease.map({0:'No',1:'Yes'})\n",
    "\n",
    "#change columns to lower case\n",
    "df = df.rename(columns={'Residence_type':'residence_type'})\n",
    "\n",
    "#show head & tail\n",
    "df"
   ]
  },
  {
   "cell_type": "markdown",
   "metadata": {},
   "source": [
    "## Data cleaning & first infos\n",
    "Missing values detection & correction"
   ]
  },
  {
   "cell_type": "code",
   "execution_count": 739,
   "metadata": {},
   "outputs": [
    {
     "data": {
      "text/plain": [
       "id                     0\n",
       "gender                 0\n",
       "age                    0\n",
       "hypertension           0\n",
       "heart_disease          0\n",
       "ever_married           0\n",
       "work_type              0\n",
       "residence_type         0\n",
       "avg_glucose_level      0\n",
       "bmi                  201\n",
       "smoking_status         0\n",
       "stroke                 0\n",
       "dtype: int64"
      ]
     },
     "execution_count": 739,
     "metadata": {},
     "output_type": "execute_result"
    }
   ],
   "source": [
    "# Checking NaNs\n",
    "df.isna().sum()"
   ]
  },
  {
   "cell_type": "markdown",
   "metadata": {},
   "source": [
    "Missing data correction"
   ]
  },
  {
   "cell_type": "code",
   "execution_count": 740,
   "metadata": {},
   "outputs": [
    {
     "data": {
      "text/html": [
       "<div>\n",
       "<style scoped>\n",
       "    .dataframe tbody tr th:only-of-type {\n",
       "        vertical-align: middle;\n",
       "    }\n",
       "\n",
       "    .dataframe tbody tr th {\n",
       "        vertical-align: top;\n",
       "    }\n",
       "\n",
       "    .dataframe thead th {\n",
       "        text-align: right;\n",
       "    }\n",
       "</style>\n",
       "<table border=\"1\" class=\"dataframe\">\n",
       "  <thead>\n",
       "    <tr style=\"text-align: right;\">\n",
       "      <th></th>\n",
       "      <th>id</th>\n",
       "      <th>gender</th>\n",
       "      <th>age</th>\n",
       "      <th>hypertension</th>\n",
       "      <th>heart_disease</th>\n",
       "      <th>ever_married</th>\n",
       "      <th>work_type</th>\n",
       "      <th>residence_type</th>\n",
       "      <th>avg_glucose_level</th>\n",
       "      <th>bmi</th>\n",
       "      <th>smoking_status</th>\n",
       "      <th>stroke</th>\n",
       "    </tr>\n",
       "  </thead>\n",
       "  <tbody>\n",
       "    <tr>\n",
       "      <th>0</th>\n",
       "      <td>9046</td>\n",
       "      <td>Male</td>\n",
       "      <td>67.0</td>\n",
       "      <td>No</td>\n",
       "      <td>Yes</td>\n",
       "      <td>Yes</td>\n",
       "      <td>Private</td>\n",
       "      <td>Urban</td>\n",
       "      <td>228.69</td>\n",
       "      <td>36.6</td>\n",
       "      <td>formerly smoked</td>\n",
       "      <td>1</td>\n",
       "    </tr>\n",
       "    <tr>\n",
       "      <th>1</th>\n",
       "      <td>51676</td>\n",
       "      <td>Female</td>\n",
       "      <td>61.0</td>\n",
       "      <td>No</td>\n",
       "      <td>No</td>\n",
       "      <td>Yes</td>\n",
       "      <td>Self-employed</td>\n",
       "      <td>Rural</td>\n",
       "      <td>202.21</td>\n",
       "      <td>0.0</td>\n",
       "      <td>never smoked</td>\n",
       "      <td>1</td>\n",
       "    </tr>\n",
       "    <tr>\n",
       "      <th>2</th>\n",
       "      <td>31112</td>\n",
       "      <td>Male</td>\n",
       "      <td>80.0</td>\n",
       "      <td>No</td>\n",
       "      <td>Yes</td>\n",
       "      <td>Yes</td>\n",
       "      <td>Private</td>\n",
       "      <td>Rural</td>\n",
       "      <td>105.92</td>\n",
       "      <td>32.5</td>\n",
       "      <td>never smoked</td>\n",
       "      <td>1</td>\n",
       "    </tr>\n",
       "    <tr>\n",
       "      <th>3</th>\n",
       "      <td>60182</td>\n",
       "      <td>Female</td>\n",
       "      <td>49.0</td>\n",
       "      <td>No</td>\n",
       "      <td>No</td>\n",
       "      <td>Yes</td>\n",
       "      <td>Private</td>\n",
       "      <td>Urban</td>\n",
       "      <td>171.23</td>\n",
       "      <td>34.4</td>\n",
       "      <td>smokes</td>\n",
       "      <td>1</td>\n",
       "    </tr>\n",
       "    <tr>\n",
       "      <th>4</th>\n",
       "      <td>1665</td>\n",
       "      <td>Female</td>\n",
       "      <td>79.0</td>\n",
       "      <td>Yes</td>\n",
       "      <td>No</td>\n",
       "      <td>Yes</td>\n",
       "      <td>Self-employed</td>\n",
       "      <td>Rural</td>\n",
       "      <td>174.12</td>\n",
       "      <td>24.0</td>\n",
       "      <td>never smoked</td>\n",
       "      <td>1</td>\n",
       "    </tr>\n",
       "    <tr>\n",
       "      <th>...</th>\n",
       "      <td>...</td>\n",
       "      <td>...</td>\n",
       "      <td>...</td>\n",
       "      <td>...</td>\n",
       "      <td>...</td>\n",
       "      <td>...</td>\n",
       "      <td>...</td>\n",
       "      <td>...</td>\n",
       "      <td>...</td>\n",
       "      <td>...</td>\n",
       "      <td>...</td>\n",
       "      <td>...</td>\n",
       "    </tr>\n",
       "    <tr>\n",
       "      <th>5105</th>\n",
       "      <td>18234</td>\n",
       "      <td>Female</td>\n",
       "      <td>80.0</td>\n",
       "      <td>Yes</td>\n",
       "      <td>No</td>\n",
       "      <td>Yes</td>\n",
       "      <td>Private</td>\n",
       "      <td>Urban</td>\n",
       "      <td>83.75</td>\n",
       "      <td>0.0</td>\n",
       "      <td>never smoked</td>\n",
       "      <td>0</td>\n",
       "    </tr>\n",
       "    <tr>\n",
       "      <th>5106</th>\n",
       "      <td>44873</td>\n",
       "      <td>Female</td>\n",
       "      <td>81.0</td>\n",
       "      <td>No</td>\n",
       "      <td>No</td>\n",
       "      <td>Yes</td>\n",
       "      <td>Self-employed</td>\n",
       "      <td>Urban</td>\n",
       "      <td>125.20</td>\n",
       "      <td>40.0</td>\n",
       "      <td>never smoked</td>\n",
       "      <td>0</td>\n",
       "    </tr>\n",
       "    <tr>\n",
       "      <th>5107</th>\n",
       "      <td>19723</td>\n",
       "      <td>Female</td>\n",
       "      <td>35.0</td>\n",
       "      <td>No</td>\n",
       "      <td>No</td>\n",
       "      <td>Yes</td>\n",
       "      <td>Self-employed</td>\n",
       "      <td>Rural</td>\n",
       "      <td>82.99</td>\n",
       "      <td>30.6</td>\n",
       "      <td>never smoked</td>\n",
       "      <td>0</td>\n",
       "    </tr>\n",
       "    <tr>\n",
       "      <th>5108</th>\n",
       "      <td>37544</td>\n",
       "      <td>Male</td>\n",
       "      <td>51.0</td>\n",
       "      <td>No</td>\n",
       "      <td>No</td>\n",
       "      <td>Yes</td>\n",
       "      <td>Private</td>\n",
       "      <td>Rural</td>\n",
       "      <td>166.29</td>\n",
       "      <td>25.6</td>\n",
       "      <td>formerly smoked</td>\n",
       "      <td>0</td>\n",
       "    </tr>\n",
       "    <tr>\n",
       "      <th>5109</th>\n",
       "      <td>44679</td>\n",
       "      <td>Female</td>\n",
       "      <td>44.0</td>\n",
       "      <td>No</td>\n",
       "      <td>No</td>\n",
       "      <td>Yes</td>\n",
       "      <td>Govt_job</td>\n",
       "      <td>Urban</td>\n",
       "      <td>85.28</td>\n",
       "      <td>26.2</td>\n",
       "      <td>Unknown</td>\n",
       "      <td>0</td>\n",
       "    </tr>\n",
       "  </tbody>\n",
       "</table>\n",
       "<p>5110 rows × 12 columns</p>\n",
       "</div>"
      ],
      "text/plain": [
       "         id  gender   age hypertension heart_disease ever_married  \\\n",
       "0      9046    Male  67.0           No           Yes          Yes   \n",
       "1     51676  Female  61.0           No            No          Yes   \n",
       "2     31112    Male  80.0           No           Yes          Yes   \n",
       "3     60182  Female  49.0           No            No          Yes   \n",
       "4      1665  Female  79.0          Yes            No          Yes   \n",
       "...     ...     ...   ...          ...           ...          ...   \n",
       "5105  18234  Female  80.0          Yes            No          Yes   \n",
       "5106  44873  Female  81.0           No            No          Yes   \n",
       "5107  19723  Female  35.0           No            No          Yes   \n",
       "5108  37544    Male  51.0           No            No          Yes   \n",
       "5109  44679  Female  44.0           No            No          Yes   \n",
       "\n",
       "          work_type residence_type  avg_glucose_level   bmi   smoking_status  \\\n",
       "0           Private          Urban             228.69  36.6  formerly smoked   \n",
       "1     Self-employed          Rural             202.21   0.0     never smoked   \n",
       "2           Private          Rural             105.92  32.5     never smoked   \n",
       "3           Private          Urban             171.23  34.4           smokes   \n",
       "4     Self-employed          Rural             174.12  24.0     never smoked   \n",
       "...             ...            ...                ...   ...              ...   \n",
       "5105        Private          Urban              83.75   0.0     never smoked   \n",
       "5106  Self-employed          Urban             125.20  40.0     never smoked   \n",
       "5107  Self-employed          Rural              82.99  30.6     never smoked   \n",
       "5108        Private          Rural             166.29  25.6  formerly smoked   \n",
       "5109       Govt_job          Urban              85.28  26.2          Unknown   \n",
       "\n",
       "      stroke  \n",
       "0          1  \n",
       "1          1  \n",
       "2          1  \n",
       "3          1  \n",
       "4          1  \n",
       "...      ...  \n",
       "5105       0  \n",
       "5106       0  \n",
       "5107       0  \n",
       "5108       0  \n",
       "5109       0  \n",
       "\n",
       "[5110 rows x 12 columns]"
      ]
     },
     "execution_count": 740,
     "metadata": {},
     "output_type": "execute_result"
    }
   ],
   "source": [
    "#Correcting the 201 missing values from BMI\n",
    "df=df.fillna(0)\n",
    "df"
   ]
  },
  {
   "cell_type": "markdown",
   "metadata": {},
   "source": [
    "## Data info & visualization (General)"
   ]
  },
  {
   "cell_type": "markdown",
   "metadata": {},
   "source": [
    "Here: we check the global database's information and we visualize the different data in several graphs for better understanding of the database"
   ]
  },
  {
   "cell_type": "code",
   "execution_count": 741,
   "metadata": {},
   "outputs": [
    {
     "name": "stdout",
     "output_type": "stream",
     "text": [
      "Database contains 5110 medical observations from 5110 unique patients\n"
     ]
    }
   ],
   "source": [
    "print(\"Database contains %d medical observations from %d unique patients\" %(len(df),len(df[\"id\"].unique())))"
   ]
  },
  {
   "cell_type": "markdown",
   "metadata": {},
   "source": [
    "### Gender & age"
   ]
  },
  {
   "cell_type": "code",
   "execution_count": 742,
   "metadata": {},
   "outputs": [
    {
     "name": "stdout",
     "output_type": "stream",
     "text": [
      "The patients are ['Male' 'Female' 'Other'], and are aged from 0 to 82, with an average of 43\n"
     ]
    }
   ],
   "source": [
    "print(\"The patients are %s, and are aged from %d to %d, with an average of %d\" %( df[\"gender\"].unique(), df[\"age\"].min(), df[\"age\"].max(), df[\"age\"].mean()))"
   ]
  },
  {
   "cell_type": "code",
   "execution_count": 743,
   "metadata": {},
   "outputs": [
    {
     "data": {
      "text/plain": [
       "<AxesSubplot:ylabel='gender'>"
      ]
     },
     "execution_count": 743,
     "metadata": {},
     "output_type": "execute_result"
    },
    {
     "data": {
      "image/png": "[encoded data removed]",
      "text/plain": [
       "<Figure size 720x576 with 1 Axes>"
      ]
     },
     "metadata": {},
     "output_type": "display_data"
    }
   ],
   "source": [
    "df.groupby([\"gender\"])[[\"gender\"]].count().plot.pie(y=\"gender\",table=True,figsize=(10,8))"
   ]
  },
  {
   "cell_type": "code",
   "execution_count": 684,
   "metadata": {},
   "outputs": [
    {
     "data": {
      "text/plain": [
       "<AxesSubplot:title={'center':'age'}, ylabel='Frequency'>"
      ]
     },
     "execution_count": 684,
     "metadata": {},
     "output_type": "execute_result"
    },
    {
     "data": {
      "image/png": "[encoded data removed]",
      "text/plain": [
       "<Figure size 720x576 with 1 Axes>"
      ]
     },
     "metadata": {
      "needs_background": "light"
     },
     "output_type": "display_data"
    }
   ],
   "source": [
    "df[\"age\"].plot.hist(title=\"age\",bins=20,figsize=(10,8))"
   ]
  },
  {
   "cell_type": "code",
   "execution_count": 685,
   "metadata": {},
   "outputs": [
    {
     "data": {
      "text/plain": [
       "count    5110.000000\n",
       "mean       43.226614\n",
       "std        22.612647\n",
       "min         0.080000\n",
       "25%        25.000000\n",
       "50%        45.000000\n",
       "75%        61.000000\n",
       "max        82.000000\n",
       "Name: age, dtype: float64"
      ]
     },
     "execution_count": 685,
     "metadata": {},
     "output_type": "execute_result"
    }
   ],
   "source": [
    "df[\"age\"].describe(include='all')"
   ]
  },
  {
   "cell_type": "markdown",
   "metadata": {},
   "source": [
    "_More insight on age_: The people are aged from **0.08 (29.2 days)** to **82** years; a median/mean around **43/45** years .  "
   ]
  },
  {
   "cell_type": "markdown",
   "metadata": {},
   "source": [
    "### Marriage, Work & Residence type"
   ]
  },
  {
   "cell_type": "code",
   "execution_count": 686,
   "metadata": {},
   "outputs": [
    {
     "data": {
      "text/plain": [
       "<AxesSubplot:ylabel='residence_type'>"
      ]
     },
     "execution_count": 686,
     "metadata": {},
     "output_type": "execute_result"
    },
    {
     "data": {
      "image/png": "[encoded data removed]",
      "text/plain": [
       "<Figure size 720x576 with 1 Axes>"
      ]
     },
     "metadata": {},
     "output_type": "display_data"
    },
    {
     "data": {
      "image/png": "[encoded data removed]",
      "text/plain": [
       "<Figure size 720x576 with 1 Axes>"
      ]
     },
     "metadata": {},
     "output_type": "display_data"
    },
    {
     "data": {
      "image/png": "[encoded data removed]",
      "text/plain": [
       "<Figure size 720x576 with 1 Axes>"
      ]
     },
     "metadata": {},
     "output_type": "display_data"
    }
   ],
   "source": [
    "df.groupby([\"ever_married\"])[[\"ever_married\"]].count().plot.pie(y=\"ever_married\",table=True,figsize=(10,8))\n",
    "df.groupby([\"work_type\"])[[\"work_type\"]].count().plot.pie(y=\"work_type\",table=True,figsize=(10,8))\n",
    "df.groupby([\"residence_type\"])[[\"residence_type\"]].count().plot.pie(y=\"residence_type\",table=True,figsize=(10,8))\n"
   ]
  },
  {
   "cell_type": "markdown",
   "metadata": {},
   "source": [
    "### Medical info"
   ]
  },
  {
   "cell_type": "code",
   "execution_count": 687,
   "metadata": {},
   "outputs": [
    {
     "data": {
      "text/plain": [
       "<AxesSubplot:ylabel='smoking_status'>"
      ]
     },
     "execution_count": 687,
     "metadata": {},
     "output_type": "execute_result"
    },
    {
     "data": {
      "image/png": "[encoded data removed]",
      "text/plain": [
       "<Figure size 720x576 with 1 Axes>"
      ]
     },
     "metadata": {},
     "output_type": "display_data"
    },
    {
     "data": {
      "image/png": "[encoded data removed]",
      "text/plain": [
       "<Figure size 720x576 with 1 Axes>"
      ]
     },
     "metadata": {},
     "output_type": "display_data"
    },
    {
     "data": {
      "image/png": "[encoded data removed]",
      "text/plain": [
       "<Figure size 720x576 with 1 Axes>"
      ]
     },
     "metadata": {},
     "output_type": "display_data"
    }
   ],
   "source": [
    "df.groupby([\"hypertension\"])[[\"hypertension\"]].count().plot.pie(y=\"hypertension\",table=True,figsize=(10,8))\n",
    "df.groupby([\"heart_disease\"])[[\"heart_disease\"]].count().plot.pie(y=\"heart_disease\",table=True,figsize=(10,8))\n",
    "df.groupby([\"smoking_status\"])[[\"smoking_status\"]].count().plot.pie(y=\"smoking_status\",table=True,figsize=(10,8))\n"
   ]
  },
  {
   "cell_type": "code",
   "execution_count": 688,
   "metadata": {},
   "outputs": [
    {
     "data": {
      "text/plain": [
       "count    5110.000000\n",
       "mean      106.147677\n",
       "std        45.283560\n",
       "min        55.120000\n",
       "25%        77.245000\n",
       "50%        91.885000\n",
       "75%       114.090000\n",
       "max       271.740000\n",
       "Name: avg_glucose_level, dtype: float64"
      ]
     },
     "execution_count": 688,
     "metadata": {},
     "output_type": "execute_result"
    },
    {
     "data": {
      "image/png": "[encoded data removed]",
      "text/plain": [
       "<Figure size 432x288 with 1 Axes>"
      ]
     },
     "metadata": {
      "needs_background": "light"
     },
     "output_type": "display_data"
    }
   ],
   "source": [
    "df[\"avg_glucose_level\"].plot.hist(title=\"avg_glucose_level\",bins=50)\n",
    "df[\"avg_glucose_level\"].describe()"
   ]
  },
  {
   "cell_type": "markdown",
   "metadata": {},
   "source": [
    "avg_glucose_level is therefore around **106 (median: 91)**, the values range from **55.12** to **271.74**, with a standard deviation of **45.28**"
   ]
  },
  {
   "cell_type": "code",
   "execution_count": 689,
   "metadata": {},
   "outputs": [
    {
     "data": {
      "text/plain": [
       "count    4909.000000\n",
       "mean       28.893237\n",
       "std         7.854067\n",
       "min        10.300000\n",
       "25%        23.500000\n",
       "50%        28.100000\n",
       "75%        33.100000\n",
       "max        97.600000\n",
       "Name: bmi, dtype: float64"
      ]
     },
     "execution_count": 689,
     "metadata": {},
     "output_type": "execute_result"
    },
    {
     "data": {
      "image/png": "[encoded data removed]",
      "text/plain": [
       "<Figure size 432x288 with 1 Axes>"
      ]
     },
     "metadata": {
      "needs_background": "light"
     },
     "output_type": "display_data"
    }
   ],
   "source": [
    "df[\"bmi\"].plot.hist(title=\"bmi\",bins=50)\n",
    "df[\"bmi\"][df[\"bmi\"]!=0].describe()"
   ]
  },
  {
   "cell_type": "markdown",
   "metadata": {},
   "source": [
    "**BMI**:\n",
    "\n",
    "Aside the **201** discarded NA values, the BMI's range is from **10.3** to **97.6**, with a mean/median of around **28**. The dataset is not equilibred as there are some \"extreme\" values, as shown in both description (max) and histogram, therefore these extreme cases need to be taken into consideration during classification"
   ]
  },
  {
   "cell_type": "markdown",
   "metadata": {},
   "source": [
    "### Target value: Stroke"
   ]
  },
  {
   "cell_type": "code",
   "execution_count": 690,
   "metadata": {},
   "outputs": [
    {
     "data": {
      "text/plain": [
       "<AxesSubplot:ylabel='stroke'>"
      ]
     },
     "execution_count": 690,
     "metadata": {},
     "output_type": "execute_result"
    },
    {
     "data": {
      "image/png": "[encoded data removed]",
      "text/plain": [
       "<Figure size 720x576 with 1 Axes>"
      ]
     },
     "metadata": {},
     "output_type": "display_data"
    }
   ],
   "source": [
    "outp = pd.DataFrame(df.stroke.map({0:'No',1:'Yes'}))\n",
    "outp.groupby(\"stroke\")[\"stroke\"].count().plot.pie(y=\"stroke\",table=True,figsize=(10,8))"
   ]
  },
  {
   "cell_type": "markdown",
   "metadata": {},
   "source": [
    "# Data splitting (training/validation/test)"
   ]
  },
  {
   "cell_type": "markdown",
   "metadata": {},
   "source": [
    "Goal: check the database, then make sure that we don't exclude the exceptions\n",
    "\n",
    "split the data into training/val/test: 60/20/20"
   ]
  },
  {
   "cell_type": "code",
   "execution_count": 744,
   "metadata": {},
   "outputs": [],
   "source": [
    "#split according to random state = 1\n",
    "df_trainval, df_test = train_test_split(df, test_size=0.2, random_state=1) #split train+val [80%], test [20%]\n",
    "df_train, df_val = train_test_split(df_trainval, test_size=0.25, random_state=1) #split train[60%] val [20%]\n",
    "\n",
    "#reset, drop index\n",
    "df_train = df_train.reset_index(drop=True)\n",
    "df_test = df_test.reset_index(drop=True)\n",
    "df_val = df_val.reset_index(drop=True)\n",
    "\n",
    "y_test = df_test[\"stroke\"].values\n",
    "y_train = df_train[\"stroke\"].values\n",
    "y_val = df_val[\"stroke\"].values\n",
    "\n",
    "del df_test[\"stroke\"]\n",
    "del df_train[\"stroke\"]\n",
    "del df_val[\"stroke\"]\n",
    "\n",
    "del df_test[\"id\"]\n",
    "del df_train[\"id\"]\n",
    "del df_val[\"id\"]"
   ]
  },
  {
   "cell_type": "markdown",
   "metadata": {},
   "source": [
    "## Check splitting"
   ]
  },
  {
   "cell_type": "code",
   "execution_count": 692,
   "metadata": {},
   "outputs": [
    {
     "name": "stdout",
     "output_type": "stream",
     "text": [
      "After splitting\n"
     ]
    },
    {
     "data": {
      "text/html": [
       "<div>\n",
       "<style scoped>\n",
       "    .dataframe tbody tr th:only-of-type {\n",
       "        vertical-align: middle;\n",
       "    }\n",
       "\n",
       "    .dataframe tbody tr th {\n",
       "        vertical-align: top;\n",
       "    }\n",
       "\n",
       "    .dataframe thead th {\n",
       "        text-align: right;\n",
       "    }\n",
       "</style>\n",
       "<table border=\"1\" class=\"dataframe\">\n",
       "  <thead>\n",
       "    <tr style=\"text-align: right;\">\n",
       "      <th></th>\n",
       "      <th>Name</th>\n",
       "      <th>Count</th>\n",
       "      <th>Percentage</th>\n",
       "      <th>Stroke</th>\n",
       "    </tr>\n",
       "  </thead>\n",
       "  <tbody>\n",
       "    <tr>\n",
       "      <th>0</th>\n",
       "      <td>Training</td>\n",
       "      <td>3066</td>\n",
       "      <td>60.0</td>\n",
       "      <td>149</td>\n",
       "    </tr>\n",
       "    <tr>\n",
       "      <th>1</th>\n",
       "      <td>Validation</td>\n",
       "      <td>1022</td>\n",
       "      <td>20.0</td>\n",
       "      <td>40</td>\n",
       "    </tr>\n",
       "    <tr>\n",
       "      <th>2</th>\n",
       "      <td>Test</td>\n",
       "      <td>1022</td>\n",
       "      <td>20.0</td>\n",
       "      <td>60</td>\n",
       "    </tr>\n",
       "  </tbody>\n",
       "</table>\n",
       "</div>"
      ],
      "text/plain": [
       "         Name  Count  Percentage  Stroke\n",
       "0    Training   3066        60.0     149\n",
       "1  Validation   1022        20.0      40\n",
       "2        Test   1022        20.0      60"
      ]
     },
     "execution_count": 692,
     "metadata": {},
     "output_type": "execute_result"
    }
   ],
   "source": [
    "print(\"After splitting\")\n",
    "dfdesc = pd.DataFrame({ 'Name':[\"Training\",\"Validation\",\"Test\"], 'Count': [len(df_train), len(df_val), len(df_test)]})\n",
    "dfdesc[\"Percentage\"] = dfdesc[\"Count\"] *100 / len(df)\n",
    "dfdesc[\"Stroke\"] = [sum(y_train),sum(y_val),sum(y_test)]\n",
    "dfdesc"
   ]
  },
  {
   "cell_type": "markdown",
   "metadata": {},
   "source": [
    "## Checking training data against full database"
   ]
  },
  {
   "cell_type": "code",
   "execution_count": 693,
   "metadata": {},
   "outputs": [
    {
     "data": {
      "text/html": [
       "<div>\n",
       "<style scoped>\n",
       "    .dataframe tbody tr th:only-of-type {\n",
       "        vertical-align: middle;\n",
       "    }\n",
       "\n",
       "    .dataframe tbody tr th {\n",
       "        vertical-align: top;\n",
       "    }\n",
       "\n",
       "    .dataframe thead th {\n",
       "        text-align: right;\n",
       "    }\n",
       "</style>\n",
       "<table border=\"1\" class=\"dataframe\">\n",
       "  <thead>\n",
       "    <tr style=\"text-align: right;\">\n",
       "      <th></th>\n",
       "      <th>age</th>\n",
       "      <th>avg_glucose_level</th>\n",
       "      <th>bmi</th>\n",
       "    </tr>\n",
       "  </thead>\n",
       "  <tbody>\n",
       "    <tr>\n",
       "      <th>count</th>\n",
       "      <td>2949.000000</td>\n",
       "      <td>2949.000000</td>\n",
       "      <td>2949.000000</td>\n",
       "    </tr>\n",
       "    <tr>\n",
       "      <th>mean</th>\n",
       "      <td>42.854296</td>\n",
       "      <td>105.171085</td>\n",
       "      <td>28.957308</td>\n",
       "    </tr>\n",
       "    <tr>\n",
       "      <th>std</th>\n",
       "      <td>22.554181</td>\n",
       "      <td>45.246772</td>\n",
       "      <td>7.806892</td>\n",
       "    </tr>\n",
       "    <tr>\n",
       "      <th>min</th>\n",
       "      <td>0.080000</td>\n",
       "      <td>55.120000</td>\n",
       "      <td>10.300000</td>\n",
       "    </tr>\n",
       "    <tr>\n",
       "      <th>25%</th>\n",
       "      <td>25.000000</td>\n",
       "      <td>76.260000</td>\n",
       "      <td>23.700000</td>\n",
       "    </tr>\n",
       "    <tr>\n",
       "      <th>50%</th>\n",
       "      <td>45.000000</td>\n",
       "      <td>90.730000</td>\n",
       "      <td>28.100000</td>\n",
       "    </tr>\n",
       "    <tr>\n",
       "      <th>75%</th>\n",
       "      <td>60.000000</td>\n",
       "      <td>113.400000</td>\n",
       "      <td>33.100000</td>\n",
       "    </tr>\n",
       "    <tr>\n",
       "      <th>max</th>\n",
       "      <td>82.000000</td>\n",
       "      <td>271.740000</td>\n",
       "      <td>97.600000</td>\n",
       "    </tr>\n",
       "  </tbody>\n",
       "</table>\n",
       "</div>"
      ],
      "text/plain": [
       "               age  avg_glucose_level          bmi\n",
       "count  2949.000000        2949.000000  2949.000000\n",
       "mean     42.854296         105.171085    28.957308\n",
       "std      22.554181          45.246772     7.806892\n",
       "min       0.080000          55.120000    10.300000\n",
       "25%      25.000000          76.260000    23.700000\n",
       "50%      45.000000          90.730000    28.100000\n",
       "75%      60.000000         113.400000    33.100000\n",
       "max      82.000000         271.740000    97.600000"
      ]
     },
     "execution_count": 693,
     "metadata": {},
     "output_type": "execute_result"
    }
   ],
   "source": [
    "df_train[df_train[\"bmi\"]!=0].describe()"
   ]
  },
  {
   "cell_type": "markdown",
   "metadata": {},
   "source": [
    "No extreme data should be discarded during the subsampling for age, avg_glucose_level and bmi"
   ]
  },
  {
   "cell_type": "code",
   "execution_count": 694,
   "metadata": {},
   "outputs": [
    {
     "data": {
      "text/html": [
       "<div>\n",
       "<style scoped>\n",
       "    .dataframe tbody tr th:only-of-type {\n",
       "        vertical-align: middle;\n",
       "    }\n",
       "\n",
       "    .dataframe tbody tr th {\n",
       "        vertical-align: top;\n",
       "    }\n",
       "\n",
       "    .dataframe thead th {\n",
       "        text-align: right;\n",
       "    }\n",
       "</style>\n",
       "<table border=\"1\" class=\"dataframe\">\n",
       "  <thead>\n",
       "    <tr style=\"text-align: right;\">\n",
       "      <th></th>\n",
       "      <th>ever_married</th>\n",
       "      <th>work_type</th>\n",
       "      <th>residence_type</th>\n",
       "      <th>hypertension</th>\n",
       "      <th>heart_disease</th>\n",
       "      <th>smoking_status</th>\n",
       "    </tr>\n",
       "  </thead>\n",
       "  <tbody>\n",
       "    <tr>\n",
       "      <th>count</th>\n",
       "      <td>3066</td>\n",
       "      <td>3066</td>\n",
       "      <td>3066</td>\n",
       "      <td>3066</td>\n",
       "      <td>3066</td>\n",
       "      <td>3066</td>\n",
       "    </tr>\n",
       "    <tr>\n",
       "      <th>unique</th>\n",
       "      <td>2</td>\n",
       "      <td>5</td>\n",
       "      <td>2</td>\n",
       "      <td>2</td>\n",
       "      <td>2</td>\n",
       "      <td>4</td>\n",
       "    </tr>\n",
       "    <tr>\n",
       "      <th>top</th>\n",
       "      <td>Yes</td>\n",
       "      <td>Private</td>\n",
       "      <td>Urban</td>\n",
       "      <td>No</td>\n",
       "      <td>No</td>\n",
       "      <td>never smoked</td>\n",
       "    </tr>\n",
       "    <tr>\n",
       "      <th>freq</th>\n",
       "      <td>2020</td>\n",
       "      <td>1743</td>\n",
       "      <td>1551</td>\n",
       "      <td>2760</td>\n",
       "      <td>2896</td>\n",
       "      <td>1138</td>\n",
       "    </tr>\n",
       "  </tbody>\n",
       "</table>\n",
       "</div>"
      ],
      "text/plain": [
       "       ever_married work_type residence_type hypertension heart_disease  \\\n",
       "count          3066      3066           3066         3066          3066   \n",
       "unique            2         5              2            2             2   \n",
       "top             Yes   Private          Urban           No            No   \n",
       "freq           2020      1743           1551         2760          2896   \n",
       "\n",
       "       smoking_status  \n",
       "count            3066  \n",
       "unique              4  \n",
       "top      never smoked  \n",
       "freq             1138  "
      ]
     },
     "execution_count": 694,
     "metadata": {},
     "output_type": "execute_result"
    }
   ],
   "source": [
    "df_train[[\"ever_married\",\"work_type\",\"residence_type\",\"hypertension\",\"heart_disease\",\"smoking_status\"]].describe()\n"
   ]
  },
  {
   "cell_type": "markdown",
   "metadata": {},
   "source": [
    "the same goes for the ever_married, work_type, residence_type, hypertension, heart_diease and smoking_status"
   ]
  },
  {
   "cell_type": "markdown",
   "metadata": {},
   "source": [
    "# Feature categorization"
   ]
  },
  {
   "cell_type": "code",
   "execution_count": 695,
   "metadata": {},
   "outputs": [
    {
     "name": "stdout",
     "output_type": "stream",
     "text": [
      "Total Number of features are 10, 7 are categorical and 3 are numerical\n"
     ]
    }
   ],
   "source": [
    "features_cat = ['gender','hypertension','heart_disease', 'ever_married', 'work_type','residence_type','smoking_status']\n",
    "features_cat_bool = ['gender','hypertension','heart_disease', 'ever_married', 'residence_type']\n",
    "features_cat_nbool = ['work_type','smoking_status']\n",
    "features_num = ['age','avg_glucose_level','bmi']\n",
    "\n",
    "print(\"Total Number of features are %d, %d are categorical and %d are numerical\" %(len(df_train.columns),len(features_cat), len(features_num)))"
   ]
  },
  {
   "cell_type": "markdown",
   "metadata": {},
   "source": [
    "# Features Analysis & Feature importance "
   ]
  },
  {
   "cell_type": "markdown",
   "metadata": {},
   "source": [
    "First part: feature analysis (to check against any possible correlation), second part: importance of each feature"
   ]
  },
  {
   "cell_type": "markdown",
   "metadata": {},
   "source": [
    "## Features analysis"
   ]
  },
  {
   "cell_type": "markdown",
   "metadata": {},
   "source": [
    "### Correlation between numerical features:"
   ]
  },
  {
   "cell_type": "code",
   "execution_count": 696,
   "metadata": {},
   "outputs": [
    {
     "data": {
      "text/html": [
       "<div>\n",
       "<style scoped>\n",
       "    .dataframe tbody tr th:only-of-type {\n",
       "        vertical-align: middle;\n",
       "    }\n",
       "\n",
       "    .dataframe tbody tr th {\n",
       "        vertical-align: top;\n",
       "    }\n",
       "\n",
       "    .dataframe thead th {\n",
       "        text-align: right;\n",
       "    }\n",
       "</style>\n",
       "<table border=\"1\" class=\"dataframe\">\n",
       "  <thead>\n",
       "    <tr style=\"text-align: right;\">\n",
       "      <th></th>\n",
       "      <th>age</th>\n",
       "      <th>avg_glucose_level</th>\n",
       "      <th>bmi</th>\n",
       "    </tr>\n",
       "  </thead>\n",
       "  <tbody>\n",
       "    <tr>\n",
       "      <th>age</th>\n",
       "      <td>1.000000</td>\n",
       "      <td>0.241854</td>\n",
       "      <td>0.220966</td>\n",
       "    </tr>\n",
       "    <tr>\n",
       "      <th>avg_glucose_level</th>\n",
       "      <td>0.241854</td>\n",
       "      <td>1.000000</td>\n",
       "      <td>0.110154</td>\n",
       "    </tr>\n",
       "    <tr>\n",
       "      <th>bmi</th>\n",
       "      <td>0.220966</td>\n",
       "      <td>0.110154</td>\n",
       "      <td>1.000000</td>\n",
       "    </tr>\n",
       "  </tbody>\n",
       "</table>\n",
       "</div>"
      ],
      "text/plain": [
       "                        age  avg_glucose_level       bmi\n",
       "age                1.000000           0.241854  0.220966\n",
       "avg_glucose_level  0.241854           1.000000  0.110154\n",
       "bmi                0.220966           0.110154  1.000000"
      ]
     },
     "execution_count": 696,
     "metadata": {},
     "output_type": "execute_result"
    }
   ],
   "source": [
    "df_train.corr()"
   ]
  },
  {
   "cell_type": "markdown",
   "metadata": {},
   "source": [
    "Therefore, all numerical features are uncorrelated and can be kept for further analysis"
   ]
  },
  {
   "cell_type": "markdown",
   "metadata": {},
   "source": [
    "### Mutual Information implemented as correlation between binary features"
   ]
  },
  {
   "cell_type": "code",
   "execution_count": 697,
   "metadata": {},
   "outputs": [
    {
     "data": {
      "text/html": [
       "<div>\n",
       "<style scoped>\n",
       "    .dataframe tbody tr th:only-of-type {\n",
       "        vertical-align: middle;\n",
       "    }\n",
       "\n",
       "    .dataframe tbody tr th {\n",
       "        vertical-align: top;\n",
       "    }\n",
       "\n",
       "    .dataframe thead th {\n",
       "        text-align: right;\n",
       "    }\n",
       "</style>\n",
       "<table border=\"1\" class=\"dataframe\">\n",
       "  <thead>\n",
       "    <tr style=\"text-align: right;\">\n",
       "      <th></th>\n",
       "      <th>gender</th>\n",
       "      <th>hypertension</th>\n",
       "      <th>heart_disease</th>\n",
       "      <th>ever_married</th>\n",
       "      <th>residence_type</th>\n",
       "    </tr>\n",
       "  </thead>\n",
       "  <tbody>\n",
       "    <tr>\n",
       "      <th>gender</th>\n",
       "      <td>1.000000</td>\n",
       "      <td>0.415851</td>\n",
       "      <td>0.396934</td>\n",
       "      <td>0.456295</td>\n",
       "      <td>0.502935</td>\n",
       "    </tr>\n",
       "    <tr>\n",
       "      <th>hypertension</th>\n",
       "      <td>0.415851</td>\n",
       "      <td>1.000000</td>\n",
       "      <td>0.873451</td>\n",
       "      <td>0.577952</td>\n",
       "      <td>0.490868</td>\n",
       "    </tr>\n",
       "    <tr>\n",
       "      <th>heart_disease</th>\n",
       "      <td>0.396934</td>\n",
       "      <td>0.873451</td>\n",
       "      <td>1.000000</td>\n",
       "      <td>0.615786</td>\n",
       "      <td>0.494781</td>\n",
       "    </tr>\n",
       "    <tr>\n",
       "      <th>ever_married</th>\n",
       "      <td>0.456295</td>\n",
       "      <td>0.577952</td>\n",
       "      <td>0.615786</td>\n",
       "      <td>1.000000</td>\n",
       "      <td>0.498695</td>\n",
       "    </tr>\n",
       "    <tr>\n",
       "      <th>residence_type</th>\n",
       "      <td>0.502935</td>\n",
       "      <td>0.490868</td>\n",
       "      <td>0.494781</td>\n",
       "      <td>0.498695</td>\n",
       "      <td>1.000000</td>\n",
       "    </tr>\n",
       "  </tbody>\n",
       "</table>\n",
       "</div>"
      ],
      "text/plain": [
       "                  gender  hypertension  heart_disease  ever_married  \\\n",
       "gender          1.000000      0.415851       0.396934      0.456295   \n",
       "hypertension    0.415851      1.000000       0.873451      0.577952   \n",
       "heart_disease   0.396934      0.873451       1.000000      0.615786   \n",
       "ever_married    0.456295      0.577952       0.615786      1.000000   \n",
       "residence_type  0.502935      0.490868       0.494781      0.498695   \n",
       "\n",
       "                residence_type  \n",
       "gender                0.502935  \n",
       "hypertension          0.490868  \n",
       "heart_disease         0.494781  \n",
       "ever_married          0.498695  \n",
       "residence_type        1.000000  "
      ]
     },
     "execution_count": 697,
     "metadata": {},
     "output_type": "execute_result"
    }
   ],
   "source": [
    "#from scipy.stats import chisquare\n",
    "mutual_info_mx = np.zeros((len(features_cat_bool),len(features_cat_bool)))\n",
    "i = -1; j = -1;\n",
    "for cati in features_cat_bool:\n",
    "    i +=1\n",
    "    j=-1;\n",
    "    for catj in features_cat_bool:\n",
    "        j+=1\n",
    "        if(j>i) : break; #alternatively it's possible to remove this speed up and comment the 2nd line after the next\n",
    "        #mutual_info_mx[i,j] = mutual_info_score(df_train[cati],df_train[catj]) #works but not so powerful...\n",
    "        mutual_info_mx[i,j] = np.mean(pd.factorize(df_train[cati])[0]==pd.factorize(df_train[catj])[0])\n",
    "        mutual_info_mx[j,i] = mutual_info_mx[i,j] \n",
    "pd.DataFrame(mutual_info_mx,columns=features_cat_bool,index=features_cat_bool)"
   ]
  },
  {
   "cell_type": "markdown",
   "metadata": {},
   "source": [
    "_Aside the possible jokes about getting married and its minor (very minor) influence on the heart disease and hypertension ...._\n",
    "\n",
    " it's shown that **heart disease** and **hypertension** are a bit correlated (87%), other variables are uncorrelated and are more like randomly correlated (around 50%)"
   ]
  },
  {
   "cell_type": "markdown",
   "metadata": {},
   "source": [
    "### Mutual information for non-boolean features"
   ]
  },
  {
   "cell_type": "code",
   "execution_count": 698,
   "metadata": {},
   "outputs": [],
   "source": [
    "def analyze_non_bin_mi(feat_name):\n",
    "    feat_vals = df_train[feat_name].unique()\n",
    "   \n",
    "\n",
    "    w = list()\n",
    "    i=-1;\n",
    "    for feat_val_name in feat_vals:\n",
    "        i += 1;\n",
    "        v = list()\n",
    "        for cati in features_cat_bool:\n",
    "             v.append(np.mean(np.array((df_train[feat_name]==feat_val_name)).astype(int)==pd.factorize(df_train[catj])[0]))\n",
    "             #v.append(np.mean(pd.factorize(df_train[feat_name])[0][i]==pd.factorize(df_train[catj])[0]))\n",
    "             \n",
    "        w.append(v)\n",
    "        #print(feat_val_name)\n",
    "        #print(v)\n",
    "        #df_mi[feat_val_name] = v\n",
    "             # print(x)\n",
    "    return pd.DataFrame(w,index=feat_vals,columns=features_cat_bool)\n",
    "    return df_mi"
   ]
  },
  {
   "cell_type": "markdown",
   "metadata": {},
   "source": [
    "#### Work Type"
   ]
  },
  {
   "cell_type": "code",
   "execution_count": 699,
   "metadata": {},
   "outputs": [
    {
     "data": {
      "text/html": [
       "<div>\n",
       "<style scoped>\n",
       "    .dataframe tbody tr th:only-of-type {\n",
       "        vertical-align: middle;\n",
       "    }\n",
       "\n",
       "    .dataframe tbody tr th {\n",
       "        vertical-align: top;\n",
       "    }\n",
       "\n",
       "    .dataframe thead th {\n",
       "        text-align: right;\n",
       "    }\n",
       "</style>\n",
       "<table border=\"1\" class=\"dataframe\">\n",
       "  <thead>\n",
       "    <tr style=\"text-align: right;\">\n",
       "      <th></th>\n",
       "      <th>gender</th>\n",
       "      <th>hypertension</th>\n",
       "      <th>heart_disease</th>\n",
       "      <th>ever_married</th>\n",
       "      <th>residence_type</th>\n",
       "    </tr>\n",
       "  </thead>\n",
       "  <tbody>\n",
       "    <tr>\n",
       "      <th>Private</th>\n",
       "      <td>0.493803</td>\n",
       "      <td>0.493803</td>\n",
       "      <td>0.493803</td>\n",
       "      <td>0.493803</td>\n",
       "      <td>0.493803</td>\n",
       "    </tr>\n",
       "    <tr>\n",
       "      <th>Self-employed</th>\n",
       "      <td>0.498369</td>\n",
       "      <td>0.498369</td>\n",
       "      <td>0.498369</td>\n",
       "      <td>0.498369</td>\n",
       "      <td>0.498369</td>\n",
       "    </tr>\n",
       "    <tr>\n",
       "      <th>Govt_job</th>\n",
       "      <td>0.500000</td>\n",
       "      <td>0.500000</td>\n",
       "      <td>0.500000</td>\n",
       "      <td>0.500000</td>\n",
       "      <td>0.500000</td>\n",
       "    </tr>\n",
       "    <tr>\n",
       "      <th>children</th>\n",
       "      <td>0.493477</td>\n",
       "      <td>0.493477</td>\n",
       "      <td>0.493477</td>\n",
       "      <td>0.493477</td>\n",
       "      <td>0.493477</td>\n",
       "    </tr>\n",
       "    <tr>\n",
       "      <th>Never_worked</th>\n",
       "      <td>0.496738</td>\n",
       "      <td>0.496738</td>\n",
       "      <td>0.496738</td>\n",
       "      <td>0.496738</td>\n",
       "      <td>0.496738</td>\n",
       "    </tr>\n",
       "  </tbody>\n",
       "</table>\n",
       "</div>"
      ],
      "text/plain": [
       "                 gender  hypertension  heart_disease  ever_married  \\\n",
       "Private        0.493803      0.493803       0.493803      0.493803   \n",
       "Self-employed  0.498369      0.498369       0.498369      0.498369   \n",
       "Govt_job       0.500000      0.500000       0.500000      0.500000   \n",
       "children       0.493477      0.493477       0.493477      0.493477   \n",
       "Never_worked   0.496738      0.496738       0.496738      0.496738   \n",
       "\n",
       "               residence_type  \n",
       "Private              0.493803  \n",
       "Self-employed        0.498369  \n",
       "Govt_job             0.500000  \n",
       "children             0.493477  \n",
       "Never_worked         0.496738  "
      ]
     },
     "execution_count": 699,
     "metadata": {},
     "output_type": "execute_result"
    }
   ],
   "source": [
    "analyze_non_bin_mi(\"work_type\")"
   ]
  },
  {
   "cell_type": "markdown",
   "metadata": {},
   "source": [
    "No correlation between different work types and other binary features"
   ]
  },
  {
   "cell_type": "markdown",
   "metadata": {},
   "source": [
    "#### Smoking status"
   ]
  },
  {
   "cell_type": "code",
   "execution_count": 700,
   "metadata": {},
   "outputs": [
    {
     "data": {
      "text/html": [
       "<div>\n",
       "<style scoped>\n",
       "    .dataframe tbody tr th:only-of-type {\n",
       "        vertical-align: middle;\n",
       "    }\n",
       "\n",
       "    .dataframe tbody tr th {\n",
       "        vertical-align: top;\n",
       "    }\n",
       "\n",
       "    .dataframe thead th {\n",
       "        text-align: right;\n",
       "    }\n",
       "</style>\n",
       "<table border=\"1\" class=\"dataframe\">\n",
       "  <thead>\n",
       "    <tr style=\"text-align: right;\">\n",
       "      <th></th>\n",
       "      <th>gender</th>\n",
       "      <th>hypertension</th>\n",
       "      <th>heart_disease</th>\n",
       "      <th>ever_married</th>\n",
       "      <th>residence_type</th>\n",
       "    </tr>\n",
       "  </thead>\n",
       "  <tbody>\n",
       "    <tr>\n",
       "      <th>Unknown</th>\n",
       "      <td>0.502283</td>\n",
       "      <td>0.502283</td>\n",
       "      <td>0.502283</td>\n",
       "      <td>0.502283</td>\n",
       "      <td>0.502283</td>\n",
       "    </tr>\n",
       "    <tr>\n",
       "      <th>smokes</th>\n",
       "      <td>0.501957</td>\n",
       "      <td>0.501957</td>\n",
       "      <td>0.501957</td>\n",
       "      <td>0.501957</td>\n",
       "      <td>0.501957</td>\n",
       "    </tr>\n",
       "    <tr>\n",
       "      <th>never smoked</th>\n",
       "      <td>0.483040</td>\n",
       "      <td>0.483040</td>\n",
       "      <td>0.483040</td>\n",
       "      <td>0.483040</td>\n",
       "      <td>0.483040</td>\n",
       "    </tr>\n",
       "    <tr>\n",
       "      <th>formerly smoked</th>\n",
       "      <td>0.500978</td>\n",
       "      <td>0.500978</td>\n",
       "      <td>0.500978</td>\n",
       "      <td>0.500978</td>\n",
       "      <td>0.500978</td>\n",
       "    </tr>\n",
       "  </tbody>\n",
       "</table>\n",
       "</div>"
      ],
      "text/plain": [
       "                   gender  hypertension  heart_disease  ever_married  \\\n",
       "Unknown          0.502283      0.502283       0.502283      0.502283   \n",
       "smokes           0.501957      0.501957       0.501957      0.501957   \n",
       "never smoked     0.483040      0.483040       0.483040      0.483040   \n",
       "formerly smoked  0.500978      0.500978       0.500978      0.500978   \n",
       "\n",
       "                 residence_type  \n",
       "Unknown                0.502283  \n",
       "smokes                 0.501957  \n",
       "never smoked           0.483040  \n",
       "formerly smoked        0.500978  "
      ]
     },
     "execution_count": 700,
     "metadata": {},
     "output_type": "execute_result"
    }
   ],
   "source": [
    "analyze_non_bin_mi(\"smoking_status\")"
   ]
  },
  {
   "cell_type": "markdown",
   "metadata": {},
   "source": [
    "No correlation can be seen here"
   ]
  },
  {
   "cell_type": "markdown",
   "metadata": {},
   "source": [
    "## Feature importance"
   ]
  },
  {
   "cell_type": "markdown",
   "metadata": {},
   "source": [
    "### Numerical data\n",
    "Numerical data feature importance are typically checked using AUC"
   ]
  },
  {
   "cell_type": "code",
   "execution_count": 701,
   "metadata": {},
   "outputs": [
    {
     "name": "stdout",
     "output_type": "stream",
     "text": [
      "age                 0.828\n",
      "avg_glucose_level   0.602\n",
      "bmi                 0.515\n"
     ]
    },
    {
     "data": {
      "text/plain": [
       "<matplotlib.legend.Legend at 0x1dbe45c5ee0>"
      ]
     },
     "execution_count": 701,
     "metadata": {},
     "output_type": "execute_result"
    },
    {
     "data": {
      "image/png": "[encoded data removed]",
      "text/plain": [
       "<Figure size 432x288 with 1 Axes>"
      ]
     },
     "metadata": {
      "needs_background": "light"
     },
     "output_type": "display_data"
    }
   ],
   "source": [
    "#num_columns\n",
    "for col in features_num:\n",
    "    fpr, tpr, thresholds = roc_curve(y_train, df_train[col] )\n",
    "    score = auc(fpr,tpr)\n",
    "    \n",
    "    if score < 0.5: \n",
    "        fpr, tpr, thresholds = roc_curve(y_train, -df_train[col] )\n",
    "        score = auc(fpr,tpr)\n",
    "\n",
    "    plt.plot(fpr,tpr , label=col )\n",
    "    print(col + (\" \"*(20-len(col))) + str(score)[:5]) #a little bit old-school python printing... \n",
    "    \n",
    "plt.xlabel('Def var')\n",
    "plt.ylabel('col')\n",
    "plt.grid(True)\n",
    "plt.legend()"
   ]
  },
  {
   "cell_type": "markdown",
   "metadata": {},
   "source": [
    "Here it means that bmi and avg_gluose_level are not so important as aging in determining the stroke. It also means that the stroke probability increases with age..."
   ]
  },
  {
   "cell_type": "markdown",
   "metadata": {},
   "source": [
    "### Categorical data"
   ]
  },
  {
   "cell_type": "code",
   "execution_count": 702,
   "metadata": {},
   "outputs": [
    {
     "data": {
      "text/html": [
       "<div>\n",
       "<style scoped>\n",
       "    .dataframe tbody tr th:only-of-type {\n",
       "        vertical-align: middle;\n",
       "    }\n",
       "\n",
       "    .dataframe tbody tr th {\n",
       "        vertical-align: top;\n",
       "    }\n",
       "\n",
       "    .dataframe thead th {\n",
       "        text-align: right;\n",
       "    }\n",
       "</style>\n",
       "<table border=\"1\" class=\"dataframe\">\n",
       "  <thead>\n",
       "    <tr style=\"text-align: right;\">\n",
       "      <th></th>\n",
       "      <th>Stroke</th>\n",
       "    </tr>\n",
       "  </thead>\n",
       "  <tbody>\n",
       "    <tr>\n",
       "      <th>gender</th>\n",
       "      <td>0.000059</td>\n",
       "    </tr>\n",
       "    <tr>\n",
       "      <th>hypertension</th>\n",
       "      <td>0.003983</td>\n",
       "    </tr>\n",
       "    <tr>\n",
       "      <th>heart_disease</th>\n",
       "      <td>0.007715</td>\n",
       "    </tr>\n",
       "    <tr>\n",
       "      <th>ever_married</th>\n",
       "      <td>0.005643</td>\n",
       "    </tr>\n",
       "    <tr>\n",
       "      <th>work_type</th>\n",
       "      <td>0.005898</td>\n",
       "    </tr>\n",
       "    <tr>\n",
       "      <th>residence_type</th>\n",
       "      <td>0.000061</td>\n",
       "    </tr>\n",
       "    <tr>\n",
       "      <th>smoking_status</th>\n",
       "      <td>0.002115</td>\n",
       "    </tr>\n",
       "  </tbody>\n",
       "</table>\n",
       "</div>"
      ],
      "text/plain": [
       "                  Stroke\n",
       "gender          0.000059\n",
       "hypertension    0.003983\n",
       "heart_disease   0.007715\n",
       "ever_married    0.005643\n",
       "work_type       0.005898\n",
       "residence_type  0.000061\n",
       "smoking_status  0.002115"
      ]
     },
     "execution_count": 702,
     "metadata": {},
     "output_type": "execute_result"
    },
    {
     "data": {
      "image/png": "[encoded data removed]",
      "text/plain": [
       "<Figure size 432x288 with 1 Axes>"
      ]
     },
     "metadata": {
      "needs_background": "light"
     },
     "output_type": "display_data"
    }
   ],
   "source": [
    "v= list()\n",
    "for cati in features_cat:\n",
    "   v.append(mutual_info_score(df_train[cati], y_train))\n",
    "cat_data_analy = pd.DataFrame(v,index= features_cat,columns = ['Stroke'])\n",
    "\n",
    "cat_data_analy.plot.bar()\n",
    "cat_data_analy\n"
   ]
  },
  {
   "cell_type": "markdown",
   "metadata": {},
   "source": [
    "Here, because the chance of stroke is very small, the values are smaller than what is known in the course.\n",
    "\n",
    "Nevertheless, it is shown that **heat_disease** is the most serious feature, in addition of **ever_married**, **work_type**, **hypertension** and **smoking_status**. "
   ]
  },
  {
   "cell_type": "markdown",
   "metadata": {},
   "source": [
    "# Model selection process & parameter tuning"
   ]
  },
  {
   "cell_type": "markdown",
   "metadata": {},
   "source": [
    "libraries:"
   ]
  },
  {
   "cell_type": "code",
   "execution_count": 772,
   "metadata": {},
   "outputs": [],
   "source": [
    "#libraries\n",
    "from sklearn.feature_extraction import DictVectorizer\n",
    "dv = DictVectorizer(sparse=False) #import encoder\n",
    "\n",
    "#auc\n",
    "from sklearn.metrics import roc_auc_score, roc_curve, f1_score\n",
    "\n",
    "from sklearn.linear_model import LinearRegression,LogisticRegression\n",
    "from sklearn.tree import DecisionTreeClassifier\n",
    "from sklearn.tree import export_text\n",
    "from sklearn import tree\n",
    "from sklearn.ensemble import RandomForestClassifier\n"
   ]
  },
  {
   "cell_type": "markdown",
   "metadata": {},
   "source": [
    "Test classifier:"
   ]
  },
  {
   "cell_type": "code",
   "execution_count": 773,
   "metadata": {},
   "outputs": [],
   "source": [
    "def test_classifier(clf,predictFcn,X_train,y_train,X_val,y_val):\n",
    "    clf.fit(X_train,y_train)\n",
    "    y_predict = predictFcn(X_val)\n",
    "    fpr, tpr, thresholds = roc_curve(y_val, y_predict)\n",
    "    #roc_data = (fpr,tpr,thresholds)\n",
    "    return (np.mean(predictFcn(X_train) == y_train),np.mean(predictFcn(X_val) == y_val),roc_auc_score(y_val,y_predict),f1_score(y_val,y_predict))"
   ]
  },
  {
   "cell_type": "markdown",
   "metadata": {},
   "source": [
    "Prepare data for training (one-hot encoder)"
   ]
  },
  {
   "cell_type": "code",
   "execution_count": 774,
   "metadata": {},
   "outputs": [],
   "source": [
    "# Serialize non-numerical data using DictVectorizer (aka One-Hot Encoding)\n",
    "train_dict = df_train.to_dict(orient='records') # get categorial variables from train db, sort them by x and put them into dictionary \n",
    "X_train = dv.fit_transform(train_dict) #one-hot encoding \n",
    "val_dict = df_val.to_dict(orient='records') #apply same \n",
    "X_val = dv.transform(val_dict)"
   ]
  },
  {
   "cell_type": "markdown",
   "metadata": {},
   "source": [
    "## Decision Tree"
   ]
  },
  {
   "cell_type": "markdown",
   "metadata": {},
   "source": [
    "### Decision Tree using gini"
   ]
  },
  {
   "cell_type": "markdown",
   "metadata": {},
   "source": [
    "First decision tree classification, max depth = 1"
   ]
  },
  {
   "cell_type": "code",
   "execution_count": 775,
   "metadata": {},
   "outputs": [
    {
     "data": {
      "text/html": [
       "<div>\n",
       "<style scoped>\n",
       "    .dataframe tbody tr th:only-of-type {\n",
       "        vertical-align: middle;\n",
       "    }\n",
       "\n",
       "    .dataframe tbody tr th {\n",
       "        vertical-align: top;\n",
       "    }\n",
       "\n",
       "    .dataframe thead th {\n",
       "        text-align: right;\n",
       "    }\n",
       "</style>\n",
       "<table border=\"1\" class=\"dataframe\">\n",
       "  <thead>\n",
       "    <tr style=\"text-align: right;\">\n",
       "      <th></th>\n",
       "      <th>D.T. max_depth = 1</th>\n",
       "    </tr>\n",
       "  </thead>\n",
       "  <tbody>\n",
       "    <tr>\n",
       "      <th>Classification Accuracy</th>\n",
       "      <td>0.951402</td>\n",
       "    </tr>\n",
       "    <tr>\n",
       "      <th>Validation Accuracy</th>\n",
       "      <td>0.960861</td>\n",
       "    </tr>\n",
       "    <tr>\n",
       "      <th>AUC</th>\n",
       "      <td>0.500000</td>\n",
       "    </tr>\n",
       "    <tr>\n",
       "      <th>F1</th>\n",
       "      <td>0.000000</td>\n",
       "    </tr>\n",
       "  </tbody>\n",
       "</table>\n",
       "</div>"
      ],
      "text/plain": [
       "                         D.T. max_depth = 1\n",
       "Classification Accuracy            0.951402\n",
       "Validation Accuracy                0.960861\n",
       "AUC                                0.500000\n",
       "F1                                 0.000000"
      ]
     },
     "execution_count": 775,
     "metadata": {},
     "output_type": "execute_result"
    }
   ],
   "source": [
    "dt = DecisionTreeClassifier(max_depth=1)\n",
    "v=test_classifier(dt,dt.predict,X_train,y_train,X_val,y_val)\n",
    "pd.DataFrame(v,index=['Classification Accuracy','Validation Accuracy','AUC','F1'],columns=['D.T. max_depth = 1'])\n"
   ]
  },
  {
   "cell_type": "code",
   "execution_count": 776,
   "metadata": {},
   "outputs": [
    {
     "name": "stdout",
     "output_type": "stream",
     "text": [
      "|--- age <= 67.50\n",
      "|   |--- class: 0\n",
      "|--- age >  67.50\n",
      "|   |--- class: 0\n",
      "\n"
     ]
    },
    {
     "name": "stderr",
     "output_type": "stream",
     "text": [
      "C:\\Users\\kay_t\\AppData\\Local\\Packages\\PythonSoftwareFoundation.Python.3.9_qbz5n2kfra8p0\\LocalCache\\local-packages\\Python39\\site-packages\\sklearn\\utils\\deprecation.py:87: FutureWarning: Function get_feature_names is deprecated; get_feature_names is deprecated in 1.0 and will be removed in 1.2. Please use get_feature_names_out instead.\n",
      "  warnings.warn(msg, category=FutureWarning)\n"
     ]
    }
   ],
   "source": [
    "print(export_text(dt, feature_names=dv.get_feature_names()))"
   ]
  },
  {
   "cell_type": "markdown",
   "metadata": {},
   "source": [
    "**Therefore, here it classifies stroke around the age, however it can be seen that the classifier is not good enough, it basically returns 0. This is why AUC is around 0.5**"
   ]
  },
  {
   "cell_type": "code",
   "execution_count": 750,
   "metadata": {},
   "outputs": [
    {
     "data": {
      "image/png": "[encoded data removed]",
      "text/plain": [
       "<Figure size 432x288 with 1 Axes>"
      ]
     },
     "metadata": {
      "needs_background": "light"
     },
     "output_type": "display_data"
    },
    {
     "data": {
      "image/png": "[encoded data removed]",
      "text/plain": [
       "<Figure size 432x288 with 2 Axes>"
      ]
     },
     "metadata": {
      "needs_background": "light"
     },
     "output_type": "display_data"
    }
   ],
   "source": [
    "dtf = pd.DataFrame(index=['Classification Accuracy','Validation Accuracy','AUC','F1'])\n",
    "\n",
    "investigated_max_depth =  range(1,21)\n",
    "for maxdepth in investigated_max_depth:\n",
    "    dt = DecisionTreeClassifier(max_depth=maxdepth)\n",
    "    v=test_classifier(dt,dt.predict,X_train,y_train,X_val,y_val)\n",
    "    \n",
    "    dtf[\"max_depth\" + str(maxdepth)] = v\n",
    "\n",
    "plt.plot(investigated_max_depth, dtf.iloc[0,:],label='Classification Accuracy')\n",
    "plt.plot(investigated_max_depth, dtf.iloc[1,:],label='Validation Accuracy')\n",
    "plt.xlabel('Max Depth')\n",
    "plt.ylabel('Accuracy')\n",
    "plt.grid(True)\n",
    "plt.legend()\n",
    "plt.show()\n",
    "\n",
    "\n",
    "plt.plot(investigated_max_depth, dtf.iloc[2,:],label='AUC')\n",
    "plt.xlabel('Max Depth')\n",
    "plt.ylabel('AUC',color='tab:blue')\n",
    "plt.grid(True)\n",
    "ax = plt.twinx()\n",
    "\n",
    "ax.plot(investigated_max_depth, dtf.iloc[3,:],label='F1-Score',color='tab:orange')\n",
    "#plt.xlabel('Max Depth')\n",
    "ax.set_ylabel('F1',color='tab:orange')\n",
    "#plt.grid(True)\n",
    "#plt.legend()\n",
    "plt.show()"
   ]
  },
  {
   "cell_type": "markdown",
   "metadata": {},
   "source": [
    "* **Starting from max_depth = 3, decision tree is capable of returning stroke=True (1). Validation Accuracy is 96.1%**\n",
    "* **Compromise between AUC, F1, validation and classification: at max depth = 6**\n",
    "* **AUC: 0.59, F1=0.26, validation: 95%**"
   ]
  },
  {
   "cell_type": "markdown",
   "metadata": {},
   "source": [
    "### Decision Tree using Entropy"
   ]
  },
  {
   "cell_type": "code",
   "execution_count": 751,
   "metadata": {},
   "outputs": [
    {
     "data": {
      "image/png": "[encoded data removed]",
      "text/plain": [
       "<Figure size 432x288 with 1 Axes>"
      ]
     },
     "metadata": {
      "needs_background": "light"
     },
     "output_type": "display_data"
    },
    {
     "data": {
      "image/png": "[encoded data removed]",
      "text/plain": [
       "<Figure size 432x288 with 1 Axes>"
      ]
     },
     "metadata": {
      "needs_background": "light"
     },
     "output_type": "display_data"
    },
    {
     "data": {
      "image/png": "[encoded data removed]",
      "text/plain": [
       "<Figure size 432x288 with 1 Axes>"
      ]
     },
     "metadata": {
      "needs_background": "light"
     },
     "output_type": "display_data"
    }
   ],
   "source": [
    "dtf = pd.DataFrame(index=['Classification Accuracy','Validation Accuracy','AUC','F1'])\n",
    "\n",
    "investigated_max_depth =  range(1,21)\n",
    "for maxdepth in investigated_max_depth:\n",
    "    dt = DecisionTreeClassifier(max_depth=maxdepth,criterion='entropy')\n",
    "    v=test_classifier(dt,dt.predict,X_train,y_train,X_val,y_val)\n",
    "    dtf[\"max_depth\" + str(maxdepth)] = v\n",
    "\n",
    "plt.plot(investigated_max_depth, dtf.iloc[0,:],label='Classification Accuracy')\n",
    "plt.plot(investigated_max_depth, dtf.iloc[1,:],label='Validation Accuracy')\n",
    "plt.xlabel('Max Depth')\n",
    "plt.ylabel('Accuracy')\n",
    "plt.grid(True)\n",
    "plt.legend()\n",
    "plt.show()\n",
    "\n",
    "\n",
    "plt.plot(investigated_max_depth, dtf.iloc[2,:],label='AUC')\n",
    "plt.xlabel('Max Depth')\n",
    "plt.ylabel('AUC')\n",
    "plt.grid(True)\n",
    "plt.legend()\n",
    "plt.show()\n",
    "\n",
    "\n",
    "plt.plot(investigated_max_depth, dtf.iloc[3,:],label='F1')\n",
    "plt.xlabel('Max Depth')\n",
    "plt.ylabel('F1')\n",
    "plt.grid(True)\n",
    "plt.legend()\n",
    "plt.show()"
   ]
  },
  {
   "cell_type": "markdown",
   "metadata": {},
   "source": [
    "* **Using Entropy gave similar perforamnce to gini**\n",
    "* **But, at this case, using max_depth=9 provides the best AUC and therefore is recommended**\n",
    "* **AUC: 0.61, F1=0.26, Validation: 94%**"
   ]
  },
  {
   "cell_type": "markdown",
   "metadata": {},
   "source": [
    "## Random Forest"
   ]
  },
  {
   "cell_type": "markdown",
   "metadata": {},
   "source": [
    "Train random forest with different n_estimator and max_depth"
   ]
  },
  {
   "cell_type": "code",
   "execution_count": 752,
   "metadata": {},
   "outputs": [
    {
     "data": {
      "text/html": [
       "<div>\n",
       "<style scoped>\n",
       "    .dataframe tbody tr th:only-of-type {\n",
       "        vertical-align: middle;\n",
       "    }\n",
       "\n",
       "    .dataframe tbody tr th {\n",
       "        vertical-align: top;\n",
       "    }\n",
       "\n",
       "    .dataframe thead th {\n",
       "        text-align: right;\n",
       "    }\n",
       "</style>\n",
       "<table border=\"1\" class=\"dataframe\">\n",
       "  <thead>\n",
       "    <tr style=\"text-align: right;\">\n",
       "      <th></th>\n",
       "      <th>nestim</th>\n",
       "      <th>maxdepth</th>\n",
       "      <th>class</th>\n",
       "      <th>val</th>\n",
       "      <th>auc</th>\n",
       "      <th>f1</th>\n",
       "    </tr>\n",
       "  </thead>\n",
       "  <tbody>\n",
       "    <tr>\n",
       "      <th>0</th>\n",
       "      <td>1.0</td>\n",
       "      <td>1.0</td>\n",
       "      <td>0.951402</td>\n",
       "      <td>0.960861</td>\n",
       "      <td>0.500000</td>\n",
       "      <td>0.000000</td>\n",
       "    </tr>\n",
       "    <tr>\n",
       "      <th>1</th>\n",
       "      <td>2.0</td>\n",
       "      <td>1.0</td>\n",
       "      <td>0.951402</td>\n",
       "      <td>0.960861</td>\n",
       "      <td>0.500000</td>\n",
       "      <td>0.000000</td>\n",
       "    </tr>\n",
       "    <tr>\n",
       "      <th>2</th>\n",
       "      <td>3.0</td>\n",
       "      <td>1.0</td>\n",
       "      <td>0.951402</td>\n",
       "      <td>0.960861</td>\n",
       "      <td>0.500000</td>\n",
       "      <td>0.000000</td>\n",
       "    </tr>\n",
       "    <tr>\n",
       "      <th>3</th>\n",
       "      <td>4.0</td>\n",
       "      <td>1.0</td>\n",
       "      <td>0.951402</td>\n",
       "      <td>0.960861</td>\n",
       "      <td>0.500000</td>\n",
       "      <td>0.000000</td>\n",
       "    </tr>\n",
       "    <tr>\n",
       "      <th>4</th>\n",
       "      <td>5.0</td>\n",
       "      <td>1.0</td>\n",
       "      <td>0.951402</td>\n",
       "      <td>0.960861</td>\n",
       "      <td>0.500000</td>\n",
       "      <td>0.000000</td>\n",
       "    </tr>\n",
       "    <tr>\n",
       "      <th>...</th>\n",
       "      <td>...</td>\n",
       "      <td>...</td>\n",
       "      <td>...</td>\n",
       "      <td>...</td>\n",
       "      <td>...</td>\n",
       "      <td>...</td>\n",
       "    </tr>\n",
       "    <tr>\n",
       "      <th>787</th>\n",
       "      <td>95.0</td>\n",
       "      <td>25.0</td>\n",
       "      <td>1.000000</td>\n",
       "      <td>0.960861</td>\n",
       "      <td>0.511991</td>\n",
       "      <td>0.047619</td>\n",
       "    </tr>\n",
       "    <tr>\n",
       "      <th>788</th>\n",
       "      <td>96.0</td>\n",
       "      <td>25.0</td>\n",
       "      <td>1.000000</td>\n",
       "      <td>0.960861</td>\n",
       "      <td>0.511991</td>\n",
       "      <td>0.047619</td>\n",
       "    </tr>\n",
       "    <tr>\n",
       "      <th>789</th>\n",
       "      <td>97.0</td>\n",
       "      <td>25.0</td>\n",
       "      <td>1.000000</td>\n",
       "      <td>0.960861</td>\n",
       "      <td>0.511991</td>\n",
       "      <td>0.047619</td>\n",
       "    </tr>\n",
       "    <tr>\n",
       "      <th>790</th>\n",
       "      <td>98.0</td>\n",
       "      <td>25.0</td>\n",
       "      <td>1.000000</td>\n",
       "      <td>0.960861</td>\n",
       "      <td>0.511991</td>\n",
       "      <td>0.047619</td>\n",
       "    </tr>\n",
       "    <tr>\n",
       "      <th>791</th>\n",
       "      <td>99.0</td>\n",
       "      <td>25.0</td>\n",
       "      <td>1.000000</td>\n",
       "      <td>0.960861</td>\n",
       "      <td>0.511991</td>\n",
       "      <td>0.047619</td>\n",
       "    </tr>\n",
       "  </tbody>\n",
       "</table>\n",
       "<p>792 rows × 6 columns</p>\n",
       "</div>"
      ],
      "text/plain": [
       "     nestim  maxdepth     class       val       auc        f1\n",
       "0       1.0       1.0  0.951402  0.960861  0.500000  0.000000\n",
       "1       2.0       1.0  0.951402  0.960861  0.500000  0.000000\n",
       "2       3.0       1.0  0.951402  0.960861  0.500000  0.000000\n",
       "3       4.0       1.0  0.951402  0.960861  0.500000  0.000000\n",
       "4       5.0       1.0  0.951402  0.960861  0.500000  0.000000\n",
       "..      ...       ...       ...       ...       ...       ...\n",
       "787    95.0      25.0  1.000000  0.960861  0.511991  0.047619\n",
       "788    96.0      25.0  1.000000  0.960861  0.511991  0.047619\n",
       "789    97.0      25.0  1.000000  0.960861  0.511991  0.047619\n",
       "790    98.0      25.0  1.000000  0.960861  0.511991  0.047619\n",
       "791    99.0      25.0  1.000000  0.960861  0.511991  0.047619\n",
       "\n",
       "[792 rows x 6 columns]"
      ]
     },
     "execution_count": 752,
     "metadata": {},
     "output_type": "execute_result"
    }
   ],
   "source": [
    "df_rf = pd.DataFrame(columns=['nestim','maxdepth','class','val','auc','f1'])\n",
    "for max_dep in [1, 5, 7, 9, 10, 15, 20, 25]:\n",
    "        for n_est in np.arange(1,100):\n",
    "                rf = RandomForestClassifier(n_estimators=n_est, max_depth=max_dep, n_jobs=-1, random_state=1)\n",
    "                v=test_classifier(rf,rf.predict,X_train,y_train,X_val,y_val)\n",
    "                df_rf=df_rf.append(dict(zip(['nestim','maxdepth','class','val','auc','f1'], [n_est, max_dep , v[0],v[1],v[2],v[3]])),ignore_index=True)\n",
    "df_rf                "
   ]
  },
  {
   "cell_type": "code",
   "execution_count": null,
   "metadata": {},
   "outputs": [],
   "source": [
    "plt.figure(figsize=(50,50))\n",
    "df_rf_pivot = df_rf.pivot(index='nestim', columns=['maxdepth'], values=['f1'])\n",
    "sns.heatmap(df_rf_pivot, annot=True, fmt=\".3f\")"
   ]
  },
  {
   "cell_type": "markdown",
   "metadata": {},
   "source": [
    "* n_estimator= 7, any max_depth above 10 does the job, F1=0.204"
   ]
  },
  {
   "cell_type": "code",
   "execution_count": null,
   "metadata": {},
   "outputs": [],
   "source": [
    "plt.figure(figsize=(50,50))\n",
    "df_rf_pivot = df_rf.pivot(index='nestim', columns=['maxdepth'], values=['auc'])\n",
    "sns.heatmap(df_rf_pivot, annot=True, fmt=\".3f\")"
   ]
  },
  {
   "cell_type": "markdown",
   "metadata": {},
   "source": [
    "* AUC heatmap confirms this too"
   ]
  },
  {
   "cell_type": "code",
   "execution_count": null,
   "metadata": {},
   "outputs": [],
   "source": [
    "plt.figure(figsize=(50,50))\n",
    "df_rf_pivot = df_rf.pivot(index='nestim', columns=['maxdepth'], values=['val'])\n",
    "sns.heatmap(df_rf_pivot, annot=True, fmt=\".3f\")"
   ]
  },
  {
   "cell_type": "code",
   "execution_count": 756,
   "metadata": {},
   "outputs": [
    {
     "data": {
      "text/html": [
       "<div>\n",
       "<style scoped>\n",
       "    .dataframe tbody tr th:only-of-type {\n",
       "        vertical-align: middle;\n",
       "    }\n",
       "\n",
       "    .dataframe tbody tr th {\n",
       "        vertical-align: top;\n",
       "    }\n",
       "\n",
       "    .dataframe thead th {\n",
       "        text-align: right;\n",
       "    }\n",
       "</style>\n",
       "<table border=\"1\" class=\"dataframe\">\n",
       "  <thead>\n",
       "    <tr style=\"text-align: right;\">\n",
       "      <th></th>\n",
       "      <th></th>\n",
       "      <th>class</th>\n",
       "      <th>val</th>\n",
       "      <th>auc</th>\n",
       "      <th>f1</th>\n",
       "    </tr>\n",
       "    <tr>\n",
       "      <th>nestim</th>\n",
       "      <th>maxdepth</th>\n",
       "      <th></th>\n",
       "      <th></th>\n",
       "      <th></th>\n",
       "      <th></th>\n",
       "    </tr>\n",
       "  </thead>\n",
       "  <tbody>\n",
       "    <tr>\n",
       "      <th rowspan=\"2\" valign=\"top\">1.0</th>\n",
       "      <th>10.0</th>\n",
       "      <td>0.965427</td>\n",
       "      <td>0.945205</td>\n",
       "      <td>0.575789</td>\n",
       "      <td>0.200000</td>\n",
       "    </tr>\n",
       "    <tr>\n",
       "      <th>9.0</th>\n",
       "      <td>0.956947</td>\n",
       "      <td>0.932485</td>\n",
       "      <td>0.569170</td>\n",
       "      <td>0.168675</td>\n",
       "    </tr>\n",
       "    <tr>\n",
       "      <th rowspan=\"3\" valign=\"top\">7.0</th>\n",
       "      <th>15.0</th>\n",
       "      <td>0.988911</td>\n",
       "      <td>0.961840</td>\n",
       "      <td>0.560463</td>\n",
       "      <td>0.204082</td>\n",
       "    </tr>\n",
       "    <tr>\n",
       "      <th>20.0</th>\n",
       "      <td>0.992172</td>\n",
       "      <td>0.961840</td>\n",
       "      <td>0.560463</td>\n",
       "      <td>0.204082</td>\n",
       "    </tr>\n",
       "    <tr>\n",
       "      <th>25.0</th>\n",
       "      <td>0.992172</td>\n",
       "      <td>0.961840</td>\n",
       "      <td>0.560463</td>\n",
       "      <td>0.204082</td>\n",
       "    </tr>\n",
       "    <tr>\n",
       "      <th>...</th>\n",
       "      <th>...</th>\n",
       "      <td>...</td>\n",
       "      <td>...</td>\n",
       "      <td>...</td>\n",
       "      <td>...</td>\n",
       "    </tr>\n",
       "    <tr>\n",
       "      <th>25.0</th>\n",
       "      <th>15.0</th>\n",
       "      <td>0.994455</td>\n",
       "      <td>0.955969</td>\n",
       "      <td>0.497454</td>\n",
       "      <td>0.000000</td>\n",
       "    </tr>\n",
       "    <tr>\n",
       "      <th>43.0</th>\n",
       "      <th>15.0</th>\n",
       "      <td>0.996738</td>\n",
       "      <td>0.955969</td>\n",
       "      <td>0.497454</td>\n",
       "      <td>0.000000</td>\n",
       "    </tr>\n",
       "    <tr>\n",
       "      <th>4.0</th>\n",
       "      <th>7.0</th>\n",
       "      <td>0.955643</td>\n",
       "      <td>0.954990</td>\n",
       "      <td>0.496945</td>\n",
       "      <td>0.000000</td>\n",
       "    </tr>\n",
       "    <tr>\n",
       "      <th>3.0</th>\n",
       "      <th>7.0</th>\n",
       "      <td>0.956295</td>\n",
       "      <td>0.953033</td>\n",
       "      <td>0.495927</td>\n",
       "      <td>0.000000</td>\n",
       "    </tr>\n",
       "    <tr>\n",
       "      <th>2.0</th>\n",
       "      <th>7.0</th>\n",
       "      <td>0.958904</td>\n",
       "      <td>0.950098</td>\n",
       "      <td>0.494399</td>\n",
       "      <td>0.000000</td>\n",
       "    </tr>\n",
       "  </tbody>\n",
       "</table>\n",
       "<p>792 rows × 4 columns</p>\n",
       "</div>"
      ],
      "text/plain": [
       "                    class       val       auc        f1\n",
       "nestim maxdepth                                        \n",
       "1.0    10.0      0.965427  0.945205  0.575789  0.200000\n",
       "       9.0       0.956947  0.932485  0.569170  0.168675\n",
       "7.0    15.0      0.988911  0.961840  0.560463  0.204082\n",
       "       20.0      0.992172  0.961840  0.560463  0.204082\n",
       "       25.0      0.992172  0.961840  0.560463  0.204082\n",
       "...                   ...       ...       ...       ...\n",
       "25.0   15.0      0.994455  0.955969  0.497454  0.000000\n",
       "43.0   15.0      0.996738  0.955969  0.497454  0.000000\n",
       "4.0    7.0       0.955643  0.954990  0.496945  0.000000\n",
       "3.0    7.0       0.956295  0.953033  0.495927  0.000000\n",
       "2.0    7.0       0.958904  0.950098  0.494399  0.000000\n",
       "\n",
       "[792 rows x 4 columns]"
      ]
     },
     "execution_count": 756,
     "metadata": {},
     "output_type": "execute_result"
    }
   ],
   "source": [
    "df_rf.groupby(['nestim','maxdepth']).max().sort_values(\"auc\",ascending=False)"
   ]
  },
  {
   "cell_type": "code",
   "execution_count": 757,
   "metadata": {},
   "outputs": [
    {
     "data": {
      "text/html": [
       "<div>\n",
       "<style scoped>\n",
       "    .dataframe tbody tr th:only-of-type {\n",
       "        vertical-align: middle;\n",
       "    }\n",
       "\n",
       "    .dataframe tbody tr th {\n",
       "        vertical-align: top;\n",
       "    }\n",
       "\n",
       "    .dataframe thead th {\n",
       "        text-align: right;\n",
       "    }\n",
       "</style>\n",
       "<table border=\"1\" class=\"dataframe\">\n",
       "  <thead>\n",
       "    <tr style=\"text-align: right;\">\n",
       "      <th></th>\n",
       "      <th></th>\n",
       "      <th>class</th>\n",
       "      <th>val</th>\n",
       "      <th>auc</th>\n",
       "      <th>f1</th>\n",
       "    </tr>\n",
       "    <tr>\n",
       "      <th>nestim</th>\n",
       "      <th>maxdepth</th>\n",
       "      <th></th>\n",
       "      <th></th>\n",
       "      <th></th>\n",
       "      <th></th>\n",
       "    </tr>\n",
       "  </thead>\n",
       "  <tbody>\n",
       "    <tr>\n",
       "      <th rowspan=\"3\" valign=\"top\">7.0</th>\n",
       "      <th>15.0</th>\n",
       "      <td>0.988911</td>\n",
       "      <td>0.961840</td>\n",
       "      <td>0.560463</td>\n",
       "      <td>0.204082</td>\n",
       "    </tr>\n",
       "    <tr>\n",
       "      <th>20.0</th>\n",
       "      <td>0.992172</td>\n",
       "      <td>0.961840</td>\n",
       "      <td>0.560463</td>\n",
       "      <td>0.204082</td>\n",
       "    </tr>\n",
       "    <tr>\n",
       "      <th>25.0</th>\n",
       "      <td>0.992172</td>\n",
       "      <td>0.961840</td>\n",
       "      <td>0.560463</td>\n",
       "      <td>0.204082</td>\n",
       "    </tr>\n",
       "    <tr>\n",
       "      <th rowspan=\"2\" valign=\"top\">5.0</th>\n",
       "      <th>20.0</th>\n",
       "      <td>0.990541</td>\n",
       "      <td>0.960861</td>\n",
       "      <td>0.559954</td>\n",
       "      <td>0.200000</td>\n",
       "    </tr>\n",
       "    <tr>\n",
       "      <th>25.0</th>\n",
       "      <td>0.990541</td>\n",
       "      <td>0.960861</td>\n",
       "      <td>0.559954</td>\n",
       "      <td>0.200000</td>\n",
       "    </tr>\n",
       "    <tr>\n",
       "      <th>...</th>\n",
       "      <th>...</th>\n",
       "      <td>...</td>\n",
       "      <td>...</td>\n",
       "      <td>...</td>\n",
       "      <td>...</td>\n",
       "    </tr>\n",
       "    <tr>\n",
       "      <th rowspan=\"4\" valign=\"top\">47.0</th>\n",
       "      <th>15.0</th>\n",
       "      <td>0.996738</td>\n",
       "      <td>0.957926</td>\n",
       "      <td>0.498473</td>\n",
       "      <td>0.000000</td>\n",
       "    </tr>\n",
       "    <tr>\n",
       "      <th>10.0</th>\n",
       "      <td>0.973907</td>\n",
       "      <td>0.959883</td>\n",
       "      <td>0.499491</td>\n",
       "      <td>0.000000</td>\n",
       "    </tr>\n",
       "    <tr>\n",
       "      <th>7.0</th>\n",
       "      <td>0.957926</td>\n",
       "      <td>0.960861</td>\n",
       "      <td>0.500000</td>\n",
       "      <td>0.000000</td>\n",
       "    </tr>\n",
       "    <tr>\n",
       "      <th>5.0</th>\n",
       "      <td>0.952055</td>\n",
       "      <td>0.960861</td>\n",
       "      <td>0.500000</td>\n",
       "      <td>0.000000</td>\n",
       "    </tr>\n",
       "    <tr>\n",
       "      <th>50.0</th>\n",
       "      <th>10.0</th>\n",
       "      <td>0.973907</td>\n",
       "      <td>0.959883</td>\n",
       "      <td>0.499491</td>\n",
       "      <td>0.000000</td>\n",
       "    </tr>\n",
       "  </tbody>\n",
       "</table>\n",
       "<p>792 rows × 4 columns</p>\n",
       "</div>"
      ],
      "text/plain": [
       "                    class       val       auc        f1\n",
       "nestim maxdepth                                        \n",
       "7.0    15.0      0.988911  0.961840  0.560463  0.204082\n",
       "       20.0      0.992172  0.961840  0.560463  0.204082\n",
       "       25.0      0.992172  0.961840  0.560463  0.204082\n",
       "5.0    20.0      0.990541  0.960861  0.559954  0.200000\n",
       "       25.0      0.990541  0.960861  0.559954  0.200000\n",
       "...                   ...       ...       ...       ...\n",
       "47.0   15.0      0.996738  0.957926  0.498473  0.000000\n",
       "       10.0      0.973907  0.959883  0.499491  0.000000\n",
       "       7.0       0.957926  0.960861  0.500000  0.000000\n",
       "       5.0       0.952055  0.960861  0.500000  0.000000\n",
       "50.0   10.0      0.973907  0.959883  0.499491  0.000000\n",
       "\n",
       "[792 rows x 4 columns]"
      ]
     },
     "execution_count": 757,
     "metadata": {},
     "output_type": "execute_result"
    }
   ],
   "source": [
    "df_rf.groupby(['nestim','maxdepth']).max().sort_values(\"f1\",ascending=False)"
   ]
  },
  {
   "cell_type": "markdown",
   "metadata": {},
   "source": [
    "* Compromise between AUC and F1 as well as validation:\n",
    "* n_estimator=7.0, max_depth=15.0\n",
    "* **F1=0.20, AUC=0.56, Validation: 96.1%**\n"
   ]
  },
  {
   "cell_type": "markdown",
   "metadata": {},
   "source": [
    "## Linear Classifier"
   ]
  },
  {
   "cell_type": "code",
   "execution_count": null,
   "metadata": {},
   "outputs": [],
   "source": [
    "def linear_class_predict(X_val):\n",
    "    return linfit.predict_proba(X_val)[:, 1] > threshold_value\n",
    "\n",
    "df_linclf = pd.DataFrame(columns=['C','maxit','th', 'class','val','auc']).reset_index(drop=True)\n",
    "\n",
    "reg_to_be_investigated = [0.001, 0.1, 1.0, 10, 100,1000]\n",
    "max_iter_to_be_investigated = [10, 100, 1000, 10000,1e5]\n",
    "thresholds = np.arange(0,1,0.05)\n",
    "\n",
    "for c in reg_to_be_investigated:\n",
    "    for maxit in max_iter_to_be_investigated:\n",
    "        for th in thresholds:\n",
    "            threshold_value = th\n",
    "            linfit = LogisticRegression(solver='liblinear', C=c, max_iter=maxit)\n",
    "            v=test_classifier(linfit,linear_class_predict,X_train,y_train,X_val,y_val)\n",
    "            df_linclf=df_linclf.append({'C':c,'maxit':maxit,'th':th,'class':v[0],'val':v[1],'auc':v[2]},ignore_index=True)\n"
   ]
  },
  {
   "cell_type": "code",
   "execution_count": 759,
   "metadata": {},
   "outputs": [
    {
     "name": "stderr",
     "output_type": "stream",
     "text": [
      "C:\\Users\\kay_t\\AppData\\Local\\Temp/ipykernel_10476/3580993323.py:2: FutureWarning: Indexing with multiple keys (implicitly converted to a tuple of keys) will be deprecated, use a list instead.\n",
      "  df_linclf.groupby(\"C\")[\"auc\",\"val\"].describe()\n"
     ]
    },
    {
     "data": {
      "text/html": [
       "<div>\n",
       "<style scoped>\n",
       "    .dataframe tbody tr th:only-of-type {\n",
       "        vertical-align: middle;\n",
       "    }\n",
       "\n",
       "    .dataframe tbody tr th {\n",
       "        vertical-align: top;\n",
       "    }\n",
       "\n",
       "    .dataframe thead tr th {\n",
       "        text-align: left;\n",
       "    }\n",
       "\n",
       "    .dataframe thead tr:last-of-type th {\n",
       "        text-align: right;\n",
       "    }\n",
       "</style>\n",
       "<table border=\"1\" class=\"dataframe\">\n",
       "  <thead>\n",
       "    <tr>\n",
       "      <th></th>\n",
       "      <th colspan=\"8\" halign=\"left\">auc</th>\n",
       "      <th colspan=\"8\" halign=\"left\">val</th>\n",
       "    </tr>\n",
       "    <tr>\n",
       "      <th></th>\n",
       "      <th>count</th>\n",
       "      <th>mean</th>\n",
       "      <th>std</th>\n",
       "      <th>min</th>\n",
       "      <th>25%</th>\n",
       "      <th>50%</th>\n",
       "      <th>75%</th>\n",
       "      <th>max</th>\n",
       "      <th>count</th>\n",
       "      <th>mean</th>\n",
       "      <th>std</th>\n",
       "      <th>min</th>\n",
       "      <th>25%</th>\n",
       "      <th>50%</th>\n",
       "      <th>75%</th>\n",
       "      <th>max</th>\n",
       "    </tr>\n",
       "    <tr>\n",
       "      <th>C</th>\n",
       "      <th></th>\n",
       "      <th></th>\n",
       "      <th></th>\n",
       "      <th></th>\n",
       "      <th></th>\n",
       "      <th></th>\n",
       "      <th></th>\n",
       "      <th></th>\n",
       "      <th></th>\n",
       "      <th></th>\n",
       "      <th></th>\n",
       "      <th></th>\n",
       "      <th></th>\n",
       "      <th></th>\n",
       "      <th></th>\n",
       "      <th></th>\n",
       "    </tr>\n",
       "  </thead>\n",
       "  <tbody>\n",
       "    <tr>\n",
       "      <th>0.001</th>\n",
       "      <td>100.0</td>\n",
       "      <td>0.530717</td>\n",
       "      <td>0.028761</td>\n",
       "      <td>0.500000</td>\n",
       "      <td>0.5</td>\n",
       "      <td>0.538798</td>\n",
       "      <td>0.546391</td>\n",
       "      <td>0.606492</td>\n",
       "      <td>100.0</td>\n",
       "      <td>0.880479</td>\n",
       "      <td>0.213056</td>\n",
       "      <td>0.039139</td>\n",
       "      <td>0.932241</td>\n",
       "      <td>0.952055</td>\n",
       "      <td>0.960861</td>\n",
       "      <td>0.960861</td>\n",
       "    </tr>\n",
       "    <tr>\n",
       "      <th>0.100</th>\n",
       "      <td>100.0</td>\n",
       "      <td>0.542605</td>\n",
       "      <td>0.065588</td>\n",
       "      <td>0.498982</td>\n",
       "      <td>0.5</td>\n",
       "      <td>0.509700</td>\n",
       "      <td>0.555881</td>\n",
       "      <td>0.724516</td>\n",
       "      <td>100.0</td>\n",
       "      <td>0.892495</td>\n",
       "      <td>0.204447</td>\n",
       "      <td>0.039139</td>\n",
       "      <td>0.940802</td>\n",
       "      <td>0.958904</td>\n",
       "      <td>0.960861</td>\n",
       "      <td>0.960861</td>\n",
       "    </tr>\n",
       "    <tr>\n",
       "      <th>1.000</th>\n",
       "      <td>100.0</td>\n",
       "      <td>0.548436</td>\n",
       "      <td>0.074078</td>\n",
       "      <td>0.498982</td>\n",
       "      <td>0.5</td>\n",
       "      <td>0.500000</td>\n",
       "      <td>0.569908</td>\n",
       "      <td>0.738900</td>\n",
       "      <td>100.0</td>\n",
       "      <td>0.893102</td>\n",
       "      <td>0.204195</td>\n",
       "      <td>0.039139</td>\n",
       "      <td>0.938356</td>\n",
       "      <td>0.959883</td>\n",
       "      <td>0.960861</td>\n",
       "      <td>0.960861</td>\n",
       "    </tr>\n",
       "    <tr>\n",
       "      <th>10.000</th>\n",
       "      <td>100.0</td>\n",
       "      <td>0.549630</td>\n",
       "      <td>0.075314</td>\n",
       "      <td>0.498982</td>\n",
       "      <td>0.5</td>\n",
       "      <td>0.500000</td>\n",
       "      <td>0.569908</td>\n",
       "      <td>0.736864</td>\n",
       "      <td>100.0</td>\n",
       "      <td>0.893092</td>\n",
       "      <td>0.204091</td>\n",
       "      <td>0.039139</td>\n",
       "      <td>0.939090</td>\n",
       "      <td>0.959883</td>\n",
       "      <td>0.960861</td>\n",
       "      <td>0.960861</td>\n",
       "    </tr>\n",
       "    <tr>\n",
       "      <th>100.000</th>\n",
       "      <td>100.0</td>\n",
       "      <td>0.549651</td>\n",
       "      <td>0.075364</td>\n",
       "      <td>0.498982</td>\n",
       "      <td>0.5</td>\n",
       "      <td>0.500000</td>\n",
       "      <td>0.569908</td>\n",
       "      <td>0.736864</td>\n",
       "      <td>100.0</td>\n",
       "      <td>0.893131</td>\n",
       "      <td>0.204061</td>\n",
       "      <td>0.039139</td>\n",
       "      <td>0.939090</td>\n",
       "      <td>0.959883</td>\n",
       "      <td>0.960861</td>\n",
       "      <td>0.960861</td>\n",
       "    </tr>\n",
       "    <tr>\n",
       "      <th>1000.000</th>\n",
       "      <td>100.0</td>\n",
       "      <td>0.549671</td>\n",
       "      <td>0.075414</td>\n",
       "      <td>0.498982</td>\n",
       "      <td>0.5</td>\n",
       "      <td>0.500000</td>\n",
       "      <td>0.569908</td>\n",
       "      <td>0.736864</td>\n",
       "      <td>100.0</td>\n",
       "      <td>0.893170</td>\n",
       "      <td>0.204032</td>\n",
       "      <td>0.039139</td>\n",
       "      <td>0.939090</td>\n",
       "      <td>0.959883</td>\n",
       "      <td>0.960861</td>\n",
       "      <td>0.960861</td>\n",
       "    </tr>\n",
       "  </tbody>\n",
       "</table>\n",
       "</div>"
      ],
      "text/plain": [
       "            auc                                                         \\\n",
       "          count      mean       std       min  25%       50%       75%   \n",
       "C                                                                        \n",
       "0.001     100.0  0.530717  0.028761  0.500000  0.5  0.538798  0.546391   \n",
       "0.100     100.0  0.542605  0.065588  0.498982  0.5  0.509700  0.555881   \n",
       "1.000     100.0  0.548436  0.074078  0.498982  0.5  0.500000  0.569908   \n",
       "10.000    100.0  0.549630  0.075314  0.498982  0.5  0.500000  0.569908   \n",
       "100.000   100.0  0.549651  0.075364  0.498982  0.5  0.500000  0.569908   \n",
       "1000.000  100.0  0.549671  0.075414  0.498982  0.5  0.500000  0.569908   \n",
       "\n",
       "                      val                                                    \\\n",
       "               max  count      mean       std       min       25%       50%   \n",
       "C                                                                             \n",
       "0.001     0.606492  100.0  0.880479  0.213056  0.039139  0.932241  0.952055   \n",
       "0.100     0.724516  100.0  0.892495  0.204447  0.039139  0.940802  0.958904   \n",
       "1.000     0.738900  100.0  0.893102  0.204195  0.039139  0.938356  0.959883   \n",
       "10.000    0.736864  100.0  0.893092  0.204091  0.039139  0.939090  0.959883   \n",
       "100.000   0.736864  100.0  0.893131  0.204061  0.039139  0.939090  0.959883   \n",
       "1000.000  0.736864  100.0  0.893170  0.204032  0.039139  0.939090  0.959883   \n",
       "\n",
       "                              \n",
       "               75%       max  \n",
       "C                             \n",
       "0.001     0.960861  0.960861  \n",
       "0.100     0.960861  0.960861  \n",
       "1.000     0.960861  0.960861  \n",
       "10.000    0.960861  0.960861  \n",
       "100.000   0.960861  0.960861  \n",
       "1000.000  0.960861  0.960861  "
      ]
     },
     "execution_count": 759,
     "metadata": {},
     "output_type": "execute_result"
    }
   ],
   "source": [
    "df_linclf.reset_index(drop=True)\n",
    "df_linclf.groupby(\"C\")[\"auc\",\"val\"].describe()"
   ]
  },
  {
   "cell_type": "markdown",
   "metadata": {},
   "source": [
    "Best threshold values around 0-0.15"
   ]
  },
  {
   "cell_type": "code",
   "execution_count": null,
   "metadata": {},
   "outputs": [],
   "source": [
    "def linear_class_predict(X_val):\n",
    "    return linfit.predict_proba(X_val)[:, 1] > threshold_value\n",
    "\n",
    "df_linclf = pd.DataFrame(columns=['C','maxit','th', 'class','val','auc']).reset_index(drop=True)\n",
    "\n",
    "reg_to_be_investigated = [0.001, 0.1, 1.0, 10, 100,1000]\n",
    "max_iter_to_be_investigated = [10, 100, 1000, 10000,1e5]\n",
    "thresholds = np.arange(0,0.2,0.01)\n",
    "\n",
    "for c in reg_to_be_investigated:\n",
    "    for maxit in max_iter_to_be_investigated:\n",
    "        for th in thresholds:\n",
    "            threshold_value = th\n",
    "            linfit = LogisticRegression(solver='liblinear', C=c, max_iter=maxit)\n",
    "            v=test_classifier(linfit,linear_class_predict,X_train,y_train,X_val,y_val)\n",
    "            df_linclf=df_linclf.append({'C':c,'maxit':maxit,'th':th,'class':v[0],'val':v[1],'auc':v[2]},ignore_index=True)\n"
   ]
  },
  {
   "cell_type": "code",
   "execution_count": 761,
   "metadata": {},
   "outputs": [
    {
     "name": "stderr",
     "output_type": "stream",
     "text": [
      "C:\\Users\\kay_t\\AppData\\Local\\Temp/ipykernel_10476/3481619506.py:2: FutureWarning: Indexing with multiple keys (implicitly converted to a tuple of keys) will be deprecated, use a list instead.\n",
      "  df_linclf.groupby(\"th\")[\"auc\",\"val\"].describe()\n"
     ]
    },
    {
     "data": {
      "text/html": [
       "<div>\n",
       "<style scoped>\n",
       "    .dataframe tbody tr th:only-of-type {\n",
       "        vertical-align: middle;\n",
       "    }\n",
       "\n",
       "    .dataframe tbody tr th {\n",
       "        vertical-align: top;\n",
       "    }\n",
       "\n",
       "    .dataframe thead tr th {\n",
       "        text-align: left;\n",
       "    }\n",
       "\n",
       "    .dataframe thead tr:last-of-type th {\n",
       "        text-align: right;\n",
       "    }\n",
       "</style>\n",
       "<table border=\"1\" class=\"dataframe\">\n",
       "  <thead>\n",
       "    <tr>\n",
       "      <th></th>\n",
       "      <th colspan=\"8\" halign=\"left\">auc</th>\n",
       "      <th colspan=\"8\" halign=\"left\">val</th>\n",
       "    </tr>\n",
       "    <tr>\n",
       "      <th></th>\n",
       "      <th>count</th>\n",
       "      <th>mean</th>\n",
       "      <th>std</th>\n",
       "      <th>min</th>\n",
       "      <th>25%</th>\n",
       "      <th>50%</th>\n",
       "      <th>75%</th>\n",
       "      <th>max</th>\n",
       "      <th>count</th>\n",
       "      <th>mean</th>\n",
       "      <th>std</th>\n",
       "      <th>min</th>\n",
       "      <th>25%</th>\n",
       "      <th>50%</th>\n",
       "      <th>75%</th>\n",
       "      <th>max</th>\n",
       "    </tr>\n",
       "    <tr>\n",
       "      <th>th</th>\n",
       "      <th></th>\n",
       "      <th></th>\n",
       "      <th></th>\n",
       "      <th></th>\n",
       "      <th></th>\n",
       "      <th></th>\n",
       "      <th></th>\n",
       "      <th></th>\n",
       "      <th></th>\n",
       "      <th></th>\n",
       "      <th></th>\n",
       "      <th></th>\n",
       "      <th></th>\n",
       "      <th></th>\n",
       "      <th></th>\n",
       "      <th></th>\n",
       "    </tr>\n",
       "  </thead>\n",
       "  <tbody>\n",
       "    <tr>\n",
       "      <th>0.00</th>\n",
       "      <td>30.0</td>\n",
       "      <td>0.500000</td>\n",
       "      <td>0.000000</td>\n",
       "      <td>0.500000</td>\n",
       "      <td>0.500000</td>\n",
       "      <td>0.500000</td>\n",
       "      <td>0.500000</td>\n",
       "      <td>0.500000</td>\n",
       "      <td>30.0</td>\n",
       "      <td>0.039139</td>\n",
       "      <td>0.000000</td>\n",
       "      <td>0.039139</td>\n",
       "      <td>0.039139</td>\n",
       "      <td>0.039139</td>\n",
       "      <td>0.039139</td>\n",
       "      <td>0.039139</td>\n",
       "    </tr>\n",
       "    <tr>\n",
       "      <th>0.01</th>\n",
       "      <td>30.0</td>\n",
       "      <td>0.615393</td>\n",
       "      <td>0.085841</td>\n",
       "      <td>0.494068</td>\n",
       "      <td>0.513238</td>\n",
       "      <td>0.677928</td>\n",
       "      <td>0.692821</td>\n",
       "      <td>0.693712</td>\n",
       "      <td>30.0</td>\n",
       "      <td>0.284703</td>\n",
       "      <td>0.160549</td>\n",
       "      <td>0.064579</td>\n",
       "      <td>0.096869</td>\n",
       "      <td>0.404110</td>\n",
       "      <td>0.432730</td>\n",
       "      <td>0.434442</td>\n",
       "    </tr>\n",
       "    <tr>\n",
       "      <th>0.02</th>\n",
       "      <td>30.0</td>\n",
       "      <td>0.670082</td>\n",
       "      <td>0.106116</td>\n",
       "      <td>0.467948</td>\n",
       "      <td>0.604888</td>\n",
       "      <td>0.741522</td>\n",
       "      <td>0.750178</td>\n",
       "      <td>0.750178</td>\n",
       "      <td>30.0</td>\n",
       "      <td>0.446641</td>\n",
       "      <td>0.173535</td>\n",
       "      <td>0.184932</td>\n",
       "      <td>0.240705</td>\n",
       "      <td>0.572407</td>\n",
       "      <td>0.589041</td>\n",
       "      <td>0.589041</td>\n",
       "    </tr>\n",
       "    <tr>\n",
       "      <th>0.03</th>\n",
       "      <td>30.0</td>\n",
       "      <td>0.670650</td>\n",
       "      <td>0.088962</td>\n",
       "      <td>0.483121</td>\n",
       "      <td>0.657968</td>\n",
       "      <td>0.713875</td>\n",
       "      <td>0.720195</td>\n",
       "      <td>0.740733</td>\n",
       "      <td>30.0</td>\n",
       "      <td>0.556034</td>\n",
       "      <td>0.134812</td>\n",
       "      <td>0.306262</td>\n",
       "      <td>0.457926</td>\n",
       "      <td>0.650685</td>\n",
       "      <td>0.657534</td>\n",
       "      <td>0.657534</td>\n",
       "    </tr>\n",
       "    <tr>\n",
       "      <th>0.04</th>\n",
       "      <td>30.0</td>\n",
       "      <td>0.685720</td>\n",
       "      <td>0.082685</td>\n",
       "      <td>0.505932</td>\n",
       "      <td>0.696843</td>\n",
       "      <td>0.727851</td>\n",
       "      <td>0.727851</td>\n",
       "      <td>0.735769</td>\n",
       "      <td>30.0</td>\n",
       "      <td>0.639530</td>\n",
       "      <td>0.097367</td>\n",
       "      <td>0.442270</td>\n",
       "      <td>0.601761</td>\n",
       "      <td>0.699609</td>\n",
       "      <td>0.707436</td>\n",
       "      <td>0.707436</td>\n",
       "    </tr>\n",
       "    <tr>\n",
       "      <th>0.05</th>\n",
       "      <td>30.0</td>\n",
       "      <td>0.694866</td>\n",
       "      <td>0.070617</td>\n",
       "      <td>0.541013</td>\n",
       "      <td>0.706186</td>\n",
       "      <td>0.730117</td>\n",
       "      <td>0.732536</td>\n",
       "      <td>0.733172</td>\n",
       "      <td>30.0</td>\n",
       "      <td>0.697815</td>\n",
       "      <td>0.067114</td>\n",
       "      <td>0.555773</td>\n",
       "      <td>0.688845</td>\n",
       "      <td>0.734834</td>\n",
       "      <td>0.739481</td>\n",
       "      <td>0.740705</td>\n",
       "    </tr>\n",
       "    <tr>\n",
       "      <th>0.06</th>\n",
       "      <td>30.0</td>\n",
       "      <td>0.715368</td>\n",
       "      <td>0.064235</td>\n",
       "      <td>0.577902</td>\n",
       "      <td>0.717464</td>\n",
       "      <td>0.751502</td>\n",
       "      <td>0.754557</td>\n",
       "      <td>0.754557</td>\n",
       "      <td>30.0</td>\n",
       "      <td>0.752577</td>\n",
       "      <td>0.047729</td>\n",
       "      <td>0.649706</td>\n",
       "      <td>0.756605</td>\n",
       "      <td>0.775930</td>\n",
       "      <td>0.781800</td>\n",
       "      <td>0.781800</td>\n",
       "    </tr>\n",
       "    <tr>\n",
       "      <th>0.07</th>\n",
       "      <td>30.0</td>\n",
       "      <td>0.709480</td>\n",
       "      <td>0.070439</td>\n",
       "      <td>0.566828</td>\n",
       "      <td>0.679786</td>\n",
       "      <td>0.754277</td>\n",
       "      <td>0.756186</td>\n",
       "      <td>0.756314</td>\n",
       "      <td>30.0</td>\n",
       "      <td>0.794260</td>\n",
       "      <td>0.023287</td>\n",
       "      <td>0.743640</td>\n",
       "      <td>0.799413</td>\n",
       "      <td>0.804305</td>\n",
       "      <td>0.807975</td>\n",
       "      <td>0.808219</td>\n",
       "    </tr>\n",
       "    <tr>\n",
       "      <th>0.08</th>\n",
       "      <td>30.0</td>\n",
       "      <td>0.707734</td>\n",
       "      <td>0.056715</td>\n",
       "      <td>0.598396</td>\n",
       "      <td>0.673116</td>\n",
       "      <td>0.744043</td>\n",
       "      <td>0.744934</td>\n",
       "      <td>0.745061</td>\n",
       "      <td>30.0</td>\n",
       "      <td>0.827006</td>\n",
       "      <td>0.010477</td>\n",
       "      <td>0.804305</td>\n",
       "      <td>0.827789</td>\n",
       "      <td>0.831703</td>\n",
       "      <td>0.832681</td>\n",
       "      <td>0.835616</td>\n",
       "    </tr>\n",
       "    <tr>\n",
       "      <th>0.09</th>\n",
       "      <td>30.0</td>\n",
       "      <td>0.703585</td>\n",
       "      <td>0.057560</td>\n",
       "      <td>0.598345</td>\n",
       "      <td>0.656772</td>\n",
       "      <td>0.741217</td>\n",
       "      <td>0.741726</td>\n",
       "      <td>0.753208</td>\n",
       "      <td>30.0</td>\n",
       "      <td>0.848989</td>\n",
       "      <td>0.000938</td>\n",
       "      <td>0.847358</td>\n",
       "      <td>0.848337</td>\n",
       "      <td>0.849315</td>\n",
       "      <td>0.849315</td>\n",
       "      <td>0.850294</td>\n",
       "    </tr>\n",
       "    <tr>\n",
       "      <th>0.10</th>\n",
       "      <td>30.0</td>\n",
       "      <td>0.697699</td>\n",
       "      <td>0.051122</td>\n",
       "      <td>0.606492</td>\n",
       "      <td>0.666955</td>\n",
       "      <td>0.736864</td>\n",
       "      <td>0.736864</td>\n",
       "      <td>0.738900</td>\n",
       "      <td>30.0</td>\n",
       "      <td>0.865329</td>\n",
       "      <td>0.002031</td>\n",
       "      <td>0.863014</td>\n",
       "      <td>0.863014</td>\n",
       "      <td>0.865949</td>\n",
       "      <td>0.866928</td>\n",
       "      <td>0.868885</td>\n",
       "    </tr>\n",
       "    <tr>\n",
       "      <th>0.11</th>\n",
       "      <td>30.0</td>\n",
       "      <td>0.679792</td>\n",
       "      <td>0.052608</td>\n",
       "      <td>0.601120</td>\n",
       "      <td>0.617693</td>\n",
       "      <td>0.718992</td>\n",
       "      <td>0.719501</td>\n",
       "      <td>0.732510</td>\n",
       "      <td>30.0</td>\n",
       "      <td>0.878539</td>\n",
       "      <td>0.004189</td>\n",
       "      <td>0.874755</td>\n",
       "      <td>0.875734</td>\n",
       "      <td>0.877691</td>\n",
       "      <td>0.878669</td>\n",
       "      <td>0.887476</td>\n",
       "    </tr>\n",
       "    <tr>\n",
       "      <th>0.12</th>\n",
       "      <td>30.0</td>\n",
       "      <td>0.664933</td>\n",
       "      <td>0.046241</td>\n",
       "      <td>0.596767</td>\n",
       "      <td>0.610285</td>\n",
       "      <td>0.699593</td>\n",
       "      <td>0.699593</td>\n",
       "      <td>0.713620</td>\n",
       "      <td>30.0</td>\n",
       "      <td>0.888389</td>\n",
       "      <td>0.005041</td>\n",
       "      <td>0.883562</td>\n",
       "      <td>0.883562</td>\n",
       "      <td>0.887476</td>\n",
       "      <td>0.893346</td>\n",
       "      <td>0.897260</td>\n",
       "    </tr>\n",
       "    <tr>\n",
       "      <th>0.13</th>\n",
       "      <td>30.0</td>\n",
       "      <td>0.644872</td>\n",
       "      <td>0.047709</td>\n",
       "      <td>0.564358</td>\n",
       "      <td>0.600840</td>\n",
       "      <td>0.680193</td>\n",
       "      <td>0.680575</td>\n",
       "      <td>0.691675</td>\n",
       "      <td>30.0</td>\n",
       "      <td>0.895923</td>\n",
       "      <td>0.003985</td>\n",
       "      <td>0.891389</td>\n",
       "      <td>0.892368</td>\n",
       "      <td>0.893346</td>\n",
       "      <td>0.900196</td>\n",
       "      <td>0.901174</td>\n",
       "    </tr>\n",
       "    <tr>\n",
       "      <th>0.14</th>\n",
       "      <td>30.0</td>\n",
       "      <td>0.640269</td>\n",
       "      <td>0.041824</td>\n",
       "      <td>0.567923</td>\n",
       "      <td>0.604404</td>\n",
       "      <td>0.673803</td>\n",
       "      <td>0.674185</td>\n",
       "      <td>0.674313</td>\n",
       "      <td>30.0</td>\n",
       "      <td>0.905512</td>\n",
       "      <td>0.002265</td>\n",
       "      <td>0.903131</td>\n",
       "      <td>0.903376</td>\n",
       "      <td>0.904110</td>\n",
       "      <td>0.907045</td>\n",
       "      <td>0.911937</td>\n",
       "    </tr>\n",
       "    <tr>\n",
       "      <th>0.15</th>\n",
       "      <td>30.0</td>\n",
       "      <td>0.641203</td>\n",
       "      <td>0.041524</td>\n",
       "      <td>0.571996</td>\n",
       "      <td>0.608987</td>\n",
       "      <td>0.666395</td>\n",
       "      <td>0.678895</td>\n",
       "      <td>0.678895</td>\n",
       "      <td>30.0</td>\n",
       "      <td>0.914220</td>\n",
       "      <td>0.001841</td>\n",
       "      <td>0.911937</td>\n",
       "      <td>0.912916</td>\n",
       "      <td>0.912916</td>\n",
       "      <td>0.916341</td>\n",
       "      <td>0.916830</td>\n",
       "    </tr>\n",
       "    <tr>\n",
       "      <th>0.16</th>\n",
       "      <td>30.0</td>\n",
       "      <td>0.631334</td>\n",
       "      <td>0.044433</td>\n",
       "      <td>0.562042</td>\n",
       "      <td>0.586023</td>\n",
       "      <td>0.668941</td>\n",
       "      <td>0.668941</td>\n",
       "      <td>0.669450</td>\n",
       "      <td>30.0</td>\n",
       "      <td>0.918297</td>\n",
       "      <td>0.001640</td>\n",
       "      <td>0.916830</td>\n",
       "      <td>0.916830</td>\n",
       "      <td>0.917808</td>\n",
       "      <td>0.918787</td>\n",
       "      <td>0.921722</td>\n",
       "    </tr>\n",
       "    <tr>\n",
       "      <th>0.17</th>\n",
       "      <td>30.0</td>\n",
       "      <td>0.626678</td>\n",
       "      <td>0.048173</td>\n",
       "      <td>0.551069</td>\n",
       "      <td>0.588060</td>\n",
       "      <td>0.660514</td>\n",
       "      <td>0.671487</td>\n",
       "      <td>0.671487</td>\n",
       "      <td>30.0</td>\n",
       "      <td>0.922407</td>\n",
       "      <td>0.001289</td>\n",
       "      <td>0.920744</td>\n",
       "      <td>0.921722</td>\n",
       "      <td>0.921722</td>\n",
       "      <td>0.923679</td>\n",
       "      <td>0.924658</td>\n",
       "    </tr>\n",
       "    <tr>\n",
       "      <th>0.18</th>\n",
       "      <td>30.0</td>\n",
       "      <td>0.620092</td>\n",
       "      <td>0.041299</td>\n",
       "      <td>0.552597</td>\n",
       "      <td>0.590097</td>\n",
       "      <td>0.637551</td>\n",
       "      <td>0.660514</td>\n",
       "      <td>0.661023</td>\n",
       "      <td>30.0</td>\n",
       "      <td>0.925114</td>\n",
       "      <td>0.001536</td>\n",
       "      <td>0.923679</td>\n",
       "      <td>0.923679</td>\n",
       "      <td>0.924658</td>\n",
       "      <td>0.926614</td>\n",
       "      <td>0.927593</td>\n",
       "    </tr>\n",
       "    <tr>\n",
       "      <th>0.19</th>\n",
       "      <td>30.0</td>\n",
       "      <td>0.615972</td>\n",
       "      <td>0.038443</td>\n",
       "      <td>0.553106</td>\n",
       "      <td>0.592133</td>\n",
       "      <td>0.640606</td>\n",
       "      <td>0.651960</td>\n",
       "      <td>0.652088</td>\n",
       "      <td>30.0</td>\n",
       "      <td>0.929485</td>\n",
       "      <td>0.002283</td>\n",
       "      <td>0.924658</td>\n",
       "      <td>0.929550</td>\n",
       "      <td>0.930528</td>\n",
       "      <td>0.930528</td>\n",
       "      <td>0.931507</td>\n",
       "    </tr>\n",
       "  </tbody>\n",
       "</table>\n",
       "</div>"
      ],
      "text/plain": [
       "       auc                                                              \\\n",
       "     count      mean       std       min       25%       50%       75%   \n",
       "th                                                                       \n",
       "0.00  30.0  0.500000  0.000000  0.500000  0.500000  0.500000  0.500000   \n",
       "0.01  30.0  0.615393  0.085841  0.494068  0.513238  0.677928  0.692821   \n",
       "0.02  30.0  0.670082  0.106116  0.467948  0.604888  0.741522  0.750178   \n",
       "0.03  30.0  0.670650  0.088962  0.483121  0.657968  0.713875  0.720195   \n",
       "0.04  30.0  0.685720  0.082685  0.505932  0.696843  0.727851  0.727851   \n",
       "0.05  30.0  0.694866  0.070617  0.541013  0.706186  0.730117  0.732536   \n",
       "0.06  30.0  0.715368  0.064235  0.577902  0.717464  0.751502  0.754557   \n",
       "0.07  30.0  0.709480  0.070439  0.566828  0.679786  0.754277  0.756186   \n",
       "0.08  30.0  0.707734  0.056715  0.598396  0.673116  0.744043  0.744934   \n",
       "0.09  30.0  0.703585  0.057560  0.598345  0.656772  0.741217  0.741726   \n",
       "0.10  30.0  0.697699  0.051122  0.606492  0.666955  0.736864  0.736864   \n",
       "0.11  30.0  0.679792  0.052608  0.601120  0.617693  0.718992  0.719501   \n",
       "0.12  30.0  0.664933  0.046241  0.596767  0.610285  0.699593  0.699593   \n",
       "0.13  30.0  0.644872  0.047709  0.564358  0.600840  0.680193  0.680575   \n",
       "0.14  30.0  0.640269  0.041824  0.567923  0.604404  0.673803  0.674185   \n",
       "0.15  30.0  0.641203  0.041524  0.571996  0.608987  0.666395  0.678895   \n",
       "0.16  30.0  0.631334  0.044433  0.562042  0.586023  0.668941  0.668941   \n",
       "0.17  30.0  0.626678  0.048173  0.551069  0.588060  0.660514  0.671487   \n",
       "0.18  30.0  0.620092  0.041299  0.552597  0.590097  0.637551  0.660514   \n",
       "0.19  30.0  0.615972  0.038443  0.553106  0.592133  0.640606  0.651960   \n",
       "\n",
       "                 val                                                    \\\n",
       "           max count      mean       std       min       25%       50%   \n",
       "th                                                                       \n",
       "0.00  0.500000  30.0  0.039139  0.000000  0.039139  0.039139  0.039139   \n",
       "0.01  0.693712  30.0  0.284703  0.160549  0.064579  0.096869  0.404110   \n",
       "0.02  0.750178  30.0  0.446641  0.173535  0.184932  0.240705  0.572407   \n",
       "0.03  0.740733  30.0  0.556034  0.134812  0.306262  0.457926  0.650685   \n",
       "0.04  0.735769  30.0  0.639530  0.097367  0.442270  0.601761  0.699609   \n",
       "0.05  0.733172  30.0  0.697815  0.067114  0.555773  0.688845  0.734834   \n",
       "0.06  0.754557  30.0  0.752577  0.047729  0.649706  0.756605  0.775930   \n",
       "0.07  0.756314  30.0  0.794260  0.023287  0.743640  0.799413  0.804305   \n",
       "0.08  0.745061  30.0  0.827006  0.010477  0.804305  0.827789  0.831703   \n",
       "0.09  0.753208  30.0  0.848989  0.000938  0.847358  0.848337  0.849315   \n",
       "0.10  0.738900  30.0  0.865329  0.002031  0.863014  0.863014  0.865949   \n",
       "0.11  0.732510  30.0  0.878539  0.004189  0.874755  0.875734  0.877691   \n",
       "0.12  0.713620  30.0  0.888389  0.005041  0.883562  0.883562  0.887476   \n",
       "0.13  0.691675  30.0  0.895923  0.003985  0.891389  0.892368  0.893346   \n",
       "0.14  0.674313  30.0  0.905512  0.002265  0.903131  0.903376  0.904110   \n",
       "0.15  0.678895  30.0  0.914220  0.001841  0.911937  0.912916  0.912916   \n",
       "0.16  0.669450  30.0  0.918297  0.001640  0.916830  0.916830  0.917808   \n",
       "0.17  0.671487  30.0  0.922407  0.001289  0.920744  0.921722  0.921722   \n",
       "0.18  0.661023  30.0  0.925114  0.001536  0.923679  0.923679  0.924658   \n",
       "0.19  0.652088  30.0  0.929485  0.002283  0.924658  0.929550  0.930528   \n",
       "\n",
       "                          \n",
       "           75%       max  \n",
       "th                        \n",
       "0.00  0.039139  0.039139  \n",
       "0.01  0.432730  0.434442  \n",
       "0.02  0.589041  0.589041  \n",
       "0.03  0.657534  0.657534  \n",
       "0.04  0.707436  0.707436  \n",
       "0.05  0.739481  0.740705  \n",
       "0.06  0.781800  0.781800  \n",
       "0.07  0.807975  0.808219  \n",
       "0.08  0.832681  0.835616  \n",
       "0.09  0.849315  0.850294  \n",
       "0.10  0.866928  0.868885  \n",
       "0.11  0.878669  0.887476  \n",
       "0.12  0.893346  0.897260  \n",
       "0.13  0.900196  0.901174  \n",
       "0.14  0.907045  0.911937  \n",
       "0.15  0.916341  0.916830  \n",
       "0.16  0.918787  0.921722  \n",
       "0.17  0.923679  0.924658  \n",
       "0.18  0.926614  0.927593  \n",
       "0.19  0.930528  0.931507  "
      ]
     },
     "execution_count": 761,
     "metadata": {},
     "output_type": "execute_result"
    }
   ],
   "source": [
    "df_linclf.reset_index(drop=True)\n",
    "df_linclf.groupby(\"th\")[\"auc\",\"val\"].describe()"
   ]
  },
  {
   "cell_type": "markdown",
   "metadata": {},
   "source": [
    "* A compromise between AUC and validation at threshold: 0.07"
   ]
  },
  {
   "cell_type": "code",
   "execution_count": 767,
   "metadata": {},
   "outputs": [
    {
     "data": {
      "image/png": "[encoded data removed]",
      "text/plain": [
       "<Figure size 864x1080 with 2 Axes>"
      ]
     },
     "metadata": {
      "needs_background": "light"
     },
     "output_type": "display_data"
    },
    {
     "data": {
      "image/png": "[encoded data removed]",
      "text/plain": [
       "<Figure size 864x1080 with 2 Axes>"
      ]
     },
     "metadata": {
      "needs_background": "light"
     },
     "output_type": "display_data"
    }
   ],
   "source": [
    "df_linclf_th007 = df_linclf[df_linclf[\"th\"]==0.07]\n",
    "df_linclf_th007_pivot = df_linclf_th007.pivot(index='C', columns=['maxit'], values=['auc'])\n",
    "f, ax = plt.subplots(figsize=(12, 15))\n",
    "plt.title(\"AUC\")\n",
    "sns.heatmap(df_linclf_th007_pivot, annot=True, fmt=\".5f\")\n",
    "df_linclf_th007_pivot = df_linclf_th007.pivot(index='C', columns=['maxit'], values=['val'])\n",
    "plt.show()\n",
    "f, ax = plt.subplots(figsize=(12, 15))\n",
    "plt.title(\"Validation\")\n",
    "sns.heatmap(df_linclf_th007_pivot, annot=True, fmt=\".5f\")\n",
    "plt.show()\n",
    "#f, ax = plt.subplots(figsize=(12, 15))\n",
    "#plt.title(\"F1\")"
   ]
  },
  {
   "cell_type": "code",
   "execution_count": 763,
   "metadata": {},
   "outputs": [
    {
     "data": {
      "text/plain": [
       "(0.8183300717547293, 0.8072407045009785, 0.755804480651731, 0.2213438735177866)"
      ]
     },
     "execution_count": 763,
     "metadata": {},
     "output_type": "execute_result"
    }
   ],
   "source": [
    "threshold_value = 0.07\n",
    "linfit = LogisticRegression(solver='liblinear', C=10, max_iter=100)\n",
    "v=test_classifier(linfit,linear_class_predict,X_train,y_train,X_val,y_val)\n",
    "v"
   ]
  },
  {
   "cell_type": "markdown",
   "metadata": {},
   "source": [
    "**starting from max_iteration = 100 and C = 10, threshold = 0.07, validation is around 80%, AUC is around 0.75, F1=0.22**"
   ]
  },
  {
   "cell_type": "markdown",
   "metadata": {},
   "source": [
    "## Model Selection"
   ]
  },
  {
   "cell_type": "code",
   "execution_count": 764,
   "metadata": {},
   "outputs": [
    {
     "data": {
      "text/html": [
       "<div>\n",
       "<style scoped>\n",
       "    .dataframe tbody tr th:only-of-type {\n",
       "        vertical-align: middle;\n",
       "    }\n",
       "\n",
       "    .dataframe tbody tr th {\n",
       "        vertical-align: top;\n",
       "    }\n",
       "\n",
       "    .dataframe thead th {\n",
       "        text-align: right;\n",
       "    }\n",
       "</style>\n",
       "<table border=\"1\" class=\"dataframe\">\n",
       "  <thead>\n",
       "    <tr style=\"text-align: right;\">\n",
       "      <th></th>\n",
       "      <th>Method</th>\n",
       "      <th>Validation</th>\n",
       "      <th>AUC</th>\n",
       "      <th>F1</th>\n",
       "    </tr>\n",
       "  </thead>\n",
       "  <tbody>\n",
       "    <tr>\n",
       "      <th>0</th>\n",
       "      <td>Decision Tree / max_depth=6</td>\n",
       "      <td>0.95</td>\n",
       "      <td>0.59</td>\n",
       "      <td>0.26</td>\n",
       "    </tr>\n",
       "    <tr>\n",
       "      <th>1</th>\n",
       "      <td>Random Forest / max_depth=15, n_estimator = 7</td>\n",
       "      <td>0.96</td>\n",
       "      <td>0.56</td>\n",
       "      <td>0.20</td>\n",
       "    </tr>\n",
       "    <tr>\n",
       "      <th>2</th>\n",
       "      <td>Linear / max_iteration = 100, C=10, threshold ...</td>\n",
       "      <td>0.80</td>\n",
       "      <td>0.75</td>\n",
       "      <td>0.22</td>\n",
       "    </tr>\n",
       "  </tbody>\n",
       "</table>\n",
       "</div>"
      ],
      "text/plain": [
       "                                              Method  Validation   AUC    F1\n",
       "0                       Decision Tree / max_depth=6         0.95  0.59  0.26\n",
       "1     Random Forest / max_depth=15, n_estimator = 7         0.96  0.56  0.20\n",
       "2  Linear / max_iteration = 100, C=10, threshold ...        0.80  0.75  0.22"
      ]
     },
     "execution_count": 764,
     "metadata": {},
     "output_type": "execute_result"
    }
   ],
   "source": [
    "model_selection_param = pd.DataFrame(columns = [\"Method\",\"Validation\",\"AUC\",\"F1\"])\n",
    "model_selection_param=model_selection_param.append(dict(zip([\"Method\",\"Validation\",\"AUC\",\"F1\"] , [\"Decision Tree / max_depth=6 \",0.95,0.59,0.26])),ignore_index=True)\n",
    "model_selection_param=model_selection_param.append(dict(zip([\"Method\",\"Validation\",\"AUC\",\"F1\"] , [\"Random Forest / max_depth=15, n_estimator = 7 \",0.96,0.56,0.20])),ignore_index=True)\n",
    "model_selection_param=model_selection_param.append(dict(zip([\"Method\",\"Validation\",\"AUC\",\"F1\"] , [\"Linear / max_iteration = 100, C=10, threshold = 0.07, n_estimator = 7 \",0.8,0.75,0.22])),ignore_index=True)\n",
    "model_selection_param\n",
    "#fig = plt.figure(figsize=(10,10))\n",
    "#ax = fig.add_subplot(111, projection=\"polar\")\n",
    "\n",
    "# theta has 5 different angles, and the first one repeated\n",
    "#theta = np.arange(3+1) / 3.0 * 2 * np.pi\n",
    "#for k in range(3):\n",
    "#    ax.plot(theta,np.hstack((model_selection_param.iloc[k,1:],model_selection_param.iloc[k,1])), color=\"C\"+str(k+1), marker=\"o\", label=model_selection_param.iloc[k,0])\n",
    "#    ax.fill(theta, np.hstack((model_selection_param.iloc[k,1:],model_selection_param.iloc[k,1])), 'green', alpha=0.1)\n"
   ]
  },
  {
   "cell_type": "markdown",
   "metadata": {},
   "source": [
    "* **Decision Tree / max_depth=6\tis chosen, as a compromise between classification speed, and overall performance**"
   ]
  },
  {
   "cell_type": "markdown",
   "metadata": {},
   "source": [
    "# Export pickle"
   ]
  },
  {
   "cell_type": "code",
   "execution_count": 869,
   "metadata": {},
   "outputs": [],
   "source": [
    "import pickle\n",
    "\n",
    "dt = DecisionTreeClassifier(max_depth=6)\n",
    "v=test_classifier(dt,dt.predict,X_train,y_train,X_val,y_val)\n",
    "with open(\"model.bin\", 'wb') as f:  pickle.dump(dt,f)\n",
    "with open(\"dv.bin\", 'wb') as f: pickle.dump(dv,f)"
   ]
  },
  {
   "cell_type": "markdown",
   "metadata": {},
   "source": [
    "## Testing Flask app"
   ]
  },
  {
   "cell_type": "code",
   "execution_count": 898,
   "metadata": {},
   "outputs": [
    {
     "name": "stdout",
     "output_type": "stream",
     "text": [
      "Stroke prediction for person 1 : 1\n",
      "Stroke prediction for person 2 : 0\n"
     ]
    }
   ],
   "source": [
    "# client.py: get data of the new user\n",
    "import requests\n",
    "import json\n",
    "\n",
    "test_1 = {'gender': 'Female',\n",
    " 'age': 34.0,\n",
    " 'hypertension': 'No',\n",
    " 'heart_disease': 'No',\n",
    " 'ever_married': 'No',\n",
    " 'work_type': 'Govt_job',\n",
    " 'residence_type': 'Urban',\n",
    " 'avg_glucose_level': 231.5,\n",
    " 'bmi': 57.4,\n",
    " 'smoking_status': 'never smoked'}\n",
    "\n",
    "\n",
    "test_2 = {'gender': 'Male',\n",
    " 'age': 39.0,\n",
    " 'hypertension': 'Yes',\n",
    " 'heart_disease': 'No',\n",
    " 'ever_married': 'No',\n",
    " 'work_type': 'Govt_job',\n",
    " 'residence_type': 'Rural',\n",
    " 'avg_glucose_level': 118.5,\n",
    " 'bmi': 63,\n",
    " 'smoking_status': 'never smoked'}\n",
    "\n",
    "\n",
    "\n",
    "url = \"http://127.0.0.1:9696/predict\"\n",
    "results = requests.post(url, json=test_1).json()\n",
    "print(\"Stroke prediction for person 1 : %d\" % results[\"stroke_predict\"])\n",
    "results = requests.post(url, json=test_2).json()\n",
    "print(\"Stroke prediction for person 2 : %d\" % results[\"stroke_predict\"])"
   ]
  },
  {
   "cell_type": "markdown",
   "metadata": {},
   "source": [
    "# Test on Public cloud (thanks to PythonAnywhere)"
   ]
  },
  {
   "cell_type": "code",
   "execution_count": 899,
   "metadata": {},
   "outputs": [
    {
     "name": "stdout",
     "output_type": "stream",
     "text": [
      "Stroke prediction for person 1 : 1\n",
      "Stroke prediction for person 2 : 0\n"
     ]
    }
   ],
   "source": [
    "url=\"https://kallelay.eu.pythonanywhere.com/predict\"\n",
    "results = requests.post(url, json=test_1).json()\n",
    "print(\"Stroke prediction for person 1 : %d\" % results[\"stroke_predict\"])\n",
    "results = requests.post(url, json=test_2).json()\n",
    "print(\"Stroke prediction for person 2 : %d\" % results[\"stroke_predict\"])"
   ]
  }
 ],
 "metadata": {
  "interpreter": {
   "hash": "fe44fef87f92f48a3a32707d0df204585f471652bc0ce87358a3ce712bc24db0"
  },
  "kernelspec": {
   "display_name": "Python 3",
   "language": "python",
   "name": "python3"
  },
  "language_info": {
   "codemirror_mode": {
    "name": "ipython",
    "version": 3
   },
   "file_extension": ".py",
   "mimetype": "text/x-python",
   "name": "python",
   "nbconvert_exporter": "python",
   "pygments_lexer": "ipython3",
   "version": "3.8.8"
  }
 },
 "nbformat": 4,
 "nbformat_minor": 2
}
